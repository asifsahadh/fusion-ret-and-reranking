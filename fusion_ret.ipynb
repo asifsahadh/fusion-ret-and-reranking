{
 "cells": [
  {
   "cell_type": "markdown",
   "id": "7acb9a8d",
   "metadata": {},
   "source": [
    "## **Fusion Retrieval based RAG** "
   ]
  },
  {
   "cell_type": "markdown",
   "id": "2b9ea273",
   "metadata": {},
   "source": [
    ">_**Your expectations for Fusion Retrieval with the provided manual.**_<br><br>\n",
    "Due to the hybrid nature of both worlds, semantic matching and keyword matching, I expect this architecture to be quite robust compared to vanilla RAG. Both has its benefits when it comes to information retrieval and I would argue that this architecture would outperform the Reranking RAG architecture."
   ]
  },
  {
   "cell_type": "markdown",
   "id": "0ed642b2",
   "metadata": {},
   "source": [
    ">**_How you planned to test and compare these techniques._**<br><br>\n",
    "><img src=\"./fr.jpeg\" alt=\"Flowchart\" width=\"700\" /><br><br>\n",
    ">The main approach taken here is where the chunks are made into two copies, one is semantic based (using BERT), and the other is keyword based (BM25). After the top-k chunks are retrieved from both, a union is taken. Next, this final set of chunks are again made into 2 copies of BERT based embeddings and BM25 based inverted indexes. The query is passed into both structures and the scores are retrieved for each chunk. This gives us a table of chunk IDs, BERT scores, BM25 scores and the final fusion score. This is the main idea and the process goes as follows:<br><br>\n",
    ">Initially, the document data is extracted, specifically text and tabular data. Next, these data are stored in a way where the sequence is maintained, that way there will be more context for a certain text that may have a table before or after it. This set is chunked and converted BERT based vector embeddings and also BM25 based representations. Now the query is also converted to BERT based embeddings and BM25 based representations and the top-k chunks are retrieved for both. A union is taken between the retrieved chunks to avoid overlaps.<br><br>\n",
    ">Next, this final set of chunks are again made into 2 copies of BERT based embeddings and BM25 based inverted indexes. The query is passed into both structures and the scores are retrieved for each chunk. This gives us a table of chunk ID, BERT scores, BM25 scores and the final fusion score. Based on this fusion score, the top-k chunks are retrieved (5 chosen here). This, along with the original query is passed into an LLM for refined response."
   ]
  },
  {
   "cell_type": "markdown",
   "id": "1469864b",
   "metadata": {},
   "source": [
    ">_**Comparison Strategy**_<br><br>\n",
    ">Now there are 2 main ways in which we can compare this model with the Fusion Retrieval model, by assessing the top retrieved chunks and also by assessing the final response from the LLM. This will be done at the end."
   ]
  },
  {
   "cell_type": "markdown",
   "id": "6756d5e7",
   "metadata": {},
   "source": [
    "---"
   ]
  },
  {
   "cell_type": "markdown",
   "id": "0c42e185",
   "metadata": {},
   "source": [
    "#### Import libraries"
   ]
  },
  {
   "cell_type": "code",
   "execution_count": 84,
   "id": "b912bffb",
   "metadata": {},
   "outputs": [],
   "source": [
    "import fitz # for text extraction\n",
    "import camelot # for table extraction\n",
    "from pathlib import Path\n",
    "from sentence_transformers import SentenceTransformer, util # for semantic vector embedding creation \n",
    "from rank_bm25 import BM25Okapi # for bm25 implementation\n",
    "import numpy as np\n",
    "from groq import Groq\n",
    "import os\n",
    "import time\n",
    "import warnings\n",
    "import requests\n",
    "warnings.filterwarnings('ignore') "
   ]
  },
  {
   "cell_type": "markdown",
   "id": "0abaeb13",
   "metadata": {},
   "source": [
    "#### 1. Function to extract texts & tables from PDF\n",
    "The goal is to preserve the sequence, that way there will be more context for a certain text that may have a table before or after it."
   ]
  },
  {
   "cell_type": "code",
   "execution_count": null,
   "id": "b0193147",
   "metadata": {},
   "outputs": [],
   "source": [
    "def extract_text_and_tables(pdf_path):\n",
    "\n",
    "    pdf_file = Path(pdf_path)\n",
    "    if not pdf_file.is_file() or pdf_file.suffix.lower() != \".pdf\":\n",
    "        raise FileNotFoundError(\"Provided file path is not a valid PDF.\")\n",
    "\n",
    "    doc = fitz.open(str(pdf_file))\n",
    "    result = []\n",
    "\n",
    "    for page_num, page in enumerate(doc, start=1):\n",
    "        page_blocks = []\n",
    "\n",
    "        blocks = page.get_text(\"dict\")[\"blocks\"]\n",
    "        for block in blocks:\n",
    "            if block[\"type\"] == 0:\n",
    "                text_content = \" \".join(\n",
    "                    span[\"text\"] for line in block[\"lines\"] for span in line[\"spans\"]\n",
    "                ).strip()\n",
    "                if text_content:\n",
    "                    y = block[\"bbox\"][1]\n",
    "                    page_blocks.append({\n",
    "                        \"type\": \"text data\",\n",
    "                        \"y\": y,\n",
    "                        \"content\": text_content\n",
    "                    })\n",
    "\n",
    "        try:\n",
    "            tables = camelot.read_pdf(str(pdf_file), pages=str(page_num), flavor='lattice')\n",
    "        except Exception as e:\n",
    "            print(f\"Failed to read tables on page {page_num}: {e}\")\n",
    "            tables = []\n",
    "\n",
    "        for table in tables:\n",
    "            table_data = table.data\n",
    "            bbox = table._bbox\n",
    "            y = float(bbox[1])\n",
    "            page_blocks.append({\n",
    "                \"type\": \"table data\",\n",
    "                \"y\": y,\n",
    "                \"content\": table_data\n",
    "            })\n",
    "\n",
    "        page_blocks.sort(key=lambda b: b[\"y\"])\n",
    "        result.extend(page_blocks)\n",
    "\n",
    "    return result\n",
    "\n",
    "result = extract_text_and_tables(\"manual.pdf\")"
   ]
  },
  {
   "cell_type": "code",
   "execution_count": 43,
   "id": "005acbed",
   "metadata": {},
   "outputs": [
    {
     "data": {
      "text/plain": [
       "[{'type': 'text',\n",
       "  'y': 145.75482177734375,\n",
       "  'content': 'Follow the instructions contained herein, in addition to the general precautions to be observed while working. Even if the operator is already familiar with the use of manually operated lathes, it is necessary to: In particular:'},\n",
       " {'type': 'text', 'y': 173.48190307617188, 'content': 'fervi.com'},\n",
       " {'type': 'text',\n",
       "  'y': 188.8348388671875,\n",
       "  'content': '\\uf0b7 Acquire full knowledge of the machine. For safe operation, this manual must be read carefully in order to acquire the necessary knowledge of the machine and to understand: operation, safety devices and all necessary precautions. \\uf0b7 Wear appropriate clothing for the job. The operator must wear appropriate clothing to prevent accidents. \\uf0b7 Maintain the machine with care.'},\n",
       " {'type': 'text',\n",
       "  'y': 312.05987548828125,\n",
       "  'content': 'Risks associated with using the machine'},\n",
       " {'type': 'text',\n",
       "  'y': 342.43487548828125,\n",
       "  'content': 'The machine must only be used by personnel who have been specially trained by authorized personnel.'}]"
      ]
     },
     "execution_count": 43,
     "metadata": {},
     "output_type": "execute_result"
    }
   ],
   "source": [
    "# few elements from the extracted data\n",
    "result[100:105]"
   ]
  },
  {
   "cell_type": "code",
   "execution_count": 44,
   "id": "27150c7c",
   "metadata": {},
   "outputs": [
    {
     "data": {
      "text/plain": [
       "{'type': 'table',\n",
       " 'y': 91.1826731262468,\n",
       " 'content': [['Description (unit of measurement)', 'T999/230V\\nT999/400V'],\n",
       "  ['Centres distance (mm)', '1000'],\n",
       "  ['Spindle hole diameter (mm)', '38'],\n",
       "  ['Maximum swing over the bed (mm)', '320'],\n",
       "  ['Maximum swing over the cross slide (mm)', '198'],\n",
       "  ['Turning diameter over cavity (mm)', ''],\n",
       "  ['Spindle diameter (3 + 3 self centring) (mm)', ''],\n",
       "  ['Spindle connector', ''],\n",
       "  ['No. of spindle speeds', 'm'],\n",
       "  ['Spindle speed (r/min)', ''],\n",
       "  ['No. of metric threads', ''],\n",
       "  ['Range of metric threads (mm)', 'o'],\n",
       "  ['No. of inch threads', ''],\n",
       "  ['Range of inch threads (mm)', ''],\n",
       "  ['Range of longitudinal\\nfeeds (mm)', '00.78- 1.044\\nc'],\n",
       "  ['Range of transverse feeds (mm)', '0.022- 0.298'],\n",
       "  ['Outer diameter of the feed screw (mm)\\n.', '22'],\n",
       "  ['Guide length (mm)\\ni', '1390'],\n",
       "  ['Cross carriage travel (mm)\\nv', '200'],\n",
       "  ['Tailstock sleeve diameter (mm)', '32'],\n",
       "  ['Maximum travel of the tailstock sleeve (mm)\\nr', '80'],\n",
       "  ['Inner taper', 'CM 5'],\n",
       "  ['Tailstock base length (mm)\\ne', '165'],\n",
       "  ['Tailstock base width (mm)', '125'],\n",
       "  ['Steady rest diameter (mm)\\nf', '120'],\n",
       "  ['Dimensions (W x D x H) (mm)', '1820 x 530 x 1350'],\n",
       "  ['Package dimensions (W x D x H) (mm)', '1920 x 840 x 1560'],\n",
       "  ['Weight of machine (kg)', '520'],\n",
       "  ['Voltage / power supply frequency (V / Hz)', '230/50.\\n400 / 50'],\n",
       "  ['Motor power (W)', '1500/1800'],\n",
       "  [\"Acoustic pressure level at operator's workstation\\n(dB(A))\", '84']]}"
      ]
     },
     "execution_count": 44,
     "metadata": {},
     "output_type": "execute_result"
    }
   ],
   "source": [
    "# sample table data\n",
    "result[156]"
   ]
  },
  {
   "cell_type": "code",
   "execution_count": null,
   "id": "b1f23a60",
   "metadata": {},
   "outputs": [],
   "source": [
    "# list formatting by adding labels for text and table\n",
    "final = []\n",
    "for r in result:\n",
    "    s = f\"{r['type']}: {r['content']}\"\n",
    "    final.append(s)"
   ]
  },
  {
   "cell_type": "code",
   "execution_count": 64,
   "id": "15f0b6f9",
   "metadata": {},
   "outputs": [
    {
     "data": {
      "text/plain": [
       "'table - [[\\'Description (unit of measurement)\\', \\'T999/230V\\\\nT999/400V\\'], [\\'Centres distance (mm)\\', \\'1000\\'], [\\'Spindle hole diameter (mm)\\', \\'38\\'], [\\'Maximum swing over the bed (mm)\\', \\'320\\'], [\\'Maximum swing over the cross slide (mm)\\', \\'198\\'], [\\'Turning diameter over cavity (mm)\\', \\'\\'], [\\'Spindle diameter (3 + 3 self centring) (mm)\\', \\'\\'], [\\'Spindle connector\\', \\'\\'], [\\'No. of spindle speeds\\', \\'m\\'], [\\'Spindle speed (r/min)\\', \\'\\'], [\\'No. of metric threads\\', \\'\\'], [\\'Range of metric threads (mm)\\', \\'o\\'], [\\'No. of inch threads\\', \\'\\'], [\\'Range of inch threads (mm)\\', \\'\\'], [\\'Range of longitudinal\\\\nfeeds (mm)\\', \\'00.78- 1.044\\\\nc\\'], [\\'Range of transverse feeds (mm)\\', \\'0.022- 0.298\\'], [\\'Outer diameter of the feed screw (mm)\\\\n.\\', \\'22\\'], [\\'Guide length (mm)\\\\ni\\', \\'1390\\'], [\\'Cross carriage travel (mm)\\\\nv\\', \\'200\\'], [\\'Tailstock sleeve diameter (mm)\\', \\'32\\'], [\\'Maximum travel of the tailstock sleeve (mm)\\\\nr\\', \\'80\\'], [\\'Inner taper\\', \\'CM 5\\'], [\\'Tailstock base length (mm)\\\\ne\\', \\'165\\'], [\\'Tailstock base width (mm)\\', \\'125\\'], [\\'Steady rest diameter (mm)\\\\nf\\', \\'120\\'], [\\'Dimensions (W x D x H) (mm)\\', \\'1820 x 530 x 1350\\'], [\\'Package dimensions (W x D x H) (mm)\\', \\'1920 x 840 x 1560\\'], [\\'Weight of machine (kg)\\', \\'520\\'], [\\'Voltage / power supply frequency (V / Hz)\\', \\'230/50.\\\\n400 / 50\\'], [\\'Motor power (W)\\', \\'1500/1800\\'], [\"Acoustic pressure level at operator\\'s workstation\\\\n(dB(A))\", \\'84\\']]'"
      ]
     },
     "execution_count": 64,
     "metadata": {},
     "output_type": "execute_result"
    }
   ],
   "source": [
    "# table data sample after flattening\n",
    "final[156]"
   ]
  },
  {
   "cell_type": "markdown",
   "id": "4467abf8",
   "metadata": {},
   "source": [
    "It can be seen that the flattened version somewhat preserves the structure of the actual table by keeping each row inside a list. The LLM can hopefully understand this due to the presence of the label 'table' at the start."
   ]
  },
  {
   "cell_type": "markdown",
   "id": "76e902c0",
   "metadata": {},
   "source": [
    "### 2. Chunking"
   ]
  },
  {
   "cell_type": "code",
   "execution_count": 65,
   "id": "568a02b7",
   "metadata": {},
   "outputs": [
    {
     "name": "stdout",
     "output_type": "stream",
     "text": [
      "Number of chunks: 46\n"
     ]
    }
   ],
   "source": [
    "chunked_final = [\"\".join(final[i:i+10]) for i in range(0, len(final), 30)]\n",
    "print(f\"Number of chunks: {len(chunked_final)}\")"
   ]
  },
  {
   "cell_type": "markdown",
   "id": "09cc45c9",
   "metadata": {},
   "source": [
    "### 3. Creating semantic vector embeddings and BM25 inverted index"
   ]
  },
  {
   "cell_type": "code",
   "execution_count": null,
   "id": "d7480db1",
   "metadata": {},
   "outputs": [],
   "source": [
    "# for bert\n",
    "model = SentenceTransformer('sentence-transformers/all-mpnet-base-v2')\n",
    "sem_embs = model.encode(chunked_final, convert_to_tensor = True)"
   ]
  },
  {
   "cell_type": "code",
   "execution_count": null,
   "id": "d990dbf4",
   "metadata": {},
   "outputs": [],
   "source": [
    "# for bm25\n",
    "tokenized_corpus = [doc.split() for doc in chunked_final]\n",
    "bm25 = BM25Okapi(tokenized_corpus)"
   ]
  },
  {
   "cell_type": "markdown",
   "id": "0d2c06f4",
   "metadata": {},
   "source": [
    "### 4. Pipeline to return indeces of top-k chunks that match with the query"
   ]
  },
  {
   "cell_type": "code",
   "execution_count": null,
   "id": "0789fe05",
   "metadata": {},
   "outputs": [],
   "source": [
    "def bert_query_pipeline(query, top_k = 25):\n",
    "     \n",
    "    device = sem_embs.device\n",
    "    query_embedding = model.encode(query, convert_to_tensor = True)\n",
    "    cosine_scores = util.cos_sim(query_embedding, sem_embs)[0] # cosine similarity\n",
    "    top_indices = np.argsort(cosine_scores.cpu().numpy())[::-1][:top_k]\n",
    "\n",
    "    return top_indices"
   ]
  },
  {
   "cell_type": "code",
   "execution_count": null,
   "id": "4542345f",
   "metadata": {},
   "outputs": [],
   "source": [
    "def bm25_query_pipeline(query, top_k = 25):\n",
    "\n",
    "    tokenized_query = query.split()\n",
    "    bm25_scores = bm25.get_scores(tokenized_query) # tf-idf like scoring\n",
    "    top_indices = np.argsort(bm25_scores)[::-1][:top_k]\n",
    "\n",
    "    return top_indices"
   ]
  },
  {
   "cell_type": "code",
   "execution_count": null,
   "id": "a7364490",
   "metadata": {},
   "outputs": [
    {
     "data": {
      "text/plain": [
       "['text - OPERATION AND MAINTENANCE MANUALtext - fervi.comtext - Bench Lathe Art. T999/230V – T999/230V3Atext - Art. T999/400V - T999/400V3Atext - TRANSLATION OF THE ORIGINAL INSTRUCTIONStext - MACHINES AND ACCESSORIEStext - PREFACEtext - Please ensure you have read this manual before operationtext - fervi.comtext - TRANSLATION OF THE ORIGINAL INSTRUCTIONS It is compulsory to read this instruction manual before starting operation. The guarantee of smooth operation and full performance of the machine is highly dependent on the application of all the instructions contained in this manual.',\n",
       " 'text - 2.4 Other provisions ...........................................................................................................9text - 3 TECHNICAL SPECIFICATIONS .................................................................10text - 4 DESCRIPTION OF THE MACHINE .............................................................11text - 4.1 Intended use and field of application..........................................................................11text - 4.2 Description of the main parts......................................................................................13 4.2.1 Supporting table ...................................................................................................... 14 4.2.2 Head and spindle ..................................................................................................... 14 4.2.3 Spindle speed adjustment levers................................................................................ 14 4.2.4 Feed speed adjustment panel .................................................................................... 15 4.2.5 Tool holder carriage ................................................................................................. 15 4.2.6 Tailstock ................................................................................................................. 15 4.2.7 Steady rest ............................................................................................................. 16 4.2.8 Electric control panel ................................................................................................ 16 4.2.9 Pedal brake............................................................................................................. 16 4.2.10 Rotation reverse lever .............................................................................................. 17text - 4.3 Identification plate .....................................................................................................17text - 4.4 Pictograms and plates.................................................................................................18text - 5 MACHINE SAFETY DEVICES.....................................................................19text - 5.1 Electrical safety devices..............................................................................................19text - 5.2 Mechanical Safety Devices ..........................................................................................20',\n",
       " 'text - 10 OPERATION..........................................................................................46text - 10.1 Automatic Feed Tool Carriage ..................................................................................49text - 11 MAINTENANCE .....................................................................................51text - 11.1 Lubrication...............................................................................................................52text - 11.2 Periodic checks ........................................................................................................54text - 11.3 Adjusting the Machine .............................................................................................54 11.3.1 Adjusting the tension of the motor belts ..................................................................... 54 11.3.2 Tailstock alignment .................................................................................................. 55 11.3.3 Spindle alignment .................................................................................................... 55 11.3.4 Adjusting the slack of the gears................................................................................. 56text - 12 REPLACEMENT PARTS...........................................................................57text - 12.1 ACCESSORIES SUPPLIED..........................................................................................80text - 13 DISPOSAL OF PARTS AND MATERIALS .................................................81text - 14 TROUBLESHOOTING .............................................................................82',\n",
       " 'text - The following boxes are designed to attract the attention of the reader / user for the  proper and  safe  use of the machine:text - Pay Attentiontext - This highlights behavioural rules to prevent damage to the machine and/or the occurrence of dangerous  sit u at ions.text - Residual Riskstext - This highlights the presence of dangers that cause residual risks to which the operator must pay attentio n  i n  order to avoid injury or damage to property.text - Page 6 of 84text - MACHINES ANDtext - ACCESSORIEStext - 2 GENERAL SAFETY WARNINGStext - 2.1 General safety rules for machine equipment',\n",
       " \"text - avoid risky and unnecessary overloading for the operator, which may be harmful for the life of the tools themselves. 16. Do not pick up moving tools or other moving parts. To stop the moving parts on thetext - machine, always only use the stop command device. 17. Before performing any measurement of the workpiece mounted on the spindle, turn thetext - motor off, unplug it and wait for the spindle to stop. 18. Do not remove the shavings with your hands, even at a standstill. To do this, use tongstext - or a palette knife. 19. When the work tools need to be replaced or the speed needs to be changed, stop thetext - motor and wait for the spindle to stop. 20. Do not move away from the machine until the tools and other moving parts, havetext - completely stopped. 21. After the work is completed, clean the tool and check its efficiency. 22. Replace worn and/or damaged parts, check that the repairs and protections worktext - properly before operating. Eventually, if necessary, have it checked by Service staff. Use only original spare parts. 23.  Unplug the power cord of the machine from the power outlet when:text - \\uf0b7 the machine is not being operated; \\uf0b7 it is left unattended; \\uf0b7 performing maintenance or registration, because the machine does not work properly; \\uf0b7 the power cable is damaged; \\uf0b7 the tool is replaced; \\uf0b7 it is being moved or transported; \\uf0b7 during cleaning operations. 24. It is recommended that users of this publication, for maintenance and repair, have atext - basic knowledge of the mechanical principles and procedures inherent in repair technique. 25.  The company safety officer is required to make sure that machine operatorstext - have read and understood this manual in its entirety. 26.  Management is responsible for safety and verification of the company's risk\",\n",
       " 'text - Check the presence and integrity of protective devices and the proper functioning of safety devices before starting operation.text - If any defect is detected, do not use the Gear head lathe!text - It is strictly forbidden to modify or remove guards, safety devices, labels and information plates on the machine.text - Page 9 of 84text - MACHINES AND ACCESSORIEStext - 3  TECHNICAL SPECIFICATIONStable - [[\\'Description (unit of measurement)\\', \\'T999/230V\\\\nT999/400V\\'], [\\'Centres distance (mm)\\', \\'1000\\'], [\\'Spindle hole diameter (mm)\\', \\'38\\'], [\\'Maximum swing over the bed (mm)\\', \\'320\\'], [\\'Maximum swing over the cross slide (mm)\\', \\'198\\'], [\\'Turning diameter over cavity (mm)\\', \\'\\'], [\\'Spindle diameter (3 + 3 self centring) (mm)\\', \\'\\'], [\\'Spindle connector\\', \\'\\'], [\\'No. of spindle speeds\\', \\'m\\'], [\\'Spindle speed (r/min)\\', \\'\\'], [\\'No. of metric threads\\', \\'\\'], [\\'Range of metric threads (mm)\\', \\'o\\'], [\\'No. of inch threads\\', \\'\\'], [\\'Range of inch threads (mm)\\', \\'\\'], [\\'Range of longitudinal\\\\nfeeds (mm)\\', \\'00.78- 1.044\\\\nc\\'], [\\'Range of transverse feeds (mm)\\', \\'0.022- 0.298\\'], [\\'Outer diameter of the feed screw (mm)\\\\n.\\', \\'22\\'], [\\'Guide length (mm)\\\\ni\\', \\'1390\\'], [\\'Cross carriage travel (mm)\\\\nv\\', \\'200\\'], [\\'Tailstock sleeve diameter (mm)\\', \\'32\\'], [\\'Maximum travel of the tailstock sleeve (mm)\\\\nr\\', \\'80\\'], [\\'Inner taper\\', \\'CM 5\\'], [\\'Tailstock base length (mm)\\\\ne\\', \\'165\\'], [\\'Tailstock base width (mm)\\', \\'125\\'], [\\'Steady rest diameter (mm)\\\\nf\\', \\'120\\'], [\\'Dimensions (W x D x H) (mm)\\', \\'1820 x 530 x 1350\\'], [\\'Package dimensions (W x D x H) (mm)\\', \\'1920 x 840 x 1560\\'], [\\'Weight of machine (kg)\\', \\'520\\'], [\\'Voltage / power supply frequency (V / Hz)\\', \\'230/50.\\\\n400 / 50\\'], [\\'Motor power (W)\\', \\'1500/1800\\'], [\"Acoustic pressure level at operator\\'s workstation\\\\n(dB(A))\", \\'84\\']]text - Description (unit of measurement) T999/230V T999/400Vtext - Centres distance (mm) 1000text - Spindle hole diameter (mm) 38',\n",
       " \"text - Tailstock base length (mm) 165text - Tailstock base width (mm) 125text - Steady rest diameter (mm) 120text - Dimensions (W x D x H) (mm) 1820 x 530 x 1350text - Package dimensions (W x D x H) (mm) 1920 x 840 x 1560text - Weight of machine (kg) 520text - Voltage / power supply frequency (V / Hz) 230/50. 400 / 50text - Motor power (W) 1500/1800text - Acoustic pressure level at operator's workstation (dB(A)) 84text - Page 10 of 84\",\n",
       " 'text - The operating temperature range is -20 to +50°C.text - fervi.comtext - The environment must also be sufficiently illuminated so as to ensure operation in maximum safety (at least 200 lux is recommended).text - There are two main groups within the Lathe (see figure 1):text - \\uf0b7 The spindle shaft unit; \\uf0b7 The sliding tool holder unit.text - The first is constituted by the spindle, which is made integral with the workpiece, and by the components that transmit motion from the motor to the spindle.text - The second is constituted by the components that transmit motion to the slide, which guides the tool in the feeding motion and movement of the workpiece.text - Figure 1 – Typical main groups of the bench lathe.text - Page 12 of 84text - MACHINES AND',\n",
       " 'text - Figure 5 – Speedtext - adjustment.text - 4.2.5 Tool holder carriagetext - The carriage sliding along the rails of the bed is used to hold, position and feed the tool. The various parts (see figure 6), are made of cast iron, with hardened and ground guides for greater stability. The carriage is equipped with an independent system that ensures the lubrication of the moving parts. The handwheels to move the carriage and the levers are easy to reach and easy to use.text - Figure 6 – Tool holdertext - carriage.text - 4.2.6 Tailstocktext - The tailstock (see figure 7) is constituted by a cast iron body that ensures rigidity and stability in any conditions of use. The tailstock body is equipped with a locking system on the lathe guides, with a lever. An adjustment screw, allows axial alignment of the tailstock to be achieved. Inside a steel sleeve has been fitted. Movement is applied via a handle equipped with a micrometer.text - Figure 7 – Tailstock.text - Page 15 of 84',\n",
       " \"text - Figure 11 – Identification plate.text - Page 17 of 84text - MACHINES AND ACCESSORIEStext - 4.4 Pictograms and platestext - C AUTION AND WARNING PICTOGRAMS . The following pictogram has been applied to the side of the electrical panel:table - [['PLATE IN ITALIAN', '', '', '', '', '', '', '', ''], ['', '', '', '', '', '', '', '', ''], ['', 'ATTENZIONE\\\\nÈ VIETATO ESEGUIRE LAVORI SU\\\\nAPPARECCHIATURE ELETTRICHE SOTTO\\\\nTENSIONE', '', '', '', '', '', '', ''], ['', '', '', '', '', 'm', '', '', ''], ['', '', '', '', '', '', '', '', ''], ['', '', '', '', '', 'IT IS PROHIBITED TO WORK ON LIVE ELECTRICAL', '', '', ''], ['', '', '', '', '', 'ANY EXCEPTIONS MUST BE APPROVED BY THE HEAD\\\\nONLY BEGIN WORKING WHEN SAFETY MEASURES\\\\nIn accordance with Legislative Decree 81/08 on accident\\\\no', '', '', ''], ['', 'EVENTUALI DEROGHE DEVONO ESSERE\\\\n\\\\uf0b7\\\\nAUTORIZZATE DAL CAPO RESPONSABILE\\\\nIN CONDIZIONI DI PARTICOLARE PERICOLO DEVE\\\\n\\\\uf0b7\\\\nESSERE PRESENTE UN’ALTRA PERSONA OLTRE A CHI\\\\nESEGUE IL LAVORO\\\\nINIZIARE I LAVORI SOLO AD AVVENUTA\\\\nATTAZIONE DELLE MISURE DI SICUREZZA\\\\nIn ottemperanza al Dgs.81/08 relativo alla prevenzioni\\\\ninfortuni', '', '', '', '', '', '', ''], ['', '', '', '', '', '', '', '', ''], ['', '', '', 'c\\\\n.\\\\ni\\\\nv\\\\nr\\\\ne', '', '', '', '', ''], ['', '', 'NON\\\\nRIMUOVERE\\\\nI DISPOSITIVI DI\\\\nSICUREZZA', '', '', '', '', '', ''], ['', '', '', '', '', '', 'DO NOT\\\\nREMOVE\\\\nTHE SAFETY DEVICES', '', ''], ['', '', '', '', '', '', '', '', ''], ['', '', '', '', '', '', '', '', ''], ['', '', 'f', '', '', '', '', '', ''], ['', '', '', '', '', '', '', '', '']]text - \\uf0b7 Hazard / warning plate.text - Prohibitive warning for carrying out work on live equipment. \\uf0b7 Hazard plate. \\uf0b7 The removal of safety guards is forbidden. \\uf0b7 Electrical hazard symboltext - fervi.comtext - PLATE IN ITALIAN PLATE IN ENGLISH\",\n",
       " \"text - Figure 12 - Pictogramstext - Page 18 of 84text - MACHINES ANDtext - ACCESSORIEStext - 5 MACHINE SAFETY DEVICEStext - 5.1 Electrical safety devicestext - The electrical circuit of the lathe is equipped with a  rotary main switch  with a safety key (see chapter 9.1 of this manual). This prevents the danger of unwanted and/or accidental starts of the machine, since the switch can only be activated through a voluntary action suitable for the given purpose and if a suitable key is available. The machine is also equipped with an  emergency stop button  (mushroom type). In an emergency, if pressure is applied to the mushroom button, the dangerous functions stop. The electric control panel is powered by 24V DC voltage; the presence of a  transformer minimises the the danger of electrocution. The Lathe's power supply connection must be equipped with a  grounding conductor according to regulations.text - fervi.comtext - Electric Shocktext - Improper connection of the Lathe and/or the grounding conductor can result in the risk of electric sho ck .\",\n",
       " 'text - \\uf0b7 Touching the machine with wet and/or damp hands.text - \\uf0b7 Using the machine when barefoot.text - \\uf0b7 Exposing the machine to the elements (sun, rain, hail, etc..).text - \\uf0b7 Using jets of watertext - \\uf0b7 Using the machine without fastening it securely.text - \\uf0b7 Cleaning and/or maintaining the machine without fastening it securely.text - \\uf0b7 Installing and using the machine on surfaces that are not sufficiently flat and smooth.text - \\uf0b7 Installing and using the machine on surfaces that are not hard and strong enough to support its weight.text - \\uf0b7 Install in g and using the machine outdoors.text - Page 22 of 84',\n",
       " 'text - Make sure that the harnessing accessories are not touching the guide rails and the lead screw, which could   be  d amaged beyond repair.text - 1. Attach the hook of the lifting equipment (cranes, hoists, etc..) in the centre of harnesstext - accessories (between the two side ends) and lift slowly and smoothly.text - The manufacturer declines all responsibility for any damage to people and/or objects caused by the improper lifting of the machine performed by unsuitable personnel, with inappropriate lifting means and without following the instructions in this manual.text - 7.2 Transportationtext - The transport of the machine can be carried out through the aid of vehicles and/or industrial transportation vehicles, such as trucks, with containers of sufficient size to hold the machine itself. The machine must be suitably anchored to the means of transport (for example, through the aid of ropes). During transport, the machine must be protected from rain, snow, hail, wind, and any other adverse weather conditions. In this regard, it is advisable to use means of transport with closed compartments (vans, trucks etc.) or possibly covered with tarpaulin.text - 7.3 Warehouse storagetext - In the event that the machine is to be stored and unused for some time before being put into service again, proceed as follows: 1. Disconnect the power supply cable; 2. Protect the machined parts (such as the guides, the carriage and the tool holder slides,text - spindle, the tailstock quill etc..) with protective liquid and/or grease; 3. Store in a dry place, free from dust and contaminating agents. Climatic conditionstext - recommended for storage: Temperature:  - 15° / + 55° C; Humidity:  95% (non-condensing).',\n",
       " 'text - 8.3 Levelling the machinetext - For this operation, it is recommended to use a precision spirit level (0.001 mm).text - 8.3.1 Preliminary phasetext - The preliminary phase serves to eliminate the presence of torsions in the lathe table. Proceed to reset the head by adjusting the relative screws and then locking the tailstock with the relative adjustment screws moving the reference mark to zero.text - fervi.comtext - 8.3.2 Transverse levelling of the tabletext - Position the spirit level in a transverse direction on the lathe guides under the spindle and check the bubble. Position the spirit level in a transverse direction on the table guides under the tailstock and check the bubble. Repeat these operations frequently and, if necessary, make small corrections by screwing and/or unscrewing the adjustable feet below the pallet.text - 8.3.3 Levelling the lathe railstext - Place the level on the sides of the carriage and move it slowly along its entire length while checking that the bubble does not change. If the bubble moves, adjust the adjustable feet until it reaches a uniform level throughout the entire course of the carriage. Periodically check these measurements (at least every six months).text - Levelling the machine perfectly is one of the first and most essential steps to carry out before using the machine.',\n",
       " 'text - fervi.comtext - The main switch with safety key is located on the left side of the electric panel, and it is useful to prevent unauthorised use of the machine. To power the machine (see  Figure 16 ), in fact, it is necessary to: \\uf0b7 insert the safety key into the lock to the left of the switch (marked R.L.); \\uf0b7 turn the key clockwise and simultaneously turn the main switch to \"I\", by turning it clockwise.text - Figure 16 - Main switch.text - Confirm the white power light has turned on, found on the electrical panel (marked POWER).text - 9.1.2 Electric and control panel buttons and lightstext - Figure 17 – Electrical and control panel.text - The electrical panel has the following controls: \\uf0b7 RED MUSHROOM :  Emergency button (red mushroom). \\uf0b7 WHITE WARNING LIGHT :  Indicates the presence of voltage \\uf0b7 BLACK SELECTOR :  Coolant pump selector \\uf0b7 GREEN BUTTON  : Gears application buttontext - Page 28 of 84text - MACHINES ANDtext - ACCESSORIES',\n",
       " \"text - fervi.comtext - Ftable - [['']]text - Itext - Htext - Gtext - Figure 19 - Feed adjustment knobs.text - The panel for automatic feed speed adjustment (see  Figure 19 ), is positioned at the left part of the machine, under the spindle rotation speed adjustment panel. The different speeds are selected via 4 knob switches which control the gear speed change (ref.  F ,  G ,  H ,  I  in  Figure 19 ). There is also a fifth knob for selecting the feed direction of the carriage (ref.  E  in  Figure 19 ).text - Threading To make a thread: Operate the knob (I), insert the bar for threading in 4 positions (see Figure 20 );table - [['E'], [''], [''], ['']]\",\n",
       " 'text - Ltext - Itext - Figure 22 – Lever and handwheel of the carriage.text - (I) Split casing lever :  See section 9.2.3. (J) Lever for selection of transverse or longitudinal feeds:  The lever selects the type of automatic feed desired. To operate the transverse feed, forward and backward, move the lever to the right (toward the tailstock), to operate the longitudinal feed, left and right, move the lever to the left (toward the spindle). (K) Handwheel for longitudinal displacement of the tool holder slide:  The handwheel allows the quick longitudinal displacement, to the right and left, of the tool holder slide. To move the slide to the left (towards the spindle), turn the handwheel clockwise and vice versa to move the slide to the right (towards the tailstock), rotate the handwheel anticlockwise. (L) Handwheel for longitudinal movement of the carriage:  The handwheel allows the quick longitudinal displacement, to the right and left, of the tool holder carriage. To move the carriage to the right (towards the tailstock), turn the handwheel clockwise and vice versa to move the carriage to the left (towards the spindle), rotate the handwheel anticlockwise. (M) Handwheel for transversal displacement of the tool holder slide:  The handwheel allows the transversal displacement, forward and backward, of the tool holder slide. To move the slide forward (towards the workpiece), turn the handwheel clockwise and vice versa to move the slide backward (towards the operator), rotate the handwheel anticlockwise. (N) Handwheel for longitudinal displacement of the tool holder slide:  The handwheel allows the quick longitudinal displacement, to the right and left, of the tool holder slide. To move the slide to the left (towards the spindle), turn the handwheel clockwise and vice versa to move the slide to the right (towards the tailstock), rotate the handwheel anticlockwise. (P) Tool locking lever:  The lever allows locking of the cutting tool, to the tool holder base (turret).text - Page 32 of 84text - MACHINES ANDtext - ACCESSORIEStext - (Q) Lever for activating and selecting the direction of rotation of the electric motor:  The lever selects activation and the direction of rotation of the electric motor and the other rotating parts (spindle). Move the lever down to rotate the spindle clockwise, move the lever up to turn the spindle anti-clockwise. The central location \"0\", puts the spindle in neutral.text - fervi.comtext - Figure 23 - Close-up of the',\n",
       " 'text - At the front there are all the programming keys of the panel, while at the rear there are 1) on / off switch (I/0); 2) the three data cables, in order from top to bottom X Axis - Y Axis - Z Axis, from the sensors placed on the tool holder carriage; 3) the power supply cable. At the time of purchase, the display must be installed on the left side of the lathe, using the bracket supplied. The power cord must be connected to a 230V / 50 Hz plug equipped with a grounding conductor.text - Page 34 of 84text - MACHINES ANDtext - ACCESSORIEStext - Data cable connectionstext - Pay attention to the correct connection of the data cables. If reversed   th e y   can cause erroneous readings by the digital display.text - fervi.comtext - The display can be rotated and tilted to allow the data to be viewed at any time. Rotation is achieved by simply moving it with one hand, and to adjust the angle, loosen the bolt located just below the power cord, tilt the panel and then retighten the bolt.text - Figure 27 – Panel adjustmenttext - 9.4.1 Using the display',\n",
       " 'text - In this way, the desired resolution is set for the X axis, using the numbers on the panel according to the following scheme:text - Button 0 1 2 5 7 8 9text - Resolution (µm) 10 1 2 5 0.1 0.2 0.5text - \\uf0f2 ENTtext - - After choosing the resolution press the button then to move to the next step.text - - To set the resolution  o f  t h e  Y   axes and (Z if used), proceed as described abovetext - for the X axistext - Page 36 of 84text - MACHINES ANDtext - ACCESSORIES',\n",
       " 'text - Button Machinetext - 0 Multifunction milling machinetext - 1 Universal milling machinetext - 2 Process unloadertext - 3 Lathetext - \\uf0f2 ENTtext - - Press the buttons and to move to the next step.text - - As you are using the  l a t h e,  s e lect number 3, then the instrument will displaytext - only the X and Y dimensions necessary for turning operationstext - Page 37 of 84',\n",
       " 'text - \\uf0eatext - 0. 0 0 0 Xtext - Page 38 of 84text - MACHINES ANDtext - ACCESSORIEStext - 4- D EFAULT DATA The default data allows continuous monitoring of the machining in operation. If, for example, it has a piece as shown in  Figure 29 /a) and you want to get the piece in  Figure 29 /b) you can set all the heights in order to precisely control the actual machining. To set the data, proceed as follows:text - fervi.comtext - Figure 29 – Example of machining. - Move the tool to the height A in the Z direction (longitudinal).text - - Press the buttontext - to set height 5.',\n",
       " 'text - ACCESSORIEStext - 7 – Radius / Diameter displaytext - fervi.comtext - Figure 31 – Radius / Diameter displaytext - The reference for axis X is the axis of spindle rotation (dashed line in  Figure 31 ).text - - Move the cutting tool to point A.text - 5. 0 0 0 Xtext - Xtext - - Press the andtext - buttons to switch from viewing the radius to the diameter.',\n",
       " 'text - - Move the tool to point B, the coordinates in Imperial units are 2”.text - 2. 0 0 0 0 0 Xtext - M/text - - Pressing the button, switches the display to Metric units 50.8 mm.text - 5 0. 8 0 0 Xtext - Page 44 of 84text - MACHINES ANDtext - ACCESSORIEStext - 9 – Linear error compensation The linear error compensation function is used for the correction of errors in the transmission system of the lead screw. The correction factor is expressed as:text - \\uf028 \\uf029 \\uf028 \\uf029 m mm L',\n",
       " 'text - The Gear head lathe (Art. T999/230V and T999/400V) has been designed and constructed for the machining of metallic materials by means of cold chip removal. Any use and lack of respect for the technical parameters established by the manufacturer may be dangerous to operators;  th e re fore, the manufacturer cannot assume any liability for resulting damages.text - fervi.comtext - Risk of Abrasion and Accidenttext - \\uf0b7 Before using the machine, make sure that it is correctly attached to prevent unwanted movement or loss of stability. \\uf0b7 Wear appropriate personal protective equipment (PPE) such as gloves, goggles, overalls or aprons and safety shoes.text - Environment of Usetext - \\uf0b7 The lathe can operate in enclosed working environments (production departments, warehouses, etc.), such as those that are protected from the weather and where there is no danger of fire or explosion. \\uf0b7 The operating temperature is within the range of -10 / +50°C. \\uf0b7 The working environment must be sufficiently well lit to ensure maximum operational safety (a t  least 200 lux).text - Working close to the spindletext - Before starti n g work in the vicinity of the spindle, ALWAYS check that the machine is stopped.text - It is recommended to not extend the continued use of the machine for more than 10 minutes to avoid overheating the machine (which could damage the motor) and the equipment. 1. Lift the movable protective screen of the spindle. 2. Place the workpiece on the spindle and secure it by tightening the jaws, with thetext - appropriate key. Insert the key into one of the holes with a square cross-section on the spindle, and to close the jaws, turn it clockwise (see  Figure 33 ).',\n",
       " 'text - 13. After stopping the rotation of the spindle, lift the mobile protective screen and remove thetext - work piece from the spindle by releasing the jaws with the appropriate key. To do this, insert the key into one of the hollow, square sections on the spindle and turn it anticlockwise.text - Page 48 of 84text - MACHINES ANDtext - ACCESSORIEStext - 10.1Automatic Feed Tool Carriagetext - Longitudinal feed The automatic longitudinal feed of the carriage is derived from spindle, which transmits its motion to the grooved bar (see  Figure 35 ). The longitudinal feed is due to the lower slide that drags the carriage in the direction of the axis of the Lathe. A worm screw B, connected to the grooved bar A, runs along the latter together with the carriage. The worm screw sets in rotation a gear wheel D and the other gears present, including the pinion M which meshes with the rack N, which is moved by dragging the carriage during the rotation of the pinion.text - fervi.comtext - Figure 35 – Longitudinal feed. Transverse feed The transverse feed is due to the transverse slide which drags the upper slide and the tool in the perpendicular direction to the axis of the Lathe (see  Figure 36 ). And by moving the lever E to position 3, the idler wheel O meshes with the pinion G integral with the screw H. The screw is coupled to the casing I integral with the transverse slide. The rotation of the screw therefore moves the transverse slide.text - Figure 36 – Transverse feed.',\n",
       " \"table - [['Daily checks\\\\ni', ''], ['1', 'Check that all moving parts are well'], ['2', 'Clean the surface of the spindle, the turret and the body of the machine.\\\\nv'], ['3', 'Check that there are no objects / tools near the moving parts.\\\\nr'], ['4', 'Check the operation of the manually operated handwheels.\\\\ne'], ['5', 'Check the wear of the guide rails.\\\\nf']]text - Use a compressor to blow off shavings, chips, filings and dust that has accumulated on the floor of the machine and on the workbench at the end of each machining operation.text - Working with compressed airtext - ALWAYS wea r t he protective goggles when using compressed air.text - Check the status of the Lathe and the EC and warning plate; if these are no longer legible request replacements.text - Do not use the lathe if there are any defects!!text - Daily checkstext - 1 Check that all moving parts are well  lubricated .text - 2 Clean  the surface of the spindle, the turret and the body of the machine.text - 3 Check that there are no objects / tools near the moving parts.\",\n",
       " \"text - 11.3Adjusting the Machinetext - 11.3.1 Adjusting the tension of the motor beltstext - Make sure the motor belt tension is at an appropriate level. In this regard, make a simple check by pressing down firmly on the individual belts (approximately in the middle), which should move by a maximum of 5 mm. If the belts are loose or too tight, loosen the belt adjustment system bolts until the correct tension is achieved.table - [['Types of oil recommended'], ['Mobil Vectra No. 2'], ['Shell – Tonna – T68/TX68'], ['Chevron – Vistac – 68X'], ['Esso – Febis – K68\\\\nm']]table - [['Ref\\\\n.', 'Parts of the machine', 'Lubricatio\\\\nn point', 'Type\\\\nof\\\\nlubricant', 'Frequency', 'Replacemen\\\\nt frequency'], ['10', 'Carriage rails', '4', 'Oil 20', 'Daily', '/'], ['11', 'Gears for threading', '1', 'Oil 20', 'Level\\\\nindicator', '6 months']]text - Figure 40 – Drive belts. Proper belt tension reduces wear and increases the production of the machine.text - Page 54 of 84text - MACHINES ANDtext - ACCESSORIEStext - 11.3.2 Tailstock alignment\",\n",
       " 'text - Page 60 of 84text - MACHINES ANDtext - ACCESSORIEStext - TABLE Btext - fervi.comtext - Page 61 of 84text - MACHINES AND ACCESSORIEStext - fervi.comtext - Page 62 of 84text - MACHINES AND',\n",
       " \"text - fervi.comtext - Page 67 of 84text - MACHINES AND ACCESSORIEStable - [['Part No.', 'Description', 'Part No.', 'Description'], ['T999/C001', 'Collar', 'T999/C046', 'Small pin'], ['T999/C002', 'Collar', 'T999/C047', 'Cam'], ['T999/C003', 'Back cover', 'T999/C048', 'Shaft'], ['T999/C004', 'Back cover', 'T999/C050', 'Gear 51z'], ['T999/C005', 'Pulley', 'T999/C051', 'Spacer'], ['T999/C006', 'Pin', 'T999/C052', 'Shaft'], ['T999/C007', 'Head', 'T999/C053', ''], ['T999/C008', 'Front cover', 'T999/C054', ''], ['T999/C009', 'Lever', 'T999/C055', ''], ['T999/C010', 'Shaft support', 'T999/C056', ''], ['T999/C011', 'Cover', 'T999/C057', 'm'], ['T999/C012', 'Body', 'T999/C059', ''], ['T999/C013', 'Shaft', 'T999/C064', ''], ['T999/C014', 'Body', '', ''], ['T999/C015', 'Pad', 'o', ''], ['T999/C016', 'Hub', '', ''], ['T999/C017', 'Gear 37z', '', ''], ['T999/C018', 'Washer', 'c', ''], ['T999/C019', 'Washer', '', ''], ['T999/C020', 'Washer', '.', ''], ['T999/C021', 'Gear 40z', 'i', ''], ['T999/C022', 'Washer', '', 'Gasket'], ['T999/C023', 'Gear 37z\\\\nv', 'T999/C077', 'Gasket'], ['T999/C024', 'Locking nut', 'T999/C078', 'Gasket'], ['T999/C025', '', 'T999/C079', 'Gasket'], ['T999/C026', 'r', 'T999/C080', 'Gasket'], ['T999/C028', '', 'T999/C081', 'Oil\\\\nlevel window'], ['T999/C029', 'e', 'T999/C084', 'Allen key M4 x 12'], ['T999/C030', '', 'T999/C085', 'Allen key M4 x 12'], ['T999/C031\\\\nf', '', 'T999/C086', 'Allen key M4 x 12'], ['T999/C032', '', 'T999/C087', 'Allen key M4 x 12'], ['T999/C033', '', 'T999/C088', 'Allen key M4 x 12'], ['T999/C034', '', 'T999/C089', 'Allen key M4 x 12'], ['T999/C035', 'Gear 46z', 'T999/C093', 'Screw M6 x 12'], ['T999/C036', 'Gear 38z', 'T999/C095', 'Screw M8 x 8'], ['T999/C037', 'Spacer', 'T999/C096', 'Screw M8 x 10'], ['T999/C038', 'Gear 26z', 'T999/C097', 'Screw M8 x 12'], ['T999/C039', 'Gear 34z', 'T999/C098', 'Screw M8 x 16'], ['T999/C040', 'Gear 53z', 'T999/C099', 'Screw M8 x 40'], ['T999/C041', 'Lid', 'T999/C100', 'Screw M4 x 8']]text - Part No. Description Part No. Descriptiontext - T999/C001 Collar T999/C046 Small pintext - T999/C002 Collar T999/C047 Camtext - T999/C003 Back cover T999/C048 Shafttext - T999/C004 Back cover T999/C050 Gear 51ztext - fervi.com\",\n",
       " \"text - MACHINES AND ACCESSORIEStable - [['Part No.', 'Description', 'Part No.', 'Description'], ['T999/E001', 'Saddle', 'T999/E042', 'Bearing'], ['T999/E002', 'Slide', 'T999/E043', 'Bearing'], ['T999/E003', 'Rotating slide', 'T999/E044', 'Screw'], ['T999/E004', 'Upper slide', 'T999/E045', 'Screw'], ['T999/E005', 'Collar', 'T999/E046', 'Screw'], ['T999/E006', 'Gib', 'T999/E047', 'Screw'], ['T999/E007', 'Hub', 'T999/E048', ''], ['T999/E008', 'Strip', 'T999/E049', ''], ['T999/E009', 'Gib', 'T999/E050', ''], ['T999/E010', 'Stop', 'T999/E052', ''], ['T999/E011', 'Stop', 'T999/E053', 'm'], ['T999/E012', 'Hammer screw', 'T999/E054', ''], ['T999/E013', 'Lever base', 'T999/E055', ''], ['T999/E014', 'Lever', '', ''], ['T999/E015', 'Stop', 'o', ''], ['T999/E016', 'Screw', '', 'Adjustment grub screw'], ['T999/E017', 'Micrometer', '', ''], ['T999/E018', 'Switch', 'c', ''], ['T999/E019', 'Switch', '', 'Washer'], ['T999/E020', 'Collar', '.', ''], ['T999/E022', 'Washer', 'i', ''], ['T999/E023', 'Nut', '', 'Oiler'], ['T999/E024', 'Micrometer\\\\nv', 'T999/E066', 'Plug'], ['T999/E025', 'Plate', 'T999/E067', 'Shaft gear'], ['T999/E026', '', 'T999/E069', 'Bearing'], ['T999/E027', 'r', 'T999/E070', 'Allen key'], ['T999/E028', '', 'T999/E071', 'Lever'], ['T999/E029', 'e', 'T999/E072', 'Handle'], ['T999/E030', '', 'T999/E073', 'Spacer'], ['T999/E031\\\\nf', '', 'T999/E074', 'Key'], ['T999/E032', '', 'T999/E075', 'Screw'], ['T999/E033', '', 'T999/E076', 'Key'], ['T999/E034', '', 'T999/E077', 'Thrusting bearing'], ['T999/E035', 'T bolts', 'T999/E078', 'Bearing housing'], ['T999/E036', 'Threaded lock', 'T999/E079', 'Bearing dust cover'], ['T999/E037', 'Nut', 'T999/E080', 'Washer'], ['T999/E038', 'Switch cover', 'T999/E081', 'Washer'], ['T999/E039', 'Small brush', 'T999/E082', 'Locking nut'], ['T999/E040', 'Small brush', 'T999/E083', 'Allen key']]text - Part No. Description Part No. Descriptiontext - T999/E001 Saddle T999/E042 Bearingtext - T999/E002 Slide T999/E043 Bearingtext - T999/E003 Rotating slide T999/E044 Screwtext - T999/E004 Upper slide T999/E045 Screwtext - fervi.comtext - T999/E005 Collar T999/E046 Screwtext - T999/E006 Gib T999/E047 Screw\",\n",
       " 'text - Noisy operationtext - C) Blunt tool.text - D) Remove/sharpen the tool.text - D) Loose tool.text - E) Tighten the fastening lever.text - A) Electrical power supply.text - A) Check the mains power supply. B) Check the wiring connections. C) Contact Technical Support.text - B) Wiring connectionstext - The motor will not start.text - D) Replace the fuses.',\n",
       " \"text - MACHINES ANDtext - ACCESSORIEStext - 15 ELECTRIC CIRCUITtext - 15.1Art. T999/400Vtext - fervi.comtable - [['', '', '', '', '', '', '', ''], ['', '', '', '', '', '', '', ''], ['', 'c\\\\n.\\\\ni\\\\nv', '', '', '', '', '', 'm'], ['', '', '', '', '', '', '', ''], ['', '', '', '', '', '', '', ''], ['', '', '', '', '', '', 'o', ''], ['', '', '', '', '', '', '', ''], ['', '', '', '', '', '', '', ''], ['', '', '', '', '', '', '', ''], ['', '', '', '', '', '', '', ''], ['', '', '', '', '', '', '', ''], ['', '', '', '', '', '', '', '']]text - Page 83 of 84text - MACHINES AND ACCESSORIEStext - 15.2Art. T999/230Vtext - fervi.com\"]"
      ]
     },
     "execution_count": 70,
     "metadata": {},
     "output_type": "execute_result"
    }
   ],
   "source": [
    "# get all chunks from chunks retrived from both implementations\n",
    "\n",
    "query = 'What are some general safety rules when using machine equipment?'\n",
    "# query = 'What does the manual say about unplugging the power cord of the machine from the power outlet?'\n",
    "bert_top_10_idx = bert_query_pipeline(query)\n",
    "bm25_top_10_idx = bm25_query_pipeline(query)\n",
    "final_idx = list(set(list(bert_top_10_idx) + list(bm25_top_10_idx)))\n",
    "\n",
    "staged_context = [chunked_final[idx] for idx in final_idx]"
   ]
  },
  {
   "cell_type": "markdown",
   "id": "d5e600f5",
   "metadata": {},
   "source": [
    "### 5. Embed staged context using BERT & get inverted indices of staged context using BM25"
   ]
  },
  {
   "cell_type": "code",
   "execution_count": 71,
   "id": "11c2c8bd",
   "metadata": {},
   "outputs": [],
   "source": [
    "# for bert\n",
    "sem_embs_final = model.encode(staged_context, convert_to_tensor = True)\n",
    "\n",
    "# for bm25\n",
    "tokenized_corpus_final = [doc.split() for doc in staged_context]\n",
    "bm25_final = BM25Okapi(tokenized_corpus_final)"
   ]
  },
  {
   "cell_type": "markdown",
   "id": "c510463f",
   "metadata": {},
   "source": [
    "### 6. Function to get the final set of scores for the staged context chunks for both BERT & BM25"
   ]
  },
  {
   "cell_type": "code",
   "execution_count": 72,
   "id": "6edb56ac",
   "metadata": {},
   "outputs": [],
   "source": [
    "def bert_final_scores(query):\n",
    "     \n",
    "    device = sem_embs.device\n",
    "    query_embedding = model.encode(query, convert_to_tensor = True)\n",
    "    cosine_scores = util.cos_sim(query_embedding, sem_embs_final)[0]\n",
    "    indices = np.argsort(cosine_scores.cpu().numpy())[::-1]\n",
    "\n",
    "    return cosine_scores.cpu().numpy(), indices"
   ]
  },
  {
   "cell_type": "code",
   "execution_count": 73,
   "id": "1843a4e9",
   "metadata": {},
   "outputs": [
    {
     "data": {
      "text/plain": [
       "(array([0.3882365 , 0.30951467, 0.3082162 , 0.40498486, 0.50876844,\n",
       "        0.30205482, 0.30637312, 0.22280467, 0.17648435, 0.27379346,\n",
       "        0.49196404, 0.44309604, 0.39147013, 0.25918803, 0.4617554 ,\n",
       "        0.26158363, 0.24583721, 0.30468786, 0.12909189, 0.27552235,\n",
       "        0.19234325, 0.1210432 , 0.1373922 , 0.36031508, 0.20514143,\n",
       "        0.3763486 , 0.35978127, 0.3363469 , 0.23986246, 0.26789898,\n",
       "        0.34546137, 0.28337905], dtype=float32),\n",
       " array([ 4, 10, 14, 11,  3, 12,  0, 25, 23, 26, 30, 27,  1,  2,  6, 17,  5,\n",
       "        31, 19,  9, 29, 15, 13, 16, 28,  7, 24, 20,  8, 22, 18, 21],\n",
       "       dtype=int64))"
      ]
     },
     "execution_count": 73,
     "metadata": {},
     "output_type": "execute_result"
    }
   ],
   "source": [
    "bert_final_scores(query)"
   ]
  },
  {
   "cell_type": "code",
   "execution_count": 74,
   "id": "d5ed7ee9",
   "metadata": {},
   "outputs": [],
   "source": [
    "def bm25_query_pipeline(query):\n",
    "\n",
    "    tokenized_query = query.split()\n",
    "    bm25_scores = bm25_final.get_scores(tokenized_query)\n",
    "    indices = np.argsort(bm25_scores)[::-1]\n",
    "\n",
    "    return bm25_scores, indices"
   ]
  },
  {
   "cell_type": "code",
   "execution_count": 75,
   "id": "c4e6ef3d",
   "metadata": {},
   "outputs": [
    {
     "data": {
      "text/plain": [
       "(array([10.25249742,  3.6139256 ,  5.73669123,  6.95784529, 16.66678581,\n",
       "         8.59135535,  5.44785493,  7.41196872,  5.95170189,  3.41618016,\n",
       "         8.84437413,  6.97397352, 10.29443884,  8.9638555 ,  9.69239027,\n",
       "         5.73531202,  6.60370342, 13.59990664,  5.68404816,  5.47347766,\n",
       "         6.01240995,  7.15250347,  5.96259506,  7.99646581,  7.94538456,\n",
       "         6.96193274,  6.17026996,  1.47244459,  0.55296047,  0.        ,\n",
       "         8.42665908,  0.79834457]),\n",
       " array([ 4, 17, 12,  0, 14, 13, 10,  5, 30, 23, 24,  7, 21, 11, 25,  3, 16,\n",
       "        26, 20, 22,  8,  2, 15, 18, 19,  6,  1,  9, 27, 31, 28, 29],\n",
       "       dtype=int64))"
      ]
     },
     "execution_count": 75,
     "metadata": {},
     "output_type": "execute_result"
    }
   ],
   "source": [
    "bm25_query_pipeline(query)"
   ]
  },
  {
   "cell_type": "markdown",
   "id": "c530ab50",
   "metadata": {},
   "source": [
    "### 7. Applying fusion scoring\n",
    "> final_score = alpha * bm25_score + (1 - alpha) * bert_score"
   ]
  },
  {
   "cell_type": "code",
   "execution_count": null,
   "id": "cad19d61",
   "metadata": {},
   "outputs": [],
   "source": [
    "def normalize_scores(scores):\n",
    "    min_s = np.min(scores)\n",
    "    max_s = np.max(scores)\n",
    "    return (scores - min_s) / (max_s - min_s) if max_s > min_s else scores\n",
    "\n",
    "def fused_scores(query, alpha = 0.5, top_k = 10):\n",
    "    bm25_scores, bm25_indices = bm25_query_pipeline(query)\n",
    "    bert_scores, bert_indices = bert_final_scores(query)\n",
    "    \n",
    "    # create arrays to hold scores aligned by document index\n",
    "    num_docs = len(bm25_scores)  # should be same as bert_scores length\n",
    "    bm25_aligned = np.zeros(num_docs)\n",
    "    bert_aligned = np.zeros(num_docs)\n",
    "    \n",
    "    # align BM25 scores (indices are original document indices)\n",
    "    for idx, score in zip(bm25_indices, bm25_scores):\n",
    "        bm25_aligned[idx] = score\n",
    "\n",
    "    # align BERT scores\n",
    "    for idx, score in zip(bert_indices, bert_scores):\n",
    "        bert_aligned[idx] = score\n",
    "\n",
    "    # normalize\n",
    "    bm25_norm = normalize_scores(bm25_aligned)\n",
    "    bert_norm = normalize_scores(bert_aligned)\n",
    "\n",
    "    # fuse\n",
    "    fused = alpha * bm25_norm + (1 - alpha) * bert_norm\n",
    "\n",
    "    # top k indices by fused score\n",
    "    top_indices = np.argsort(fused)[::-1][:top_k]\n",
    "\n",
    "    return top_indices\n",
    "\n",
    "best = fused_scores(query)"
   ]
  },
  {
   "cell_type": "markdown",
   "id": "1300c965",
   "metadata": {},
   "source": [
    "### Get final context"
   ]
  },
  {
   "cell_type": "code",
   "execution_count": 77,
   "id": "6366d2ac",
   "metadata": {},
   "outputs": [],
   "source": [
    "final_context = ''\n",
    "for idx in best:\n",
    "    final_context += chunked_final[idx]"
   ]
  },
  {
   "cell_type": "markdown",
   "id": "a4838151",
   "metadata": {},
   "source": [
    "### LLM setup"
   ]
  },
  {
   "cell_type": "code",
   "execution_count": 87,
   "id": "c230273a",
   "metadata": {},
   "outputs": [],
   "source": [
    "def llama(prompt):\n",
    "    client = Groq(\n",
    "        api_key = os.getenv(\"GROQ_API_KEY\"),\n",
    "    )\n",
    "\n",
    "    chat_completion = client.chat.completions.create(\n",
    "        model = \"llama-3.3-70b-versatile\",\n",
    "        # model = \"llama3-70b-8192\",\n",
    "        # model = \"mistral-saba-24b\",\n",
    "        messages = [\n",
    "            {\n",
    "                \"role\": \"system\",\n",
    "                \"content\": \"You are an expert technical assistant specialized in interpreting operations and maintenance manuals for machinery.\"\n",
    "            },\n",
    "            {\n",
    "                \"role\": \"user\",\n",
    "                \"content\": prompt\n",
    "            }\n",
    "        ],\n",
    "        temperature = 0.5,\n",
    "        max_tokens = 5640,\n",
    "        top_p = 1,\n",
    "        stream = True,\n",
    "    )\n",
    "\n",
    "    for chunk in chat_completion:\n",
    "        content = chunk.choices[0].delta.content\n",
    "        if content:\n",
    "            print(content, end='', flush=True)  # print to console without newline, flush immediately\n",
    "            time.sleep(0.01)  # optional delay for typewriter effect\n",
    "    \n",
    "\n",
    "def prompt(query, context):\n",
    "    return f\"\"\"\n",
    "        You are an expert technical assistant specialized in interpreting operations and maintenance manuals for machinery.\n",
    "\n",
    "        Given the user question and the relevant extracted context from the manual:\n",
    "\n",
    "        - Provide a clear, precise, and factual answer to the question.\n",
    "        - Base your response strictly on the provided context; do not guess beyond it.\n",
    "        - If the context does not contain enough information, indicate that the answer is not available in the manual or that the context is not sufficient.\n",
    "        - Keep the answer professional, concise, and focused on practical instructions.\n",
    "\n",
    "        User Question:\n",
    "        {query}\n",
    "\n",
    "        Context from Manual:\n",
    "        {context}\n",
    "        \"\"\""
   ]
  },
  {
   "cell_type": "markdown",
   "id": "a779bc91",
   "metadata": {},
   "source": [
    "### Inference"
   ]
  },
  {
   "cell_type": "code",
   "execution_count": 88,
   "id": "c63ddb7c",
   "metadata": {},
   "outputs": [
    {
     "name": "stdout",
     "output_type": "stream",
     "text": [
      "According to the manual, you should unplug the power cord of the machine from the power outlet in the following situations:\n",
      "\n",
      "1. When the machine is not being operated.\n",
      "2. When it is left unattended.\n",
      "3. During maintenance or repair, especially if the machine does not work properly.\n",
      "4. If the power cable is damaged.\n",
      "5. When replacing a tool.\n",
      "6. When moving or transporting the machine.\n",
      "7. During cleaning operations.\n",
      "\n",
      "This information can be found in point 23 of the manual."
     ]
    }
   ],
   "source": [
    "prompt = prompt(query, final_context)\n",
    "llama(prompt)"
   ]
  }
 ],
 "metadata": {
  "kernelspec": {
   "display_name": "py310",
   "language": "python",
   "name": "python3"
  },
  "language_info": {
   "codemirror_mode": {
    "name": "ipython",
    "version": 3
   },
   "file_extension": ".py",
   "mimetype": "text/x-python",
   "name": "python",
   "nbconvert_exporter": "python",
   "pygments_lexer": "ipython3",
   "version": "3.10.15"
  }
 },
 "nbformat": 4,
 "nbformat_minor": 5
}
