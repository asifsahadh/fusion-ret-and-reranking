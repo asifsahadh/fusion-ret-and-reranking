{
 "cells": [
  {
   "cell_type": "markdown",
   "id": "7acb9a8d",
   "metadata": {},
   "source": [
    "## **Fusion Retrieval based RAG** "
   ]
  },
  {
   "cell_type": "markdown",
   "id": "2b9ea273",
   "metadata": {},
   "source": [
    "_**What are your expectations for Fusion Retrieval with the provided manual?**_<br>\n",
    "Due to the hybrid nature, semantic matching and keyword matching, I expect this architecture to be quite robust compared to vanilla RAG. Both types of matching has its benefits when it comes to information retrieval and I would argue that this architecture would outperform the Reranking RAG architecture. However, semantic search may be considered superior to keyword matching so it would be better to have a higher weightage given to semantics. This theory requires testing of course."
   ]
  },
  {
   "cell_type": "markdown",
   "id": "96226c83",
   "metadata": {},
   "source": [
    "**_How do you plan to test and compare these techniques?_**<br><br>\n",
    "<img src=\"./fusion_ret._workflow.png\" alt=\"Flowchart\" width=\"1000\" /><br><br>\n",
    "The main approach taken here is where the initial chunks from the document are made into two copies, one is semantic based (using BERT), and the other is keyword based (BM25). After the top-K chunks are retrieved from both, a union operation is performed between the two. Next, this final set of chunks are again made into 2 copies of BERT based embeddings and BM25 based inverted indexes. The query is passed into both for scoring and the scores are retrieved for each chunk. This gives us a set of chunk IDs, BERT scores, BM25 scores and the final fusion score. This is the main idea and the process goes as follows:<br>\n",
    "1. The document data is extracted, specifically text and tabular data. \n",
    "2. Next, these data are stored in a way where the sequence is maintained, that way there will be more context for a certain text that may have a table before or after it. \n",
    "3. This set is chunked and converted to BERT based vector embeddings and also to BM25 based representations.\n",
    "4. Now the query is also converted to BERT based embeddings and BM25 based representations and the top-K chunks are retrieved for both. A union is taken between the retrieved chunks to avoid overlaps.\n",
    "5. Next, this final set of chunks are again made into 2 copies, one of BERT based embeddings and the other of BM25 based inverted indexes. The query is passed into both structures and the scores are retrieved for each chunk. This gives us a set of chunk IDs, BERT scores, BM25 scores and the final fusion score. \n",
    "6. Based on this fusion score, the top-L chunks are retrieved (L < K). \n",
    "7. These L chunks, which acts as context, along with the original query is passed into an LLM for a refined response.\n",
    "\n",
    "**It must be noted that K > L. In this implementation, they are set as 25 and 8 respectively.**"
   ]
  },
  {
   "cell_type": "markdown",
   "id": "1469864b",
   "metadata": {},
   "source": [
    "_**Comparison Strategy**_<br>\n",
    "There are possibly two main ways in which we can compare this approach with the Reranking apprach. One is by assessing the top-L retrieved chunks and the other is obviously by assessing the final response from the LLM. "
   ]
  },
  {
   "cell_type": "markdown",
   "id": "840453c6",
   "metadata": {},
   "source": [
    "_**Note**: Considering images is important in order to create a robust RAG system. Due to technical/financial constraints, images are omitted for this implementation. However, in the absence of such constraints, what I would have done is have the LLM read the image and prompt it to generate a description. This description will be added into the resulting array while also maintaining the sequence. **One obvious question in that case will be whether or not the LLM knows about the content in the image, provided that it is very domain specific and unfamiliar to the LLM**. One way I thought of on mitigating this issue is by providing some set of surrounding context of the image to the LLM along with the image itself for it to draw better conclusions. These contexts can be the nearest 2 or 3 elements (text, table or another image) surrounding the image in hand. Let this value be J. So, if J is 3, we feed 3 elements before the image and 3 elements after the image as context for the LLM to generate proper a description of the image in hand. This might not be the most efficient solution, but there can be scenarios where this will work._"
   ]
  },
  {
   "cell_type": "markdown",
   "id": "6756d5e7",
   "metadata": {},
   "source": [
    "---"
   ]
  },
  {
   "cell_type": "markdown",
   "id": "0c42e185",
   "metadata": {},
   "source": [
    "#### Import libraries"
   ]
  },
  {
   "cell_type": "code",
   "execution_count": 1,
   "id": "b912bffb",
   "metadata": {},
   "outputs": [],
   "source": [
    "import fitz # for text extraction\n",
    "import camelot # for table extraction\n",
    "from sentence_transformers import SentenceTransformer, util # for semantic vector embedding creation \n",
    "from rank_bm25 import BM25Okapi # for bm25 implementation\n",
    "import spacy # for stop word removal\n",
    "import re\n",
    "from pathlib import Path\n",
    "import numpy as np\n",
    "from groq import Groq\n",
    "import os\n",
    "import time\n",
    "import json"
   ]
  },
  {
   "cell_type": "markdown",
   "id": "0abaeb13",
   "metadata": {},
   "source": [
    "#### 1. Function to extract texts & tables from PDF\n",
    "The goal is to preserve the sequence, that way there will be more context for a certain text that may have a table before or after it."
   ]
  },
  {
   "cell_type": "code",
   "execution_count": 2,
   "id": "b0193147",
   "metadata": {},
   "outputs": [],
   "source": [
    "def extract_text_and_tables(pdf_path):\n",
    "\n",
    "    pdf_file = Path(pdf_path)\n",
    "    if not pdf_file.is_file() or pdf_file.suffix.lower() != \".pdf\":\n",
    "        raise FileNotFoundError(\"Provided file path is not a valid PDF.\")\n",
    "\n",
    "    doc = fitz.open(str(pdf_file))\n",
    "    result = []\n",
    "\n",
    "    # text extraction\n",
    "    for page_num, page in enumerate(doc, start = 1):\n",
    "        page_blocks = []\n",
    "\n",
    "        blocks = page.get_text(\"dict\")[\"blocks\"]\n",
    "        for block in blocks:\n",
    "            if block[\"type\"] == 0: # type 0 is text\n",
    "                text_content = \" \".join(\n",
    "                    span[\"text\"] for line in block[\"lines\"] for span in line[\"spans\"]\n",
    "                ).strip()\n",
    "                if text_content:\n",
    "                    y = block[\"bbox\"][1]\n",
    "                    page_blocks.append({\n",
    "                        \"type\": \"TEXT DATA\",\n",
    "                        \"y\": y,\n",
    "                        \"content\": text_content\n",
    "                    })\n",
    "\n",
    "        # table extraction\n",
    "        try:\n",
    "            tables = camelot.read_pdf(str(pdf_file), pages = str(page_num), flavor = 'lattice') # lattice flavor to extract tables\n",
    "        except Exception as e:\n",
    "            print(f\"Failed to read tables on page {page_num}: {e}\")\n",
    "            tables = []\n",
    "\n",
    "        for table in tables:\n",
    "            table_data = table.data\n",
    "            bbox = table._bbox\n",
    "            y = float(bbox[1])\n",
    "            page_blocks.append({\n",
    "                \"type\": \"TABLE DATA\",\n",
    "                \"y\": y,\n",
    "                \"content\": table_data\n",
    "            })\n",
    "\n",
    "        page_blocks.sort(key = lambda b: b[\"y\"]) # sort contents on current page\n",
    "        result.extend(page_blocks) # append content to result list\n",
    "\n",
    "    return result"
   ]
  },
  {
   "cell_type": "code",
   "execution_count": 3,
   "id": "005acbed",
   "metadata": {},
   "outputs": [
    {
     "data": {
      "text/plain": [
       "[{'type': 'TEXT DATA',\n",
       "  'y': 145.75482177734375,\n",
       "  'content': 'Follow the instructions contained herein, in addition to the general precautions to be observed while working. Even if the operator is already familiar with the use of manually operated lathes, it is necessary to: In particular:'},\n",
       " {'type': 'TEXT DATA', 'y': 173.48190307617188, 'content': 'fervi.com'},\n",
       " {'type': 'TEXT DATA',\n",
       "  'y': 188.8348388671875,\n",
       "  'content': '\\uf0b7 Acquire full knowledge of the machine. For safe operation, this manual must be read carefully in order to acquire the necessary knowledge of the machine and to understand: operation, safety devices and all necessary precautions. \\uf0b7 Wear appropriate clothing for the job. The operator must wear appropriate clothing to prevent accidents. \\uf0b7 Maintain the machine with care.'},\n",
       " {'type': 'TEXT DATA',\n",
       "  'y': 312.05987548828125,\n",
       "  'content': 'Risks associated with using the machine'},\n",
       " {'type': 'TEXT DATA',\n",
       "  'y': 342.43487548828125,\n",
       "  'content': 'The machine must only be used by personnel who have been specially trained by authorized personnel.'}]"
      ]
     },
     "execution_count": 3,
     "metadata": {},
     "output_type": "execute_result"
    }
   ],
   "source": [
    "# extract texts and tables from the maual\n",
    "pre_result = extract_text_and_tables(\"manual.pdf\")\n",
    "pre_result[100:105] # few elements from the extracted data"
   ]
  },
  {
   "cell_type": "code",
   "execution_count": 2,
   "id": "820dc3ac",
   "metadata": {},
   "outputs": [],
   "source": [
    "# load manual\n",
    "with open(\"manual.json\", \"r\") as file:\n",
    "    pre_result = json.load(file)"
   ]
  },
  {
   "cell_type": "code",
   "execution_count": 3,
   "id": "858eb2c6",
   "metadata": {},
   "outputs": [],
   "source": [
    "# removing 'fervi.com' background text\n",
    "result = []\n",
    "for res in pre_result:\n",
    "    if res['content'] != 'fervi.com':\n",
    "        result.append(res)"
   ]
  },
  {
   "cell_type": "code",
   "execution_count": 4,
   "id": "7cdca01e",
   "metadata": {},
   "outputs": [
    {
     "data": {
      "text/plain": [
       "{'type': 'TABLE DATA',\n",
       " 'y': 54.94955827871188,\n",
       " 'content': [['Part No.', 'Description', 'i', 'Description'],\n",
       "  ['T999/F001', 'Body\\nv', '', 'Micrometer'],\n",
       "  ['T999/F002', 'Flange', '', 'Lock'],\n",
       "  ['T999/F003', '', 'T999/F026', 'Switch'],\n",
       "  ['T999/F004', 'r', 'T999/F029', 'Knob'],\n",
       "  ['T999/F005', '', 'T999/F030', 'Knob'],\n",
       "  ['T999/F007', 'e', 'T999/F031', 'Allen key'],\n",
       "  ['T999/F008', '', 'T999/F032', 'Allen key'],\n",
       "  ['T999/F009\\nf', '', 'T999/F033', 'Screw'],\n",
       "  ['T999/F010', '', 'T999/F034', 'Screw'],\n",
       "  ['T999/F011', '', 'T999/F035', 'Screw'],\n",
       "  ['T999/F012', '', 'T999/F036', 'Screw'],\n",
       "  ['T999/F013', 'Pin', 'T999/F037', 'Nut'],\n",
       "  ['T999/F014', 'Screw', 'T999/F038', 'Nut'],\n",
       "  ['T999/F015', 'Sleeve coupling', 'T999/F039', 'Key'],\n",
       "  ['T999/F016', 'Tie rod', 'T999/F040', 'Washer'],\n",
       "  ['T999/F019', 'Pin', 'T999/F041', 'Plug'],\n",
       "  ['T999/F020', 'Lever', 'T999/F041', 'Bearing'],\n",
       "  ['T999/F021', 'Nut', 'T999/F042', 'Oiler']]}"
      ]
     },
     "execution_count": 4,
     "metadata": {},
     "output_type": "execute_result"
    }
   ],
   "source": [
    "# sample table data\n",
    "result[1173]"
   ]
  },
  {
   "cell_type": "code",
   "execution_count": 5,
   "id": "b1f23a60",
   "metadata": {},
   "outputs": [],
   "source": [
    "# list formatting by adding labels for texts and tables\n",
    "final = []\n",
    "for r in result:\n",
    "    s = f\"{r['type']}: {r['content']}\"\n",
    "    final.append(s)"
   ]
  },
  {
   "cell_type": "code",
   "execution_count": 6,
   "id": "15f0b6f9",
   "metadata": {},
   "outputs": [
    {
     "data": {
      "text/plain": [
       "\"TABLE DATA: [['Part No.', 'Description', 'i', 'Description'], ['T999/F001', 'Body\\\\nv', '', 'Micrometer'], ['T999/F002', 'Flange', '', 'Lock'], ['T999/F003', '', 'T999/F026', 'Switch'], ['T999/F004', 'r', 'T999/F029', 'Knob'], ['T999/F005', '', 'T999/F030', 'Knob'], ['T999/F007', 'e', 'T999/F031', 'Allen key'], ['T999/F008', '', 'T999/F032', 'Allen key'], ['T999/F009\\\\nf', '', 'T999/F033', 'Screw'], ['T999/F010', '', 'T999/F034', 'Screw'], ['T999/F011', '', 'T999/F035', 'Screw'], ['T999/F012', '', 'T999/F036', 'Screw'], ['T999/F013', 'Pin', 'T999/F037', 'Nut'], ['T999/F014', 'Screw', 'T999/F038', 'Nut'], ['T999/F015', 'Sleeve coupling', 'T999/F039', 'Key'], ['T999/F016', 'Tie rod', 'T999/F040', 'Washer'], ['T999/F019', 'Pin', 'T999/F041', 'Plug'], ['T999/F020', 'Lever', 'T999/F041', 'Bearing'], ['T999/F021', 'Nut', 'T999/F042', 'Oiler']]\""
      ]
     },
     "execution_count": 6,
     "metadata": {},
     "output_type": "execute_result"
    }
   ],
   "source": [
    "# table data sample after flattening\n",
    "final[1173]"
   ]
  },
  {
   "cell_type": "markdown",
   "id": "4467abf8",
   "metadata": {},
   "source": [
    "It can be seen that the flattened version somewhat preserves the structure of the actual table by keeping each row inside a list. The LLM can hopefully understand this due to the presence of the label 'TABLE DATA' at the start."
   ]
  },
  {
   "cell_type": "markdown",
   "id": "76e902c0",
   "metadata": {},
   "source": [
    "### 2. Chunking"
   ]
  },
  {
   "cell_type": "code",
   "execution_count": 7,
   "id": "568a02b7",
   "metadata": {},
   "outputs": [
    {
     "name": "stdout",
     "output_type": "stream",
     "text": [
      "Total number of chunks: 54\n",
      "\n"
     ]
    },
    {
     "data": {
      "text/plain": [
       "'TEXT DATA: \\uf0b7 Using the machine and, particularly, the tool improperly. TEXT DATA: \\uf0b7 Picking up moving tools or other moving parts. TEXT DATA: \\uf0b7 Taking measurements of the workpiece mounted on the spindle, without turning the motor off, unplugging it and waiting for the spindle to stop. TEXT DATA: \\uf0b7 Removing chips with your hands. TEXT DATA: \\uf0b7 Replacing the work tools or carrying out the speed change, without stopping the motor, disconnecting the plug and waiting for the machine to stop. TEXT DATA: \\uf0b7 Modifying and/or tampering with the safety devices of the lathe. TEXT DATA: \\uf0b7 Using the machine as a support and/or work surface. TEXT DATA: \\uf0b7 Climbing on the machine. TEXT DATA: \\uf0b7 Touching the machine with wet and/or damp hands. TEXT DATA: \\uf0b7 Using the machine when barefoot. TEXT DATA: \\uf0b7 Exposing the machine to the elements (sun, rain, hail, etc..). TEXT DATA: \\uf0b7 Using jets of water TEXT DATA: \\uf0b7 Using the machine without fastening it securely. TEXT DATA: \\uf0b7 Cleaning and/or maintaining the machine without fastening it securely. TEXT DATA: \\uf0b7 Installing and using the machine on surfaces that are not sufficiently flat and smooth. TEXT DATA: \\uf0b7 Installing and using the machine on surfaces that are not hard and strong enough to support its weight. TEXT DATA: \\uf0b7 Install in g and using the machine outdoors. TEXT DATA: Page 22 of 84 TEXT DATA: MACHINES AND TEXT DATA: ACCESSORIES TEXT DATA: \\uf0b7 Using the machine in a dark place. TEXT DATA: \\uf0b7 Allowing untrained personnel to use the machine. TEXT DATA: \\uf0b7 Operating this machine without being psychophysically fit; TEXT DATA: \\uf0b7 Allowing untrained and unqualified personnel to carry out maintenance, and without complying with the procedures specified in this manual.'"
      ]
     },
     "execution_count": 7,
     "metadata": {},
     "output_type": "execute_result"
    }
   ],
   "source": [
    "chunks = [\" \".join(final[i:i + 24]) for i in range(0, len(final), 24)] # be careful here\n",
    "print(f\"Total number of chunks: {len(chunks)}\\n\")\n",
    "\n",
    "chunks[15] # sample"
   ]
  },
  {
   "cell_type": "markdown",
   "id": "40d3f6a3",
   "metadata": {},
   "source": [
    "### 3. Data cleaning for BM25"
   ]
  },
  {
   "cell_type": "code",
   "execution_count": 8,
   "id": "115d6bee",
   "metadata": {},
   "outputs": [
    {
     "data": {
      "text/plain": [
       "'TEXT DATA : \\uf0b7 machine , particularly , tool improperly . TEXT DATA : \\uf0b7 Picking moving tools moving parts . TEXT DATA : \\uf0b7 Taking measurements workpiece mounted spindle , turning motor , unplugging waiting spindle stop . TEXT DATA : \\uf0b7 Removing chips hands . TEXT DATA : \\uf0b7 Replacing work tools carrying speed change , stopping motor , disconnecting plug waiting machine stop . TEXT DATA : \\uf0b7 Modifying and/or tampering safety devices lathe . TEXT DATA : \\uf0b7 machine support and/or work surface . TEXT DATA : \\uf0b7 Climbing machine . TEXT DATA : \\uf0b7 Touching machine wet and/or damp hands . TEXT DATA : \\uf0b7 machine barefoot . TEXT DATA : \\uf0b7 Exposing machine elements ( sun , rain , hail , etc .. ) . TEXT DATA : \\uf0b7 jets water TEXT DATA : \\uf0b7 machine fastening securely . TEXT DATA : \\uf0b7 Cleaning and/or maintaining machine fastening securely . TEXT DATA : \\uf0b7 Installing machine surfaces sufficiently flat smooth . TEXT DATA : \\uf0b7 Installing machine surfaces hard strong support weight . TEXT DATA : \\uf0b7 Install g machine outdoors . TEXT DATA : Page 22 84 TEXT DATA : MACHINES TEXT DATA : ACCESSORIES TEXT DATA : \\uf0b7 machine dark place . TEXT DATA : \\uf0b7 Allowing untrained personnel use machine . TEXT DATA : \\uf0b7 Operating machine psychophysically fit ; TEXT DATA : \\uf0b7 Allowing untrained unqualified personnel carry maintenance , complying procedures specified manual .'"
      ]
     },
     "execution_count": 8,
     "metadata": {},
     "output_type": "execute_result"
    }
   ],
   "source": [
    "nlp = spacy.load(\"en_core_web_sm\")\n",
    "\n",
    "chunks_4_bm25 = []\n",
    "for chunk in chunks:\n",
    "    doc = nlp(chunk)\n",
    "    filtered = [token.text for token in doc if not token.is_stop]\n",
    "    chunks_4_bm25.append(\" \".join(filtered))\n",
    "\n",
    "chunks_4_bm25[15] # sample"
   ]
  },
  {
   "cell_type": "markdown",
   "id": "09cc45c9",
   "metadata": {},
   "source": [
    "### 4. Creating semantic vector embeddings and BM25 inverted index"
   ]
  },
  {
   "cell_type": "code",
   "execution_count": 9,
   "id": "d7480db1",
   "metadata": {},
   "outputs": [],
   "source": [
    "# for bert\n",
    "model = SentenceTransformer('sentence-transformers/all-mpnet-base-v2')\n",
    "sem_embs = model.encode(chunks, convert_to_tensor = True)"
   ]
  },
  {
   "cell_type": "code",
   "execution_count": 10,
   "id": "d990dbf4",
   "metadata": {},
   "outputs": [],
   "source": [
    "# for bm25\n",
    "tokenized_corpus = [doc.split() for doc in chunks_4_bm25]\n",
    "bm25 = BM25Okapi(tokenized_corpus)"
   ]
  },
  {
   "cell_type": "markdown",
   "id": "0d2c06f4",
   "metadata": {},
   "source": [
    "### 5. Pipeline to return indices of top-K chunks that match with the query"
   ]
  },
  {
   "cell_type": "code",
   "execution_count": 45,
   "id": "0789fe05",
   "metadata": {},
   "outputs": [],
   "source": [
    "def bert_query_pipeline(query, top_k = 25):\n",
    "     \n",
    "    device = sem_embs.device\n",
    "    query_embedding = model.encode(query, convert_to_tensor = True)\n",
    "    cosine_scores = util.cos_sim(query_embedding, sem_embs)[0] # cosine similarity\n",
    "    top_indices = np.argsort(cosine_scores.cpu().numpy())[::-1][:top_k]\n",
    "\n",
    "    return top_indices"
   ]
  },
  {
   "cell_type": "code",
   "execution_count": null,
   "id": "4542345f",
   "metadata": {},
   "outputs": [],
   "source": [
    "def bm25_query_pipeline(query, top_k = 25):\n",
    "\n",
    "    tokenized_query = query.split()\n",
    "    bm25_scores = bm25.get_scores(tokenized_query) # tf-idf like scoring only\n",
    "    top_indices = np.argsort(bm25_scores)[::-1][:top_k]\n",
    "\n",
    "    return top_indices"
   ]
  },
  {
   "cell_type": "code",
   "execution_count": 47,
   "id": "97ef5a63",
   "metadata": {},
   "outputs": [],
   "source": [
    "# query = \"Summarize the manual.\" # 1\n",
    "# query = \"What are some general safety rules when using machine equipment?\" # 2\n",
    "# query = \"What does the manual say about unplugging the power cord of the machine from the power outlet?\"\" # 3\n",
    "# query = \"What are the several manual controls on the tool holder carriage?\" # 4\n",
    "# query = \"Tell me about the lever for selection of longitudinal feeds.\" # 5\n",
    "# query = \"What does the document talk about regarding digital displays?\" # 6\n",
    "# query = \"What controls does the electric panel have?\" # 7\n",
    "query = \"How to achieve balance when lifting the Lathe?\" # 8\n",
    "# query = \"Can I use the machine for turning non-ferrous materials?\" # 9\n",
    "# query = \"What should a grounding conductor be used for?\" # 10"
   ]
  },
  {
   "cell_type": "code",
   "execution_count": 48,
   "id": "a7364490",
   "metadata": {},
   "outputs": [
    {
     "name": "stdout",
     "output_type": "stream",
     "text": [
      "Number of staged chunks for context: 33\n",
      "\n"
     ]
    }
   ],
   "source": [
    "# get common chunks from chunks retrived from both implementations\n",
    "bert_top_k_idx = bert_query_pipeline(query)\n",
    "bm25_top_k_idx = bm25_query_pipeline(query)\n",
    "final_idx = list(set(list(bert_top_k_idx) + list(bm25_top_k_idx))) # union operation\n",
    "\n",
    "staged_context = [chunks[idx] for idx in final_idx]\n",
    "staged_context_4_bm25 = [chunks_4_bm25[idx] for idx in final_idx]\n",
    "print(f\"Number of staged chunks for context: {len(staged_context)}\\n\")"
   ]
  },
  {
   "cell_type": "markdown",
   "id": "d5e600f5",
   "metadata": {},
   "source": [
    "### 6. Embed staged context using BERT & get inverted indices of staged context using BM25"
   ]
  },
  {
   "cell_type": "code",
   "execution_count": 49,
   "id": "11c2c8bd",
   "metadata": {},
   "outputs": [],
   "source": [
    "# for bert\n",
    "sem_embs_final = model.encode(staged_context, convert_to_tensor = True)\n",
    "\n",
    "# for bm25\n",
    "tokenized_corpus_final = [doc.split() for doc in staged_context_4_bm25]\n",
    "bm25_final = BM25Okapi(tokenized_corpus_final)"
   ]
  },
  {
   "cell_type": "markdown",
   "id": "c510463f",
   "metadata": {},
   "source": [
    "### 7. Function to get the final set of scores for the staged context chunks for both BERT & BM25"
   ]
  },
  {
   "cell_type": "code",
   "execution_count": 50,
   "id": "6edb56ac",
   "metadata": {},
   "outputs": [],
   "source": [
    "def bert_final_scores(query):\n",
    "     \n",
    "    device = sem_embs_final.device\n",
    "    query_embedding = model.encode(query, convert_to_tensor = True)\n",
    "    cosine_scores = util.cos_sim(query_embedding, sem_embs_final)[0]\n",
    "    indices = np.argsort(cosine_scores.cpu().numpy())[::-1]\n",
    "\n",
    "    return cosine_scores.cpu().numpy(), indices"
   ]
  },
  {
   "cell_type": "code",
   "execution_count": 51,
   "id": "1843a4e9",
   "metadata": {},
   "outputs": [
    {
     "data": {
      "text/plain": [
       "(array([0.3960397 , 0.47947413, 0.4947726 , 0.2815073 , 0.21382767,\n",
       "        0.32934895, 0.338489  , 0.49361777, 0.3396217 , 0.38935027,\n",
       "        0.39136186, 0.03734083, 0.43302828, 0.16442668, 0.32717308,\n",
       "        0.6370603 , 0.57349086, 0.38029957, 0.23378204, 0.32142556,\n",
       "        0.3937065 , 0.34591815, 0.27241832, 0.33424217, 0.38736942,\n",
       "        0.5523763 , 0.40350324, 0.39323258, 0.49982533, 0.38999045,\n",
       "        0.41071075, 0.22984932, 0.0922531 ], dtype=float32),\n",
       " array([15, 16, 25, 28,  2,  7,  1, 12, 30, 26,  0, 20, 27, 10, 29,  9, 24,\n",
       "        17, 21,  8,  6, 23,  5, 14, 19,  3, 22, 18, 31,  4, 13, 32, 11],\n",
       "       dtype=int64))"
      ]
     },
     "execution_count": 51,
     "metadata": {},
     "output_type": "execute_result"
    }
   ],
   "source": [
    "bert_final_scores(query)"
   ]
  },
  {
   "cell_type": "code",
   "execution_count": 52,
   "id": "d5ed7ee9",
   "metadata": {},
   "outputs": [],
   "source": [
    "def bm25_query_pipeline(query):\n",
    "\n",
    "    tokenized_query = query.split()\n",
    "    bm25_scores = bm25_final.get_scores(tokenized_query)\n",
    "    indices = np.argsort(bm25_scores)[::-1]\n",
    "\n",
    "    return bm25_scores, indices"
   ]
  },
  {
   "cell_type": "code",
   "execution_count": 53,
   "id": "c4e6ef3d",
   "metadata": {},
   "outputs": [
    {
     "data": {
      "text/plain": [
       "(array([ 0.        ,  0.        ,  0.        ,  0.        ,  0.        ,\n",
       "         0.        ,  0.        ,  0.        ,  0.        ,  0.        ,\n",
       "         0.        ,  0.        ,  0.        ,  0.        ,  0.        ,\n",
       "        13.08534058,  0.        ,  0.        ,  0.        ,  0.        ,\n",
       "         0.        ,  0.        ,  0.        ,  0.        ,  0.        ,\n",
       "         0.        ,  0.        ,  0.        ,  0.        ,  0.        ,\n",
       "         0.        ,  0.        ,  0.        ]),\n",
       " array([15, 32,  1,  2,  3,  4,  5,  6,  7,  8,  9, 10, 11, 12, 13, 14, 16,\n",
       "        31, 17, 18, 19, 20, 21, 22, 23, 24, 25, 26, 27, 28, 29, 30,  0],\n",
       "       dtype=int64))"
      ]
     },
     "execution_count": 53,
     "metadata": {},
     "output_type": "execute_result"
    }
   ],
   "source": [
    "bm25_query_pipeline(query)"
   ]
  },
  {
   "cell_type": "markdown",
   "id": "c530ab50",
   "metadata": {},
   "source": [
    "### 8. Applying fusion scoring\n",
    "**`α * xi + (1 - α) * yi`**<br><br>\n",
    "...where `xi` is score of the ith chunk from the bert model and `yi` is score of the ith chunk from bm25."
   ]
  },
  {
   "cell_type": "code",
   "execution_count": 54,
   "id": "cad19d61",
   "metadata": {},
   "outputs": [],
   "source": [
    "# function to normalize the scores\n",
    "def normalize_scores(scores):\n",
    "    min_s = np.min(scores)\n",
    "    max_s = np.max(scores)\n",
    "    return (scores - min_s) / (max_s - min_s) if max_s > min_s else scores\n",
    "\n",
    "# function to fuse the scores\n",
    "def fused_scores(query, alpha = 0.8, top_l = 8):\n",
    "    bm25_scores, bm25_indices = bm25_query_pipeline(query)\n",
    "    bert_scores, bert_indices = bert_final_scores(query)\n",
    "    \n",
    "    # create arrays to hold scores aligned by document index\n",
    "    num_docs = len(bm25_scores)  # should be same as bert_scores length\n",
    "    bm25_aligned = np.zeros(num_docs)\n",
    "    bert_aligned = np.zeros(num_docs)\n",
    "    \n",
    "    # align bm25 scores (indices are original document indices)\n",
    "    for idx, score in zip(bm25_indices, bm25_scores):\n",
    "        bm25_aligned[idx] = score\n",
    "\n",
    "    # align BERT scores\n",
    "    for idx, score in zip(bert_indices, bert_scores):\n",
    "        bert_aligned[idx] = score\n",
    "\n",
    "    # normalize\n",
    "    bm25_norm = normalize_scores(bm25_aligned)\n",
    "    bert_norm = normalize_scores(bert_aligned)\n",
    "\n",
    "    # fuse\n",
    "    fused = alpha * bm25_norm + (1 - alpha) * bert_norm\n",
    "\n",
    "    # top-L indices by fused score\n",
    "    top_indices = np.argsort(fused)[::-1][:top_l]\n",
    "\n",
    "    return top_indices\n",
    "\n",
    "best = fused_scores(query)"
   ]
  },
  {
   "cell_type": "markdown",
   "id": "1300c965",
   "metadata": {},
   "source": [
    "### 9. Get final context"
   ]
  },
  {
   "cell_type": "code",
   "execution_count": 55,
   "id": "6366d2ac",
   "metadata": {},
   "outputs": [],
   "source": [
    "final_context = ''\n",
    "for idx in best:\n",
    "    # remove unnecessary dots\n",
    "    final_string = re.sub(r'\\.{2,}', '.', chunks[idx])\n",
    "    final_context += final_string"
   ]
  },
  {
   "cell_type": "code",
   "execution_count": 58,
   "id": "ac661f57",
   "metadata": {},
   "outputs": [
    {
     "data": {
      "text/plain": [
       "'TEXT DATA: ALWAYS use appropriate personal protective equipment (PPE) such as (see  Figure 14 ): \\uf0b7 Gloves; \\uf0b7 Goggles or face shields; \\uf0b7 Overalls or aprons; \\uf0b7 Safety shoe s. TEXT DATA: PROTECTIVE TEXT DATA: PROTECT YOUR TEXT DATA: PROTECTIVE TEXT DATA: PROTECTIVE TEXT DATA: PROTECTIVE TEXT DATA: GLOVES TEXT DATA: EYES TEXT DATA: SCREEN TEXT DATA: CLOTHING TEXT DATA: SHOES TEXT DATA: Figure 14 – Personal Protective Equipment. TEXT DATA: Page 21 of 84 TEXT DATA: MACHINES AND ACCESSORIES TABLE DATA: [[\\'THE FOLLOWING IS STRICTLY PROHIBITED!\\\\nm\\'], [\\'Supplying the machine with voltage from the mains that is different from that shown on\\\\n\\\\uf0b7\\\\nthe identification plate (230V, 50 Hz).\\\\nUsing the machine for services other than those for which it is intended;\\\\n\\\\uf0b7\\\\nUsing the machine without having read the operating instructions and without due care.\\\\n\\\\uf0b7\\\\nUsing the machine, and in particular\\\\nloading without\\\\nthe use of\\\\n\\\\uf0b7\\\\nappropriate personal protective equipment (PPE) according to the instructions given in\\\\nthis manual.\\\\no\\\\nUsing the machine and, particularly, the tool\\\\n\\\\uf0b7\\\\nPicking up moving tools or other moving parts.\\\\n\\\\uf0b7\\\\nc\\\\nTaking measurements of\\\\nthe workpiece mounted on the spindle, without\\\\nturning the\\\\n\\\\uf0b7\\\\nmotor off, unplugging it and waiting for the spindle to stop.\\\\n.\\\\nRemoving chips with your hands.\\\\n\\\\uf0b7\\\\ni\\\\nReplacing the work tools or carrying out the speed change, without stopping the motor,\\\\n\\\\uf0b7\\\\ndisconnecting the plug and waiting for the machine to stop.\\\\nModifying and/or tampering with the safety devices of the lathe.\\\\nv\\\\n\\\\uf0b7\\\\nUsing the machine as a support and/or work surface.\\\\n\\\\uf0b7\\\\nr\\\\nClimbing on the machine.\\\\n\\\\uf0b7\\\\nTouching the machine with wet and/or damp hands.\\\\n\\\\uf0b7\\\\nUsing the machine when barefoot.\\\\n\\\\uf0b7\\\\ne\\\\nExposing the machine to the elements (sun, rain, hail, etc.).\\\\n\\\\uf0b7\\\\nf\\\\nUsing jets of water\\\\n\\\\uf0b7\\\\nUsing the machine without fastening it securely.\\\\n\\\\uf0b7\\\\nCleaning and/or maintaining the machine without fastening it securely.\\\\n\\\\uf0b7\\\\nInstalling and using the machine on surfaces that are not sufficiently flat and smooth.\\\\n\\\\uf0b7\\\\nInstalling and using the machine on surfaces that are not hard and strong enough to\\\\n\\\\uf0b7\\\\nsupport its weight.\\\\nInstalling and using the machine outdoors.\\\\n\\\\uf0b7\\']] TEXT DATA: 6 FORBIDDEN USES AND HAZARDS TEXT DATA: The modes of use specified in this manual as incorrect,  should never be permitted , under any circumstances. TEXT DATA: Using the machine for turning non-ferrous materials, for unauthorised manoeuvres, its misuse and lack of maintenance can result in serious danger to the safety of the staff, especially the operator, as well as affecting the functionality and the intrinsic safety of the machine itself. TEXT DATA: The following actions described, which obviously can not cover the entire range of potential possibilities of \"misuse\" of the machine, are those which are \"reasonably\" more predictable and should be considered strictly prohibited. TEXT DATA: THE FOLLOWING IS STRICTLY PROHIBITED! TEXT DATA: \\uf0b7 Supplying the machine with voltage from the mains that is different from that shown on the identification plate (230V, 50 Hz). TEXT DATA: \\uf0b7 Using the machine for services other than those for which it is intended; TEXT DATA: \\uf0b7 Using the machine without having read the operating instructions and without due care. TEXT DATA: \\uf0b7 Using the machine, and in particular carrying out manual loading without the use of appropriate personal protective equipment (PPE) according to the instructions given in this manual.TEXT DATA: 24 TEXT DATA: 16 TEXT DATA: 6 TEXT DATA: 18 TEXT DATA: 5 TEXT DATA: 19 TEXT DATA: 4 TEXT DATA: 20 TEXT DATA: 21 TEXT DATA: 3 TABLE DATA: [[\\'\\', \\'\\'], [\\'\\', \\'\\'], [\\'\\', \\'\\'], [\\'\\', \\'o\\\\nc\\'], [\\'\\', \\'\\'], [\\'\\', \\'\\']] TEXT DATA: 1 2 TEXT DATA: 22 23 TEXT DATA: Figure 2 – Main parts of the gear head lathe (Art. T999/230V and T999/400V). TEXT DATA: 1 Brake 9 Protective device 17  Tailstock handwheel TEXT DATA: 2 Carriage handwheel 10  Halogen lamp 18  Support bars TEXT DATA: 3 Workbench 11  Turret 19  Lead screw TEXT DATA: 4 Speed switches 12  Coolant tube 20  Turning bar TEXT DATA: 5 Side cover 13  Longitudinal turret travel (mm) TEXT DATA: 21  Bar for lathe activation TEXT DATA: 6 Control panel 14  Micrometer 22  Tray TEXT DATA: 7 Electrical controls 15  Tailstock block 23  Transmission activation lever; TEXT DATA: 8 3-jaw lathe spindle 16  Guides 24  Digital display TEXT DATA: Page 13 of 84TEXT DATA: - Setting the axis linear encoder measuring direction. TEXT DATA: 1 X X d i r TEXT DATA: - Press the button of the axis which you wish to set (X, Y, Z) TEXT DATA: 0 TEXT DATA: - Press the button for a positive count in the direction of movement from the outside towards the rotation axis. TEXT DATA: 1 TEXT DATA: - Press the button for a negative count in the direction of movement from the outside towards the rotation axis. TABLE DATA: [[\\'Button\\', \\'Machine\\\\nv\\'], [\\'\\', \\'Multifunction milling machine\\'], [\\'r\\', \\'Universal milling machine\\'], [\\'\\', \\'Process unloader\\'], [\\'\\', \\'Lathe\\']] TEXT DATA: \\uf0f2 ENT TEXT DATA: - Press the buttons and to move to the next step. TEXT DATA: - Perform the above st ep s  t o  s et the measuring direction of the linear encoder TEXT DATA: of the Y axes (Z if used) TEXT DATA: \\uf0f2 ENT TEXT DATA: - After each setting, press the button and to move to the next step. TEXT DATA: - Setting the list of tools. TEXT DATA: 0 X t o o l TEXT DATA: - Select the desired machine by pressing the corresponding button. TEXT DATA: Button Machine TEXT DATA: 0 Multifunction milling machine TEXT DATA: 1 Universal milling machine TEXT DATA: 2 Process unloader TEXT DATA: 3 Lathe TEXT DATA: \\uf0f2 ENT TEXT DATA: - Press the buttons and to move to the next step.TEXT DATA: 1 GENERAL INFORMATION TEXT DATA: This manual is considered an integral part of the machine it was attached to at the time of purchase. The manufacturer holds all ownership to material and intellectual property of this manual; any disclosure or copying, even partial, of this publication without prior written consent is forbidden. TEXT DATA: This manual is designed to provide the knowledge required for the use and maintenance of the  Gear head lathe (Art. T999/230V – T999/230V3A – T999/400V T999/400V3A) and to provide the operator assigned to the device with a sense of responsibility and knowledge of its possibilities and limitations. TEXT DATA: Operators must be properly trained and prepared, so make sure that this manual is read and consulted by the staff responsible for commissioning, operation and maintenance of the machine. This is to make all operations as safe and effective as possible for those who carry out these tasks. Therefore, it is imperative to strictly comply with the requirements in this manual, a necessary condition for safe and satisfactory operation of the Lathe. TEXT DATA: Before starting operation, installation and use of the machine, authorized staff must therefore: \\uf0b7 read this technical document carefully; \\uf0b7 know which protections and safety devices are available on the Lathe, their location and how they work. TEXT DATA: The buyer is responsible for ensuring that users are properly trained, that they are aware of all the information and instructions in this document and that they are aware of the potential risks of operating the Lathe. TEXT DATA: The manufacturer will not be held responsible for any damage to people and/or property caused by non-compliance with any instructions in this manual. TEXT DATA: Operators will be held fully responsible for any changes they have made to the machine; the manufacturer will not be held responsible for any damage to persons and/or property resulting from maintenance performed by unqualified personnel and in a manner that differs from the operating procedures shown below. TEXT DATA: Page 5 of 84 TEXT DATA: MACHINES AND ACCESSORIES TEXT DATA: The  Gear head lathe  has been designed and built with mechanical guards and safety devices designed to protect the operator/user from possible injury. It is strictly forbidden to modify or remove guards, safety devices and caution labels. If you do so temporarily (for example, for the purposes of cleaning or repair), make sure that no one can use the machine. TEXT DATA: Graphic representation of safety, operational and risk warnings TEXT DATA: The following boxes are designed to attract the attention of the reader / user for the  proper and  safe  use of the machine: TEXT DATA: Pay Attention TEXT DATA: This highlights behavioural rules to prevent damage to the machine and/or the occurrence of dangerous  sit u at ions. TEXT DATA: Residual Risks TEXT DATA: This highlights the presence of dangers that cause residual risks to which the operator must pay attentio n  i n  order to avoid injury or damage to property. TEXT DATA: Page 6 of 84 TEXT DATA: MACHINES AND TEXT DATA: ACCESSORIES TEXT DATA: 2 GENERAL SAFETY WARNINGS TEXT DATA: 2.1 General safety rules for machine equipment TEXT DATA: Follow the instructions contained herein, in addition to the general precautions to be observed while working. Even if the operator is already familiar with the use of manually operated lathes, it is necessary to: In particular: TEXT DATA: \\uf0b7 Acquire full knowledge of the machine. For safe operation, this manual must be read carefully in order to acquire the necessary knowledge of the machine and to understand: operation, safety devices and all necessary precautions. \\uf0b7 Wear appropriate clothing for the job. The operator must wear appropriate clothing to prevent accidents. \\uf0b7 Maintain the machine with care.TEXT DATA: 9 – Linear error compensation The linear error compensation function is used for the correction of errors in the transmission system of the lead screw. The correction factor is expressed as: TEXT DATA: \\uf028 \\uf029 \\uf028 \\uf029 m mm L TEXT DATA: \\' \\uf02d \\uf03d TEXT DATA: L L S / 1000 / TEXT DATA: where L  \\uf0e0 is the useful length of the Z axis in mm; L’ \\uf0e0 is the value displayed on the panel in mm; S  \\uf0e0 is the correction factor in mm/m. TEXT DATA: The correction factor can be positive if the displayed value is less than the actual length, negative if the value displayed is higher. The compensation range is ± 1.500 mm/m. TEXT DATA: Ex. If the useful length of the Y axes is 1000 mm and the panel at the end of travel of the carriage, reads 999.98 mm then S=(1000-999.98)/(1000/1000)=0.02 mm/m. So to enter the compensation value it is necessary to: TEXT DATA: M/ TEXT DATA: - Select the Y axis by pressing the button TEXT DATA: , pressing the button displays the correction factor S previously set. TEXT DATA: s 0. 0 5 0 Y TEXT DATA: - Enter the calculated value 0.02 by pressing in sequence the keys 0 . 0 2 TEXT DATA: s 0. 0 2 0 Y TEXT DATA: ENT TEXT DATA: - Press the button to confirm the data. TEXT DATA: The linear error compensation can be performed by either displaying the absolute coordinates, or displaying the relative coordinates. TEXT DATA: 10 – Disconnection of the power supply If the power supply is disconnected or it is necessary to turn off the machine during machining, the panel is able to automatically store the coordinates where the tool is located, the compensation factor currently set and the display mode. When the machine is turned on again, the display will show the exact data before the interruption, immediately after the initial self-diagnosis phase. If the tool and/or workpiece have not been moved, it is possible to resume machining without problems. TEXT DATA: Page 45 of 84 TEXT DATA: MACHINES AND ACCESSORIES TEXT DATA: 10 OPERATION TEXT DATA: Intended use and materials TEXT DATA: The Gear head lathe (Art. T999/230V and T999/400V) has been designed and constructed for the machining of metallic materials by means of cold chip removal. Any use and lack of respect for the technical parameters established by the manufacturer may be dangerous to operators;  th e re fore, the manufacturer cannot assume any liability for resulting damages. TEXT DATA: Risk of Abrasion and Accident TEXT DATA: \\uf0b7 Before using the machine, make sure that it is correctly attached to prevent unwanted movement or loss of stability. \\uf0b7 Wear appropriate personal protective equipment (PPE) such as gloves, goggles, overalls or aprons and safety shoes.TEXT DATA: - As you are using the  l a t h e,  s e lect number 3, then the instrument will display TEXT DATA: only the X and Y dimensions necessary for turning operations TEXT DATA: Page 37 of 84 TEXT DATA: MACHINES AND ACCESSORIES TEXT DATA: - Integration of the Y-axis with the Z axis TEXT DATA: 1 0 TEXT DATA: - Press the button or the button to change the setting TEXT DATA: Y N O N E TEXT DATA: Y I N G R E A T TEXT DATA: \\uf0f2 ENT TEXT DATA: - After the selection press the and buttons to move to the next step. TEXT DATA: By integrating the Y and Z dimensions (movements on the same axis) only one dimension (Y-axis) will be displayed, which will vary depending on whether you are operating the handwheel for longitudinal movement of the carriage, or the handwheel for longitudinal movement of the turret. TEXT DATA: CLS TEXT DATA: \\uf0f2 TEXT DATA: - Press the button twice to activate the auto-diagnostic function. Press to finish the setting process. A) TEXT DATA: X t e s t o f f TEXT DATA: 3 – R ESETTING THE DISPLAY TEXT DATA: X TEXT DATA: - You can reset the display of the X, Y and Z axes at any time by pressing the TEXT DATA: CLS TEXT DATA: button, or and then the button. TEXT DATA: 3 2 1. 4 5 6 X TEXT DATA: \\uf0ea TEXT DATA: 0. 0 0 0 XTABLE DATA: [[\\'PLATE IN ITALIAN\\', \\'\\', \\'\\', \\'\\', \\'\\', \\'\\', \\'\\', \\'\\', \\'\\'], [\\'\\', \\'\\', \\'\\', \\'\\', \\'\\', \\'\\', \\'\\', \\'\\', \\'\\'], [\\'\\', \\'ATTENZIONE\\\\nÈ VIETATO ESEGUIRE LAVORI SU\\\\nAPPARECCHIATURE ELETTRICHE SOTTO\\\\nTENSIONE\\', \\'\\', \\'\\', \\'\\', \\'\\', \\'\\', \\'\\', \\'\\'], [\\'\\', \\'\\', \\'\\', \\'\\', \\'\\', \\'m\\', \\'\\', \\'\\', \\'\\'], [\\'\\', \\'\\', \\'\\', \\'\\', \\'\\', \\'\\', \\'\\', \\'\\', \\'\\'], [\\'\\', \\'\\', \\'\\', \\'\\', \\'\\', \\'IT IS PROHIBITED TO WORK ON LIVE ELECTRICAL\\', \\'\\', \\'\\', \\'\\'], [\\'\\', \\'\\', \\'\\', \\'\\', \\'\\', \\'ANY EXCEPTIONS MUST BE APPROVED BY THE HEAD\\\\nONLY BEGIN WORKING WHEN SAFETY MEASURES\\\\nIn accordance with Legislative Decree 81/08 on accident\\\\no\\', \\'\\', \\'\\', \\'\\'], [\\'\\', \\'EVENTUALI DEROGHE DEVONO ESSERE\\\\n\\\\uf0b7\\\\nAUTORIZZATE DAL CAPO RESPONSABILE\\\\nIN CONDIZIONI DI PARTICOLARE PERICOLO DEVE\\\\n\\\\uf0b7\\\\nESSERE PRESENTE UN’ALTRA PERSONA OLTRE A CHI\\\\nESEGUE IL LAVORO\\\\nINIZIARE I LAVORI SOLO AD AVVENUTA\\\\nATTAZIONE DELLE MISURE DI SICUREZZA\\\\nIn ottemperanza al Dgs.81/08 relativo alla prevenzioni\\\\ninfortuni\\', \\'\\', \\'\\', \\'\\', \\'\\', \\'\\', \\'\\', \\'\\'], [\\'\\', \\'\\', \\'\\', \\'\\', \\'\\', \\'\\', \\'\\', \\'\\', \\'\\'], [\\'\\', \\'\\', \\'\\', \\'c\\\\n.\\\\ni\\\\nv\\\\nr\\\\ne\\', \\'\\', \\'\\', \\'\\', \\'\\', \\'\\'], [\\'\\', \\'\\', \\'NON\\\\nRIMUOVERE\\\\nI DISPOSITIVI DI\\\\nSICUREZZA\\', \\'\\', \\'\\', \\'\\', \\'\\', \\'\\', \\'\\'], [\\'\\', \\'\\', \\'\\', \\'\\', \\'\\', \\'\\', \\'DO NOT\\\\nREMOVE\\\\nTHE SAFETY DEVICES\\', \\'\\', \\'\\'], [\\'\\', \\'\\', \\'\\', \\'\\', \\'\\', \\'\\', \\'\\', \\'\\', \\'\\'], [\\'\\', \\'\\', \\'\\', \\'\\', \\'\\', \\'\\', \\'\\', \\'\\', \\'\\'], [\\'\\', \\'\\', \\'f\\', \\'\\', \\'\\', \\'\\', \\'\\', \\'\\', \\'\\'], [\\'\\', \\'\\', \\'\\', \\'\\', \\'\\', \\'\\', \\'\\', \\'\\', \\'\\']] TEXT DATA: \\uf0b7 Hazard / warning plate. TEXT DATA: Prohibitive warning for carrying out work on live equipment. \\uf0b7 Hazard plate. \\uf0b7 The removal of safety guards is forbidden. \\uf0b7 Electrical hazard symbol TEXT DATA: PLATE IN ITALIAN PLATE IN ENGLISH TEXT DATA: ATTENZIONE TEXT DATA: ATTENTION TEXT DATA: È VIETATO ESEGUIRE LAVORI SU APPARECCHIATURE ELETTRICHE SOTTO TEXT DATA: IT IS PROHIBITED TO WORK ON LIVE ELECTRICAL TEXT DATA: EQUIPMENT \\uf0b7 ANY EXCEPTIONS MUST BE APPROVED BY THE HEAD TEXT DATA: TENSIONE \\uf0b7 EVENTUALI DEROGHE DEVONO ESSERE TEXT DATA: MANAGER \\uf0b7 UNDER PARTICULARLY DANGEROUS CONDITIONS, TEXT DATA: AUTORIZZATE DAL CAPO RESPONSABILE \\uf0b7 IN CONDIZIONI DI PARTICOLARE PERICOLO DEVE TEXT DATA: ANOTHER PERSON MUST BE PRESENT WHO IS NOT TEXT DATA: ESSERE PRESENTE UN’ALTRA PERSONA OLTRE A CHI TEXT DATA: PERFORMING THE WORK ONLY BEGIN WORKING WHEN SAFETY MEASURES TEXT DATA: ESEGUE IL LAVORO INIZIARE I LAVORI SOLO AD AVVENUTA ATTAZIONE DELLE MISURE DI SICUREZZA In ottemperanza al Dgs.81/08 relativo alla prevenzioni TEXT DATA: HAVE BEEN IMPLEMENTED In accordance with Legislative Decree 81/08 on accident TEXT DATA: prevention TEXT DATA: infortuni TEXT DATA: NON RIMUOVERE TEXT DATA: DO NOT REMOVE TEXT DATA: I DISPOSITIVI DI TEXT DATA: THE SAFETY DEVICES TEXT DATA: SICUREZZATEXT DATA: \\uf0b7 Performing maintenance operations in insufficient conditions of lighting and/or visibility. TEXT DATA: \\uf0b7 Performing cleaning and/or maintenance without disconnecting the power plug. TEXT DATA: \\uf0b7 Changing the machine\\'s electrical system. TEXT DATA: \\uf0b7 Movi n g th e  machine without using suitable lifting equipment. TEXT DATA: Page 23 of 84 TEXT DATA: MACHINES AND ACCESSORIES TEXT DATA: 7 LIFTING, TRANSPORTATION AND STORAGE IN TEXT DATA: WAREHOUSE TEXT DATA: 7.1 Lifting TEXT DATA: To lift the Lathe, proceed as follows: 1. To achieve perfect balance, move the tailstock all the way to the end on the right side of TEXT DATA: the table and securely fix it with the locking lever; 2. At the same time, slide the tool holder carriage until the perfect machine balance is obtained. TEXT DATA: Breaking of the guide rails TEXT DATA: Make sure that the harnessing accessories are not touching the guide rails and the lead screw, which could   be  d amaged beyond repair. TEXT DATA: 1. Attach the hook of the lifting equipment (cranes, hoists, etc.) in the centre of harness TEXT DATA: accessories (between the two side ends) and lift slowly and smoothly. TEXT DATA: The manufacturer declines all responsibility for any damage to people and/or objects caused by the improper lifting of the machine performed by unsuitable personnel, with inappropriate lifting means and without following the instructions in this manual. TEXT DATA: 7.2 Transportation TEXT DATA: The transport of the machine can be carried out through the aid of vehicles and/or industrial transportation vehicles, such as trucks, with containers of sufficient size to hold the machine itself. The machine must be suitably anchored to the means of transport (for example, through the aid of ropes). During transport, the machine must be protected from rain, snow, hail, wind, and any other adverse weather conditions. In this regard, it is advisable to use means of transport with closed compartments (vans, trucks etc.) or possibly covered with tarpaulin. TEXT DATA: 7.3 Warehouse storage TEXT DATA: In the event that the machine is to be stored and unused for some time before being put into service again, proceed as follows: 1. Disconnect the power supply cable; 2. Protect the machined parts (such as the guides, the carriage and the tool holder slides, TEXT DATA: spindle, the tailstock quill etc.) with protective liquid and/or grease; 3. Store in a dry place, free from dust and contaminating agents. Climatic conditions TEXT DATA: recommended for storage: Temperature:  - 15° / + 55° C; Humidity:  95% (non-condensing). TEXT DATA: Shock Protection TEXT DATA: Make sure  t h e  L a the is protected from knocks and vibrations.'"
      ]
     },
     "execution_count": 58,
     "metadata": {},
     "output_type": "execute_result"
    }
   ],
   "source": [
    "final_context"
   ]
  },
  {
   "cell_type": "markdown",
   "id": "a4838151",
   "metadata": {},
   "source": [
    "### 10. LLM setup"
   ]
  },
  {
   "cell_type": "code",
   "execution_count": 56,
   "id": "c230273a",
   "metadata": {},
   "outputs": [],
   "source": [
    "def llama(prompt):\n",
    "    client = Groq(\n",
    "        api_key = os.getenv(\"GROQ_API_KEY\"),\n",
    "    )\n",
    "\n",
    "    chat_completion = client.chat.completions.create(\n",
    "        model = \"llama-3.3-70b-versatile\",\n",
    "        # model = \"llama3-70b-8192\",\n",
    "        # model = \"mistral-saba-24b\",\n",
    "        messages = [\n",
    "            {\n",
    "                \"role\": \"system\",\n",
    "                \"content\": \"You are an expert technical assistant specialized in interpreting operations and maintenance manuals for machinery.\"\n",
    "            },\n",
    "            {\n",
    "                \"role\": \"user\",\n",
    "                \"content\": prompt\n",
    "            }\n",
    "        ],\n",
    "        temperature = 0.5,\n",
    "        max_tokens = 5640,\n",
    "        top_p = 1,\n",
    "        stream = True,\n",
    "    )\n",
    "\n",
    "    for chunk in chat_completion:\n",
    "        content = chunk.choices[0].delta.content\n",
    "        if content:\n",
    "            print(content, end='', flush = True)  # print to console without newline, flush immediately\n",
    "            time.sleep(0.01)  # optional delay for typewriter effect\n",
    "    \n",
    "\n",
    "def prompt(query, context):\n",
    "    return f\"\"\"\n",
    "        You are an expert technical assistant specialized in interpreting operations and maintenance manuals for machinery.\n",
    "\n",
    "        Given the user question and the relevant extracted context from the manual:\n",
    "\n",
    "        - Provide a clear, precise, and factual answer to the question.\n",
    "        - Base your response strictly on the provided context; do not guess beyond it.\n",
    "        - If the context does not contain enough information, indicate that the answer is not available in the manual or that the context is not sufficient.\n",
    "        - Keep the answer professional, concise, and focused on practical instructions.\n",
    "        - Each section of the context begins with a tag: either 'TEXT DATA' or 'TABLE DATA'.\n",
    "        - 'TEXT DATA' represents plain, unstructured text. 'TABLE DATA' represents information extracted from a table and flattened into a list format.\n",
    "        - The 'TABLE DATA' is structured as a list of rows, where each row is a list containing the column values in order. The format is as follows: [[column 1 value, column 2 value, ...], [column 1 value, column 2 value, ...], ...]\n",
    "        - If available, provide references for the information.\n",
    "        \n",
    "        User Question:\n",
    "        {query}\n",
    "\n",
    "        Context from Manual:\n",
    "        {context}\n",
    "    \"\"\""
   ]
  },
  {
   "cell_type": "markdown",
   "id": "a779bc91",
   "metadata": {},
   "source": [
    "### 11. Inference"
   ]
  },
  {
   "cell_type": "code",
   "execution_count": 57,
   "id": "c63ddb7c",
   "metadata": {},
   "outputs": [
    {
     "name": "stdout",
     "output_type": "stream",
     "text": [
      "QUERY: How to achieve balance when lifting the Lathe?\n",
      "\n",
      "RESPONSE:\n",
      "To achieve balance when lifting the Lathe, follow these steps:\n",
      "\n",
      "1. Move the tailstock all the way to the end on the right side of the table and securely fix it with the locking lever.\n",
      "2. At the same time, slide the tool holder carriage until the perfect machine balance is obtained.\n",
      "\n",
      "Then, attach the hook of the lifting equipment (cranes, hoists, etc.) in the centre of harness accessories (between the two side ends) and lift slowly and smoothly.\n",
      "\n",
      "Reference: Section 7.1 Lifting, Page 23 of 84."
     ]
    }
   ],
   "source": [
    "prompt = prompt(query, final_context) # go to section number 5 to change query\n",
    "print(f\"QUERY: {query}\\n\")\n",
    "print('RESPONSE:')\n",
    "llama(prompt)"
   ]
  },
  {
   "cell_type": "markdown",
   "id": "ce3051a7",
   "metadata": {},
   "source": [
    "### General points when testing\n",
    "1. It was found that for most of the queries, giving more weightage to keywords gave accurate responses (query 2, 3, 4 & 6 at an alpha value of 0.8).\n",
    "2. However, some queries seem to provide answers when weightage is given to BERT (query 9 at an alpha value of 0.3). \n",
    "3. Inital set of chunks is very crucial. Optimal seems to be 20."
   ]
  }
 ],
 "metadata": {
  "kernelspec": {
   "display_name": "py310",
   "language": "python",
   "name": "python3"
  },
  "language_info": {
   "codemirror_mode": {
    "name": "ipython",
    "version": 3
   },
   "file_extension": ".py",
   "mimetype": "text/x-python",
   "name": "python",
   "nbconvert_exporter": "python",
   "pygments_lexer": "ipython3",
   "version": "3.10.15"
  }
 },
 "nbformat": 4,
 "nbformat_minor": 5
}
