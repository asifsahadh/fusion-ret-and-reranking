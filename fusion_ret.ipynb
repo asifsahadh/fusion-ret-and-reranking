{
 "cells": [
  {
   "cell_type": "markdown",
   "id": "7acb9a8d",
   "metadata": {},
   "source": [
    "### **Fusion Retrieval based RAG** \n",
    "1. Initial idea was to include images, but very expensive."
   ]
  },
  {
   "cell_type": "markdown",
   "id": "6756d5e7",
   "metadata": {},
   "source": [
    "---"
   ]
  },
  {
   "cell_type": "code",
   "execution_count": 14,
   "id": "b912bffb",
   "metadata": {},
   "outputs": [],
   "source": [
    "import os\n",
    "import fitz  # PyMuPDF\n",
    "import camelot\n",
    "from PIL import Image\n",
    "import io\n",
    "from pathlib import Path"
   ]
  },
  {
   "cell_type": "code",
   "execution_count": null,
   "id": "b0193147",
   "metadata": {},
   "outputs": [],
   "source": [
    "def extract_text_and_tables(pdf_path):\n",
    "    import os\n",
    "\n",
    "    # If input is a folder, search for a single PDF inside it\n",
    "    if os.path.isdir(pdf_path):\n",
    "        input_dir = Path(pdf_path)\n",
    "        pdf_files = list(input_dir.glob(\"*.pdf\"))\n",
    "        if len(pdf_files) == 0:\n",
    "            raise FileNotFoundError(\"No PDF files found in the input directory.\")\n",
    "        elif len(pdf_files) > 1:\n",
    "            print(\"Warning: Multiple PDFs found. Processing first PDF only.\")\n",
    "        pdf_file = pdf_files[0]\n",
    "    else:\n",
    "        # Direct file path\n",
    "        pdf_file = Path(pdf_path)\n",
    "        if not pdf_file.is_file() or pdf_file.suffix.lower() != \".pdf\":\n",
    "            raise FileNotFoundError(\"Provided file path is not a valid PDF.\")\n",
    "\n",
    "    doc = fitz.open(str(pdf_file))\n",
    "    result = []\n",
    "\n",
    "    for page_num, page in enumerate(doc, start=1):\n",
    "        page_blocks = []\n",
    "\n",
    "        blocks = page.get_text(\"dict\")[\"blocks\"]\n",
    "        for block in blocks:\n",
    "            if block[\"type\"] == 0:\n",
    "                text_content = \" \".join(\n",
    "                    span[\"text\"] for line in block[\"lines\"] for span in line[\"spans\"]\n",
    "                ).strip()\n",
    "                if text_content:\n",
    "                    y = block[\"bbox\"][1]\n",
    "                    page_blocks.append({\n",
    "                        \"type\": \"text\",\n",
    "                        \"y\": y,\n",
    "                        \"content\": text_content\n",
    "                    })\n",
    "\n",
    "        try:\n",
    "            tables = camelot.read_pdf(str(pdf_file), pages=str(page_num), flavor='lattice')\n",
    "        except Exception as e:\n",
    "            print(f\"Failed to read tables on page {page_num}: {e}\")\n",
    "            tables = []\n",
    "\n",
    "        for table in tables:\n",
    "            table_data = table.data\n",
    "            bbox = table._bbox\n",
    "            y = float(bbox[1])\n",
    "            page_blocks.append({\n",
    "                \"type\": \"table\",\n",
    "                \"y\": y,\n",
    "                \"content\": table_data\n",
    "            })\n",
    "\n",
    "        page_blocks.sort(key=lambda b: b[\"y\"])\n",
    "        result.extend(page_blocks)\n",
    "\n",
    "    return result\n",
    "\n",
    "\n",
    "result = extract_text_and_tables(\"manual.pdf\")"
   ]
  },
  {
   "cell_type": "code",
   "execution_count": 27,
   "id": "b1f23a60",
   "metadata": {},
   "outputs": [
    {
     "data": {
      "text/plain": [
       "[['Description (unit of measurement)', 'T999/230V\\nT999/400V'],\n",
       " ['Centres distance (mm)', '1000'],\n",
       " ['Spindle hole diameter (mm)', '38'],\n",
       " ['Maximum swing over the bed (mm)', '320'],\n",
       " ['Maximum swing over the cross slide (mm)', '198'],\n",
       " ['Turning diameter over cavity (mm)', '470'],\n",
       " ['Spindle diameter (3 + 3 self centring) (mm)', '160'],\n",
       " ['Spindle connector', 'Camlock D1-4'],\n",
       " ['No. of spindle speeds', '8\\nm'],\n",
       " ['Spindle speed (r/min)', '70 - 2000 RPM'],\n",
       " ['No. of metric threads', '32'],\n",
       " ['Range of metric threads (mm)', '0.44- 10'],\n",
       " ['No. of inch threads', '20'],\n",
       " ['Range of inch threads (mm)', '2 ¼ - 40'],\n",
       " ['Range of longitudinal', '00.78- 1.044'],\n",
       " ['Range of transverse feeds (mm)', '0.022- 0.298'],\n",
       " ['Outer diameter of the feed screw (mm)', '22'],\n",
       " ['Guide length (mm)\\nfervi.c o', '1390'],\n",
       " ['Cross carriage travel (mm)', '200'],\n",
       " ['Tailstock sleeve diameter (mm)', '32'],\n",
       " ['Maximum travel of the tailstock sleeve (mm)', '80'],\n",
       " ['Inner taper', 'CM 5'],\n",
       " ['Tailstock base length (mm)', '165'],\n",
       " ['Tailstock base width (mm)', '125'],\n",
       " ['Steady rest diameter (mm)', '120'],\n",
       " ['Dimensions (W x D x H) (mm)', '1820 x 530 x 1350'],\n",
       " ['Package dimensions (W x D x H) (mm)', '1920 x 840 x 1560'],\n",
       " ['Weight of machine (kg)', '520'],\n",
       " ['Voltage / power supply frequency (V / Hz)', '230/50.\\n400 / 50'],\n",
       " ['Motor power (W)', '1500/1800'],\n",
       " [\"Acoustic pressure level at operator's workstation\\n(dB(A))\", '84']]"
      ]
     },
     "execution_count": 27,
     "metadata": {},
     "output_type": "execute_result"
    }
   ],
   "source": [
    "result[156]['content']"
   ]
  },
  {
   "cell_type": "code",
   "execution_count": null,
   "id": "15f0b6f9",
   "metadata": {},
   "outputs": [],
   "source": []
  }
 ],
 "metadata": {
  "kernelspec": {
   "display_name": "py310",
   "language": "python",
   "name": "python3"
  },
  "language_info": {
   "codemirror_mode": {
    "name": "ipython",
    "version": 3
   },
   "file_extension": ".py",
   "mimetype": "text/x-python",
   "name": "python",
   "nbconvert_exporter": "python",
   "pygments_lexer": "ipython3",
   "version": "3.10.15"
  }
 },
 "nbformat": 4,
 "nbformat_minor": 5
}
