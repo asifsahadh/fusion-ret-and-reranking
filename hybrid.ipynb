{
 "cells": [
  {
   "cell_type": "markdown",
   "id": "216ea2fe",
   "metadata": {},
   "source": [
    "## **Hybrid Architecture: Fusion Retrieval + Reranking based RAG** "
   ]
  },
  {
   "cell_type": "markdown",
   "id": "aca8aab1",
   "metadata": {},
   "source": [
    "_**What are your expectations for the Hybrid architecture with the provided manual?**_<br>\n",
    "The obvious answer would be that it will be better than both the approaches. Hybrid models in general tend to perform better than their individual constituent models. But this requires testing."
   ]
  },
  {
   "cell_type": "markdown",
   "id": "ab42cecd",
   "metadata": {},
   "source": [
    "**_How do you plan to test and compare these techniques?_**<br><br>\n",
    "<img src=\"./hybrid_workflow.png\" alt=\"Flowchart\" width=\"700\" /><br><br>\n",
    "The addition here as compared to the Fusion Retrieval architecture is the addition of an LLM based reranking approach right before asking an LLM to generate the response. In this case, there will be 3 sets of chunks throughout the workflow. First will be the set that is returned from the initial BERT embeddings and BM25 representations. This will be denoted as top-K. The next set of chunks will be based on the fusion scores from the semantic based retried chunks and keyword based retrieved chunks. This will be denoted as top-L. And finally, this set of L chunks will be passed into the first LLM for reranking. The chunks returned here will be the top-M chunks which will be the final set of context for our second and final LLM for query answering.<br>\n",
    "1. The document data is extracted, specifically text and tabular data. \n",
    "2. Next, these data are stored in a way where the sequence is maintained, that way there will be more context for a certain text that may have a table before or after it. \n",
    "3. This set is chunked and converted to BERT based vector embeddings and also to BM25 based representations.\n",
    "4. Now the query is also converted to BERT based embeddings and BM25 based representations and the top-K chunks are retrieved for both. A union is taken between the retrieved chunks to avoid overlaps.\n",
    "5. Next, this final set of chunks are again made into 2 copies, one of BERT based embeddings and the other of BM25 based inverted indexes. The query is passed into both structures and the scores are retrieved for each chunk. This gives us a set of chunk IDs, BERT scores, BM25 scores and the final fusion score. \n",
    "6. Based on this fusion score, the top-L chunks are retrieved (L < K). \n",
    "7. These top-L chunks are passed into the first LLM for reranking, which returns the top-M chunks based on its knowledge and understanding (M < L).\n",
    "8. This final set of top-M chunks are passed into the second LLM, along with the query for the final response generation.\n",
    "\n",
    "*Note: K > L > M*"
   ]
  },
  {
   "cell_type": "markdown",
   "id": "d4915c29",
   "metadata": {},
   "source": [
    "_**Comparison Strategy**_<br>\n",
    "There are possibly two main ways in which we can compare this approach with the Fusion Retrieval and Reranking approach. One is by assessing the top-M retrieved chunks from the Hybrid with the top-L retrieved chunks from both the other approaches. The other is obviously by assessing the final response from the LLM for each approach. "
   ]
  },
  {
   "cell_type": "markdown",
   "id": "a3bb5dc2",
   "metadata": {},
   "source": [
    "---"
   ]
  },
  {
   "cell_type": "markdown",
   "id": "278daf5a",
   "metadata": {},
   "source": [
    "#### Import libraries"
   ]
  },
  {
   "cell_type": "code",
   "execution_count": 2,
   "id": "406d5d4f",
   "metadata": {},
   "outputs": [],
   "source": [
    "import fitz # for text extraction\n",
    "import camelot # for table extraction\n",
    "from sentence_transformers import SentenceTransformer, util # for semantic vector embedding creation \n",
    "from rank_bm25 import BM25Okapi # for bm25 implementation\n",
    "import spacy # for stop word removal\n",
    "import re\n",
    "from pathlib import Path\n",
    "import numpy as np\n",
    "from groq import Groq\n",
    "import os\n",
    "import time\n",
    "import ollama"
   ]
  },
  {
   "cell_type": "markdown",
   "id": "cb3d0c0f",
   "metadata": {},
   "source": [
    "#### 1. Function to extract texts & tables from PDF\n",
    "The goal is to preserve the sequence, that way there will be more context for a certain text that may have a table before or after it."
   ]
  },
  {
   "cell_type": "code",
   "execution_count": 3,
   "id": "e2a3b83c",
   "metadata": {},
   "outputs": [],
   "source": [
    "def extract_text_and_tables(pdf_path):\n",
    "\n",
    "    pdf_file = Path(pdf_path)\n",
    "    if not pdf_file.is_file() or pdf_file.suffix.lower() != \".pdf\":\n",
    "        raise FileNotFoundError(\"Provided file path is not a valid PDF.\")\n",
    "\n",
    "    doc = fitz.open(str(pdf_file))\n",
    "    result = []\n",
    "\n",
    "    # text extraction\n",
    "    for page_num, page in enumerate(doc, start = 1):\n",
    "        page_blocks = []\n",
    "\n",
    "        blocks = page.get_text(\"dict\")[\"blocks\"]\n",
    "        for block in blocks:\n",
    "            if block[\"type\"] == 0: # type 0 is text\n",
    "                text_content = \" \".join(\n",
    "                    span[\"text\"] for line in block[\"lines\"] for span in line[\"spans\"]\n",
    "                ).strip()\n",
    "                if text_content:\n",
    "                    y = block[\"bbox\"][1]\n",
    "                    page_blocks.append({\n",
    "                        \"type\": \"TEXT DATA\",\n",
    "                        \"y\": y,\n",
    "                        \"content\": text_content\n",
    "                    })\n",
    "\n",
    "        # table extraction\n",
    "        try:\n",
    "            tables = camelot.read_pdf(str(pdf_file), pages = str(page_num), flavor = 'lattice') # lattice flavor to extract tables\n",
    "        except Exception as e:\n",
    "            print(f\"Failed to read tables on page {page_num}: {e}\")\n",
    "            tables = []\n",
    "\n",
    "        for table in tables:\n",
    "            table_data = table.data\n",
    "            bbox = table._bbox\n",
    "            y = float(bbox[1])\n",
    "            page_blocks.append({\n",
    "                \"type\": \"TABLE DATA\",\n",
    "                \"y\": y,\n",
    "                \"content\": table_data\n",
    "            })\n",
    "\n",
    "        page_blocks.sort(key=lambda b: b[\"y\"]) # sort contents on current page\n",
    "        result.extend(page_blocks) # append content to result list\n",
    "\n",
    "    return result"
   ]
  },
  {
   "cell_type": "code",
   "execution_count": 4,
   "id": "1c02934d",
   "metadata": {},
   "outputs": [
    {
     "data": {
      "text/plain": [
       "[{'type': 'TEXT DATA',\n",
       "  'y': 145.75482177734375,\n",
       "  'content': 'Follow the instructions contained herein, in addition to the general precautions to be observed while working. Even if the operator is already familiar with the use of manually operated lathes, it is necessary to: In particular:'},\n",
       " {'type': 'TEXT DATA', 'y': 173.48190307617188, 'content': 'fervi.com'},\n",
       " {'type': 'TEXT DATA',\n",
       "  'y': 188.8348388671875,\n",
       "  'content': '\\uf0b7 Acquire full knowledge of the machine. For safe operation, this manual must be read carefully in order to acquire the necessary knowledge of the machine and to understand: operation, safety devices and all necessary precautions. \\uf0b7 Wear appropriate clothing for the job. The operator must wear appropriate clothing to prevent accidents. \\uf0b7 Maintain the machine with care.'},\n",
       " {'type': 'TEXT DATA',\n",
       "  'y': 312.05987548828125,\n",
       "  'content': 'Risks associated with using the machine'},\n",
       " {'type': 'TEXT DATA',\n",
       "  'y': 342.43487548828125,\n",
       "  'content': 'The machine must only be used by personnel who have been specially trained by authorized personnel.'}]"
      ]
     },
     "execution_count": 4,
     "metadata": {},
     "output_type": "execute_result"
    }
   ],
   "source": [
    "# extract texts and tables from the maual\n",
    "result = extract_text_and_tables(\"manual.pdf\")\n",
    "result[100:105] # few elements from the extracted data"
   ]
  },
  {
   "cell_type": "code",
   "execution_count": 5,
   "id": "d1672c32",
   "metadata": {},
   "outputs": [
    {
     "data": {
      "text/plain": [
       "{'type': 'TABLE DATA',\n",
       " 'y': 91.1826731262468,\n",
       " 'content': [['Description (unit of measurement)', 'T999/230V\\nT999/400V'],\n",
       "  ['Centres distance (mm)', '1000'],\n",
       "  ['Spindle hole diameter (mm)', '38'],\n",
       "  ['Maximum swing over the bed (mm)', '320'],\n",
       "  ['Maximum swing over the cross slide (mm)', '198'],\n",
       "  ['Turning diameter over cavity (mm)', ''],\n",
       "  ['Spindle diameter (3 + 3 self centring) (mm)', ''],\n",
       "  ['Spindle connector', ''],\n",
       "  ['No. of spindle speeds', 'm'],\n",
       "  ['Spindle speed (r/min)', ''],\n",
       "  ['No. of metric threads', ''],\n",
       "  ['Range of metric threads (mm)', 'o'],\n",
       "  ['No. of inch threads', ''],\n",
       "  ['Range of inch threads (mm)', ''],\n",
       "  ['Range of longitudinal\\nfeeds (mm)', '00.78- 1.044\\nc'],\n",
       "  ['Range of transverse feeds (mm)', '0.022- 0.298'],\n",
       "  ['Outer diameter of the feed screw (mm)\\n.', '22'],\n",
       "  ['Guide length (mm)\\ni', '1390'],\n",
       "  ['Cross carriage travel (mm)\\nv', '200'],\n",
       "  ['Tailstock sleeve diameter (mm)', '32'],\n",
       "  ['Maximum travel of the tailstock sleeve (mm)\\nr', '80'],\n",
       "  ['Inner taper', 'CM 5'],\n",
       "  ['Tailstock base length (mm)\\ne', '165'],\n",
       "  ['Tailstock base width (mm)', '125'],\n",
       "  ['Steady rest diameter (mm)\\nf', '120'],\n",
       "  ['Dimensions (W x D x H) (mm)', '1820 x 530 x 1350'],\n",
       "  ['Package dimensions (W x D x H) (mm)', '1920 x 840 x 1560'],\n",
       "  ['Weight of machine (kg)', '520'],\n",
       "  ['Voltage / power supply frequency (V / Hz)', '230/50.\\n400 / 50'],\n",
       "  ['Motor power (W)', '1500/1800'],\n",
       "  [\"Acoustic pressure level at operator's workstation\\n(dB(A))\", '84']]}"
      ]
     },
     "execution_count": 5,
     "metadata": {},
     "output_type": "execute_result"
    }
   ],
   "source": [
    "# sample table data\n",
    "result[156]"
   ]
  },
  {
   "cell_type": "code",
   "execution_count": 6,
   "id": "1654f527",
   "metadata": {},
   "outputs": [],
   "source": [
    "# list formatting by adding labels for texts and tables\n",
    "final = []\n",
    "for r in result:\n",
    "    s = f\"{r['type']}: {r['content']}\"\n",
    "    final.append(s)"
   ]
  },
  {
   "cell_type": "code",
   "execution_count": 7,
   "id": "a3172bb4",
   "metadata": {},
   "outputs": [
    {
     "data": {
      "text/plain": [
       "'TABLE DATA: [[\\'Description (unit of measurement)\\', \\'T999/230V\\\\nT999/400V\\'], [\\'Centres distance (mm)\\', \\'1000\\'], [\\'Spindle hole diameter (mm)\\', \\'38\\'], [\\'Maximum swing over the bed (mm)\\', \\'320\\'], [\\'Maximum swing over the cross slide (mm)\\', \\'198\\'], [\\'Turning diameter over cavity (mm)\\', \\'\\'], [\\'Spindle diameter (3 + 3 self centring) (mm)\\', \\'\\'], [\\'Spindle connector\\', \\'\\'], [\\'No. of spindle speeds\\', \\'m\\'], [\\'Spindle speed (r/min)\\', \\'\\'], [\\'No. of metric threads\\', \\'\\'], [\\'Range of metric threads (mm)\\', \\'o\\'], [\\'No. of inch threads\\', \\'\\'], [\\'Range of inch threads (mm)\\', \\'\\'], [\\'Range of longitudinal\\\\nfeeds (mm)\\', \\'00.78- 1.044\\\\nc\\'], [\\'Range of transverse feeds (mm)\\', \\'0.022- 0.298\\'], [\\'Outer diameter of the feed screw (mm)\\\\n.\\', \\'22\\'], [\\'Guide length (mm)\\\\ni\\', \\'1390\\'], [\\'Cross carriage travel (mm)\\\\nv\\', \\'200\\'], [\\'Tailstock sleeve diameter (mm)\\', \\'32\\'], [\\'Maximum travel of the tailstock sleeve (mm)\\\\nr\\', \\'80\\'], [\\'Inner taper\\', \\'CM 5\\'], [\\'Tailstock base length (mm)\\\\ne\\', \\'165\\'], [\\'Tailstock base width (mm)\\', \\'125\\'], [\\'Steady rest diameter (mm)\\\\nf\\', \\'120\\'], [\\'Dimensions (W x D x H) (mm)\\', \\'1820 x 530 x 1350\\'], [\\'Package dimensions (W x D x H) (mm)\\', \\'1920 x 840 x 1560\\'], [\\'Weight of machine (kg)\\', \\'520\\'], [\\'Voltage / power supply frequency (V / Hz)\\', \\'230/50.\\\\n400 / 50\\'], [\\'Motor power (W)\\', \\'1500/1800\\'], [\"Acoustic pressure level at operator\\'s workstation\\\\n(dB(A))\", \\'84\\']]'"
      ]
     },
     "execution_count": 7,
     "metadata": {},
     "output_type": "execute_result"
    }
   ],
   "source": [
    "# table data sample after flattening\n",
    "final[156]"
   ]
  },
  {
   "cell_type": "markdown",
   "id": "dcf9288b",
   "metadata": {},
   "source": [
    "It can be seen that the flattened version somewhat preserves the structure of the actual table by keeping each row inside a list. The LLM can hopefully understand this due to the presence of the label 'TABLE DATA' at the start."
   ]
  },
  {
   "cell_type": "markdown",
   "id": "56b7230f",
   "metadata": {},
   "source": [
    "### 2. Chunking"
   ]
  },
  {
   "cell_type": "code",
   "execution_count": 8,
   "id": "f2888a2b",
   "metadata": {},
   "outputs": [
    {
     "name": "stdout",
     "output_type": "stream",
     "text": [
      "Number of chunks: 46\n",
      "\n"
     ]
    },
    {
     "data": {
      "text/plain": [
       "'TEXT DATA: 8.3 Levelling the machine TEXT DATA: For this operation, it is recommended to use a precision spirit level (0.001 mm). TEXT DATA: 8.3.1 Preliminary phase TEXT DATA: The preliminary phase serves to eliminate the presence of torsions in the lathe table. Proceed to reset the head by adjusting the relative screws and then locking the tailstock with the relative adjustment screws moving the reference mark to zero. TEXT DATA: fervi.com TEXT DATA: 8.3.2 Transverse levelling of the table TEXT DATA: Position the spirit level in a transverse direction on the lathe guides under the spindle and check the bubble. Position the spirit level in a transverse direction on the table guides under the tailstock and check the bubble. Repeat these operations frequently and, if necessary, make small corrections by screwing and/or unscrewing the adjustable feet below the pallet. TEXT DATA: 8.3.3 Levelling the lathe rails TEXT DATA: Place the level on the sides of the carriage and move it slowly along its entire length while checking that the bubble does not change. If the bubble moves, adjust the adjustable feet until it reaches a uniform level throughout the entire course of the carriage. Periodically check these measurements (at least every six months). TEXT DATA: Levelling the machine perfectly is one of the first and most essential steps to carry out before using the machine.'"
      ]
     },
     "execution_count": 8,
     "metadata": {},
     "output_type": "execute_result"
    }
   ],
   "source": [
    "chunks = [\" \".join(final[i:i+10]) for i in range(0, len(final), 30)]\n",
    "print(f\"Number of chunks: {len(chunks)}\\n\")\n",
    "\n",
    "chunks[15] # sample"
   ]
  },
  {
   "cell_type": "markdown",
   "id": "c9f6bbd0",
   "metadata": {},
   "source": [
    "### 3. Data cleaning for BM25"
   ]
  },
  {
   "cell_type": "code",
   "execution_count": 9,
   "id": "9f90dfe5",
   "metadata": {},
   "outputs": [
    {
     "data": {
      "text/plain": [
       "'TEXT DATA : 8.3 Levelling machine TEXT DATA : operation , recommended use precision spirit level ( 0.001 mm ) . TEXT DATA : 8.3.1 Preliminary phase TEXT DATA : preliminary phase serves eliminate presence torsions lathe table . Proceed reset head adjusting relative screws locking tailstock relative adjustment screws moving reference mark zero . TEXT DATA : fervi.com TEXT DATA : 8.3.2 Transverse levelling table TEXT DATA : Position spirit level transverse direction lathe guides spindle check bubble . Position spirit level transverse direction table guides tailstock check bubble . Repeat operations frequently , necessary , small corrections screwing and/or unscrewing adjustable feet pallet . TEXT DATA : 8.3.3 Levelling lathe rails TEXT DATA : Place level sides carriage slowly entire length checking bubble change . bubble moves , adjust adjustable feet reaches uniform level entire course carriage . Periodically check measurements ( months ) . TEXT DATA : Levelling machine perfectly essential steps carry machine .'"
      ]
     },
     "execution_count": 9,
     "metadata": {},
     "output_type": "execute_result"
    }
   ],
   "source": [
    "nlp = spacy.load(\"en_core_web_sm\")\n",
    "\n",
    "chunks_4_bm25 = []\n",
    "for chunk in chunks:\n",
    "    doc = nlp(chunk)\n",
    "    filtered = [token.text for token in doc if not token.is_stop]\n",
    "    chunks_4_bm25.append(\" \".join(filtered))\n",
    "\n",
    "chunks_4_bm25[15] # sample"
   ]
  },
  {
   "cell_type": "markdown",
   "id": "7a7ab81f",
   "metadata": {},
   "source": [
    "### 4. Creating semantic vector embeddings and BM25 inverted index"
   ]
  },
  {
   "cell_type": "code",
   "execution_count": 10,
   "id": "b2c98f86",
   "metadata": {},
   "outputs": [],
   "source": [
    "# for bert\n",
    "model = SentenceTransformer('sentence-transformers/all-mpnet-base-v2')\n",
    "sem_embs = model.encode(chunks, convert_to_tensor = True)"
   ]
  },
  {
   "cell_type": "code",
   "execution_count": 11,
   "id": "9d255dce",
   "metadata": {},
   "outputs": [],
   "source": [
    "# for bm25\n",
    "tokenized_corpus = [doc.split() for doc in chunks_4_bm25]\n",
    "bm25 = BM25Okapi(tokenized_corpus)"
   ]
  },
  {
   "cell_type": "markdown",
   "id": "74f27932",
   "metadata": {},
   "source": [
    "### 5. Pipeline to return indices of top-K chunks that match with the query"
   ]
  },
  {
   "cell_type": "code",
   "execution_count": null,
   "id": "28dc1909",
   "metadata": {},
   "outputs": [],
   "source": [
    "def bert_query_pipeline(query, top_k = 30):\n",
    "     \n",
    "    device = sem_embs.device\n",
    "    query_embedding = model.encode(query, convert_to_tensor = True)\n",
    "    cosine_scores = util.cos_sim(query_embedding, sem_embs)[0] # cosine similarity\n",
    "    top_indices = np.argsort(cosine_scores.cpu().numpy())[::-1][:top_k]\n",
    "\n",
    "    return top_indices"
   ]
  },
  {
   "cell_type": "code",
   "execution_count": null,
   "id": "9ddcbf33",
   "metadata": {},
   "outputs": [],
   "source": [
    "def bm25_query_pipeline(query, top_k = 30):\n",
    "\n",
    "    tokenized_query = query.split()\n",
    "    bm25_scores = bm25.get_scores(tokenized_query) # tf-idf like scoring\n",
    "    top_indices = np.argsort(bm25_scores)[::-1][:top_k]\n",
    "\n",
    "    return top_indices"
   ]
  },
  {
   "cell_type": "code",
   "execution_count": 14,
   "id": "20c6fc51",
   "metadata": {},
   "outputs": [],
   "source": [
    "# query = 'What are some general safety rules when using machine equipment?'\n",
    "query = 'What does the manual say about unplugging the power cord of the machine from the power outlet?'"
   ]
  },
  {
   "cell_type": "code",
   "execution_count": 15,
   "id": "cfc8026e",
   "metadata": {},
   "outputs": [
    {
     "name": "stdout",
     "output_type": "stream",
     "text": [
      "Number of staged chunks for context: 23\n",
      "\n"
     ]
    }
   ],
   "source": [
    "# get common chunks from chunks retrived from both implementations\n",
    "\n",
    "bert_top_k_idx = bert_query_pipeline(query)\n",
    "bm25_top_k_idx = bm25_query_pipeline(query)\n",
    "final_idx = list(set(list(bert_top_k_idx) + list(bm25_top_k_idx))) # union operation\n",
    "\n",
    "staged_context = [chunks[idx] for idx in final_idx]\n",
    "staged_context_4_bm25 = [chunks_4_bm25[idx] for idx in final_idx]\n",
    "print(f\"Number of staged chunks for context: {len(staged_context)}\\n\")"
   ]
  },
  {
   "cell_type": "markdown",
   "id": "c32d2610",
   "metadata": {},
   "source": [
    "### 6. Embed staged context using BERT & get inverted indices of staged context using BM25"
   ]
  },
  {
   "cell_type": "code",
   "execution_count": 16,
   "id": "37adb500",
   "metadata": {},
   "outputs": [],
   "source": [
    "# for bert\n",
    "sem_embs_final = model.encode(staged_context, convert_to_tensor = True)\n",
    "\n",
    "# for bm25\n",
    "tokenized_corpus_final = [doc.split() for doc in staged_context_4_bm25]\n",
    "bm25_final = BM25Okapi(tokenized_corpus_final)"
   ]
  },
  {
   "cell_type": "markdown",
   "id": "7ffaa723",
   "metadata": {},
   "source": [
    "### 7. Function to get the final set of scores for the staged context chunks for both BERT & BM25"
   ]
  },
  {
   "cell_type": "code",
   "execution_count": 17,
   "id": "86aec529",
   "metadata": {},
   "outputs": [],
   "source": [
    "def bert_final_scores(query):\n",
    "     \n",
    "    device = sem_embs_final.device\n",
    "    query_embedding = model.encode(query, convert_to_tensor = True)\n",
    "    cosine_scores = util.cos_sim(query_embedding, sem_embs_final)[0]\n",
    "    indices = np.argsort(cosine_scores.cpu().numpy())[::-1]\n",
    "\n",
    "    return cosine_scores.cpu().numpy(), indices"
   ]
  },
  {
   "cell_type": "code",
   "execution_count": 18,
   "id": "8f729cc6",
   "metadata": {},
   "outputs": [
    {
     "data": {
      "text/plain": [
       "(array([0.36677617, 0.27207935, 0.38090566, 0.45139548, 0.27475065,\n",
       "        0.27165347, 0.30504328, 0.45442048, 0.11290099, 0.4188665 ,\n",
       "        0.3742811 , 0.23033723, 0.43445706, 0.26141763, 0.28430384,\n",
       "        0.24624479, 0.34687048, 0.33071345, 0.1132399 , 0.32948324,\n",
       "        0.31769413, 0.2676775 , 0.29725122], dtype=float32),\n",
       " array([ 7,  3, 12,  9,  2, 10,  0, 16, 17, 19, 20,  6, 22, 14,  4,  1,  5,\n",
       "        21, 13, 15, 11, 18,  8], dtype=int64))"
      ]
     },
     "execution_count": 18,
     "metadata": {},
     "output_type": "execute_result"
    }
   ],
   "source": [
    "bert_final_scores(query)"
   ]
  },
  {
   "cell_type": "code",
   "execution_count": 19,
   "id": "5160f238",
   "metadata": {},
   "outputs": [],
   "source": [
    "def bm25_query_pipeline(query):\n",
    "\n",
    "    tokenized_query = query.split()\n",
    "    bm25_scores = bm25_final.get_scores(tokenized_query)\n",
    "    indices = np.argsort(bm25_scores)[::-1]\n",
    "\n",
    "    return bm25_scores, indices"
   ]
  },
  {
   "cell_type": "code",
   "execution_count": 20,
   "id": "4b91e638",
   "metadata": {},
   "outputs": [
    {
     "data": {
      "text/plain": [
       "(array([3.68324933, 0.        , 1.16756488, 6.2959442 , 1.58776869,\n",
       "        2.64665068, 0.        , 3.95040043, 0.        , 1.36335155,\n",
       "        3.55307587, 1.06050578, 2.72203545, 0.68978639, 5.35570307,\n",
       "        1.08198647, 1.0722069 , 0.88145497, 0.69584199, 0.80733947,\n",
       "        0.        , 2.06048636, 0.        ]),\n",
       " array([ 3, 14,  7,  0, 10, 12,  5, 21,  4,  9,  2, 15, 16, 11, 17, 19, 18,\n",
       "        13,  8,  6, 20,  1, 22], dtype=int64))"
      ]
     },
     "execution_count": 20,
     "metadata": {},
     "output_type": "execute_result"
    }
   ],
   "source": [
    "bm25_query_pipeline(query)"
   ]
  },
  {
   "cell_type": "markdown",
   "id": "70029e00",
   "metadata": {},
   "source": [
    "### 8. Applying fusion scoring\n",
    "**`α * xi + (1 - α) * yi`**<br><br>\n",
    "...where `xi` is score of the ith chunk from the bert model and `yi` is score of the ith chunk from bm25."
   ]
  },
  {
   "cell_type": "code",
   "execution_count": null,
   "id": "64e9ef0b",
   "metadata": {},
   "outputs": [],
   "source": [
    "# function to normalize the scores\n",
    "def normalize_scores(scores):\n",
    "    min_s = np.min(scores)\n",
    "    max_s = np.max(scores)\n",
    "    return (scores - min_s) / (max_s - min_s) if max_s > min_s else scores\n",
    "\n",
    "# function to fuse the scores\n",
    "def fused_scores(query, alpha = 0.3, top_l = 15):\n",
    "    bm25_scores, bm25_indices = bm25_query_pipeline(query)\n",
    "    bert_scores, bert_indices = bert_final_scores(query)\n",
    "    \n",
    "    # create arrays to hold scores aligned by document index\n",
    "    num_docs = len(bm25_scores)  # should be same as bert_scores length\n",
    "    bm25_aligned = np.zeros(num_docs)\n",
    "    bert_aligned = np.zeros(num_docs)\n",
    "    \n",
    "    # align bm25 scores (indices are original document indices)\n",
    "    for idx, score in zip(bm25_indices, bm25_scores):\n",
    "        bm25_aligned[idx] = score\n",
    "\n",
    "    # align BERT scores\n",
    "    for idx, score in zip(bert_indices, bert_scores):\n",
    "        bert_aligned[idx] = score\n",
    "\n",
    "    # normalize\n",
    "    bm25_norm = normalize_scores(bm25_aligned)\n",
    "    bert_norm = normalize_scores(bert_aligned)\n",
    "\n",
    "    # fuse\n",
    "    fused = alpha * bm25_norm + (1 - alpha) * bert_norm\n",
    "\n",
    "    # top-L indices by fused score\n",
    "    top_indices = np.argsort(fused)[::-1][:top_l]\n",
    "\n",
    "    return top_indices\n",
    "\n",
    "best = fused_scores(query)"
   ]
  },
  {
   "cell_type": "markdown",
   "id": "b5e44908",
   "metadata": {},
   "source": [
    "### 9. Get final context"
   ]
  },
  {
   "cell_type": "code",
   "execution_count": 22,
   "id": "8f0f09bf",
   "metadata": {},
   "outputs": [
    {
     "data": {
      "text/plain": [
       "'TEXT DATA: fervi.com TEXT DATA: The main switch with safety key is located on the left side of the electric panel, and it is useful to prevent unauthorised use of the machine. To power the machine (see  Figure 16 ), in fact, it is necessary to: \\uf0b7 insert the safety key into the lock to the left of the switch (marked R.L.); \\uf0b7 turn the key clockwise and simultaneously turn the main switch to \"I\", by turning it clockwise. TEXT DATA: Figure 16 - Main switch. TEXT DATA: Confirm the white power light has turned on, found on the electrical panel (marked POWER). TEXT DATA: 9.1.2 Electric and control panel buttons and lights TEXT DATA: Figure 17 – Electrical and control panel. TEXT DATA: The electrical panel has the following controls: \\uf0b7 RED MUSHROOM :  Emergency button (red mushroom). \\uf0b7 WHITE WARNING LIGHT :  Indicates the presence of voltage \\uf0b7 BLACK SELECTOR :  Coolant pump selector \\uf0b7 GREEN BUTTON  : Gears application button TEXT DATA: Page 28 of 84 TEXT DATA: MACHINES AND TEXT DATA: ACCESSORIES (idx = 16)\\n\\nTEXT DATA: Figure 5 – Speed TEXT DATA: adjustment. TEXT DATA: 4.2.5 Tool holder carriage TEXT DATA: The carriage sliding along the rails of the bed is used to hold, position and feed the tool. The various parts (see figure 6), are made of cast iron, with hardened and ground guides for greater stability. The carriage is equipped with an independent system that ensures the lubrication of the moving parts. The handwheels to move the carriage and the levers are easy to reach and easy to use. TEXT DATA: Figure 6 – Tool holder TEXT DATA: carriage. TEXT DATA: 4.2.6 Tailstock TEXT DATA: The tailstock (see figure 7) is constituted by a cast iron body that ensures rigidity and stability in any conditions of use. The tailstock body is equipped with a locking system on the lathe guides, with a lever. An adjustment screw, allows axial alignment of the tailstock to be achieved. Inside a steel sleeve has been fitted. Movement is applied via a handle equipped with a micrometer. TEXT DATA: Figure 7 – Tailstock. TEXT DATA: Page 15 of 84 (idx = 9)\\n\\nTEXT DATA: OPERATION AND MAINTENANCE MANUAL TEXT DATA: fervi.com TEXT DATA: Bench Lathe Art. T999/230V – T999/230V3A TEXT DATA: Art. T999/400V - T999/400V3A TEXT DATA: TRANSLATION OF THE ORIGINAL INSTRUCTIONS TEXT DATA: MACHINES AND ACCESSORIES TEXT DATA: PREFACE TEXT DATA: Please ensure you have read this manual before operation TEXT DATA: fervi.com TEXT DATA: TRANSLATION OF THE ORIGINAL INSTRUCTIONS It is compulsory to read this instruction manual before starting operation. The guarantee of smooth operation and full performance of the machine is highly dependent on the application of all the instructions contained in this manual. (idx = 0)\\n\\nTEXT DATA: At the front there are all the programming keys of the panel, while at the rear there are 1) on / off switch (I/0); 2) the three data cables, in order from top to bottom X Axis - Y Axis - Z Axis, from the sensors placed on the tool holder carriage; 3) the power supply cable. At the time of purchase, the display must be installed on the left side of the lathe, using the bracket supplied. The power cord must be connected to a 230V / 50 Hz plug equipped with a grounding conductor. TEXT DATA: Page 34 of 84 TEXT DATA: MACHINES AND TEXT DATA: ACCESSORIES TEXT DATA: Data cable connections TEXT DATA: Pay attention to the correct connection of the data cables. If reversed   th e y   can cause erroneous readings by the digital display. TEXT DATA: fervi.com TEXT DATA: The display can be rotated and tilted to allow the data to be viewed at any time. Rotation is achieved by simply moving it with one hand, and to adjust the angle, loosen the bolt located just below the power cord, tilt the panel and then retighten the bolt. TEXT DATA: Figure 27 – Panel adjustment TEXT DATA: 9.4.1 Using the display (idx = 19)\\n\\nTEXT DATA: PROTECTIVE TEXT DATA: PROTECTIVE TEXT DATA: PROTECTIVE TEXT DATA: GLOVES TEXT DATA: EYES TEXT DATA: SCREEN TEXT DATA: CLOTHING TEXT DATA: SHOES TEXT DATA: Figure 14 – Personal Protective Equipment. TEXT DATA: Page 21 of 84 (idx = 12)\\n\\nTEXT DATA: \\uf0ea TEXT DATA: 0. 0 0 0 X TEXT DATA: Page 38 of 84 TEXT DATA: MACHINES AND TEXT DATA: ACCESSORIES TEXT DATA: 4- D EFAULT DATA The default data allows continuous monitoring of the machining in operation. If, for example, it has a piece as shown in  Figure 29 /a) and you want to get the piece in  Figure 29 /b) you can set all the heights in order to precisely control the actual machining. To set the data, proceed as follows: TEXT DATA: fervi.com TEXT DATA: Figure 29 – Example of machining. - Move the tool to the height A in the Z direction (longitudinal). TEXT DATA: - Press the button TEXT DATA: to set height 5. (idx = 22)\\n\\nTEXT DATA: Button Machine TEXT DATA: 0 Multifunction milling machine TEXT DATA: 1 Universal milling machine TEXT DATA: 2 Process unloader TEXT DATA: 3 Lathe TEXT DATA: \\uf0f2 ENT TEXT DATA: - Press the buttons and to move to the next step. TEXT DATA: - As you are using the  l a t h e,  s e lect number 3, then the instrument will display TEXT DATA: only the X and Y dimensions necessary for turning operations TEXT DATA: Page 37 of 84 (idx = 21)\\n\\nTEXT DATA: The operating temperature range is -20 to +50°C. TEXT DATA: fervi.com TEXT DATA: The environment must also be sufficiently illuminated so as to ensure operation in maximum safety (at least 200 lux is recommended). TEXT DATA: There are two main groups within the Lathe (see figure 1): TEXT DATA: \\uf0b7 The spindle shaft unit; \\uf0b7 The sliding tool holder unit. TEXT DATA: The first is constituted by the spindle, which is made integral with the workpiece, and by the components that transmit motion from the motor to the spindle. TEXT DATA: The second is constituted by the components that transmit motion to the slide, which guides the tool in the feeding motion and movement of the workpiece. TEXT DATA: Figure 1 – Typical main groups of the bench lathe. TEXT DATA: Page 12 of 84 TEXT DATA: MACHINES AND (idx = 7)\\n\\nTEXT DATA: In this way, the desired resolution is set for the X axis, using the numbers on the panel according to the following scheme: TEXT DATA: Button 0 1 2 5 7 8 9 TEXT DATA: Resolution (µm) 10 1 2 5 0.1 0.2 0.5 TEXT DATA: \\uf0f2 ENT TEXT DATA: - After choosing the resolution press the button then to move to the next step. TEXT DATA: - To set the resolution  o f  t h e  Y   axes and (Z if used), proceed as described above TEXT DATA: for the X axis TEXT DATA: Page 36 of 84 TEXT DATA: MACHINES AND TEXT DATA: ACCESSORIES (idx = 20)\\n\\nTEXT DATA: The following boxes are designed to attract the attention of the reader / user for the  proper and  safe  use of the machine: TEXT DATA: Pay Attention TEXT DATA: This highlights behavioural rules to prevent damage to the machine and/or the occurrence of dangerous  sit u at ions. TEXT DATA: Residual Risks TEXT DATA: This highlights the presence of dangers that cause residual risks to which the operator must pay attentio n  i n  order to avoid injury or damage to property. TEXT DATA: Page 6 of 84 TEXT DATA: MACHINES AND TEXT DATA: ACCESSORIES TEXT DATA: 2 GENERAL SAFETY WARNINGS TEXT DATA: 2.1 General safety rules for machine equipment (idx = 3)\\n\\nTEXT DATA: 10 OPERATION.46 TEXT DATA: 10.1 Automatic Feed Tool Carriage .49 TEXT DATA: 11 MAINTENANCE .51 TEXT DATA: 11.1 Lubrication.52 TEXT DATA: 11.2 Periodic checks .54 TEXT DATA: 11.3 Adjusting the Machine .54 11.3.1 Adjusting the tension of the motor belts . 54 11.3.2 Tailstock alignment . 55 11.3.3 Spindle alignment . 55 11.3.4 Adjusting the slack of the gears. 56 TEXT DATA: 12 REPLACEMENT PARTS.57 TEXT DATA: 12.1 ACCESSORIES SUPPLIED.80 TEXT DATA: 13 DISPOSAL OF PARTS AND MATERIALS .81 TEXT DATA: 14 TROUBLESHOOTING .82 (idx = 2)\\n\\nTEXT DATA: 8.3 Levelling the machine TEXT DATA: For this operation, it is recommended to use a precision spirit level (0.001 mm). TEXT DATA: 8.3.1 Preliminary phase TEXT DATA: The preliminary phase serves to eliminate the presence of torsions in the lathe table. Proceed to reset the head by adjusting the relative screws and then locking the tailstock with the relative adjustment screws moving the reference mark to zero. TEXT DATA: fervi.com TEXT DATA: 8.3.2 Transverse levelling of the table TEXT DATA: Position the spirit level in a transverse direction on the lathe guides under the spindle and check the bubble. Position the spirit level in a transverse direction on the table guides under the tailstock and check the bubble. Repeat these operations frequently and, if necessary, make small corrections by screwing and/or unscrewing the adjustable feet below the pallet. TEXT DATA: 8.3.3 Levelling the lathe rails TEXT DATA: Place the level on the sides of the carriage and move it slowly along its entire length while checking that the bubble does not change. If the bubble moves, adjust the adjustable feet until it reaches a uniform level throughout the entire course of the carriage. Periodically check these measurements (at least every six months). TEXT DATA: Levelling the machine perfectly is one of the first and most essential steps to carry out before using the machine. (idx = 15)\\n\\nTEXT DATA: Check the presence and integrity of protective devices and the proper functioning of safety devices before starting operation. TEXT DATA: If any defect is detected, do not use the Gear head lathe! TEXT DATA: It is strictly forbidden to modify or remove guards, safety devices, labels and information plates on the machine. TEXT DATA: Page 9 of 84 TEXT DATA: MACHINES AND ACCESSORIES TEXT DATA: 3  TECHNICAL SPECIFICATIONS TABLE DATA: [[\\'Description (unit of measurement)\\', \\'T999/230V\\\\nT999/400V\\'], [\\'Centres distance (mm)\\', \\'1000\\'], [\\'Spindle hole diameter (mm)\\', \\'38\\'], [\\'Maximum swing over the bed (mm)\\', \\'320\\'], [\\'Maximum swing over the cross slide (mm)\\', \\'198\\'], [\\'Turning diameter over cavity (mm)\\', \\'\\'], [\\'Spindle diameter (3 + 3 self centring) (mm)\\', \\'\\'], [\\'Spindle connector\\', \\'\\'], [\\'No. of spindle speeds\\', \\'m\\'], [\\'Spindle speed (r/min)\\', \\'\\'], [\\'No. of metric threads\\', \\'\\'], [\\'Range of metric threads (mm)\\', \\'o\\'], [\\'No. of inch threads\\', \\'\\'], [\\'Range of inch threads (mm)\\', \\'\\'], [\\'Range of longitudinal\\\\nfeeds (mm)\\', \\'00.78- 1.044\\\\nc\\'], [\\'Range of transverse feeds (mm)\\', \\'0.022- 0.298\\'], [\\'Outer diameter of the feed screw (mm)\\\\n.\\', \\'22\\'], [\\'Guide length (mm)\\\\ni\\', \\'1390\\'], [\\'Cross carriage travel (mm)\\\\nv\\', \\'200\\'], [\\'Tailstock sleeve diameter (mm)\\', \\'32\\'], [\\'Maximum travel of the tailstock sleeve (mm)\\\\nr\\', \\'80\\'], [\\'Inner taper\\', \\'CM 5\\'], [\\'Tailstock base length (mm)\\\\ne\\', \\'165\\'], [\\'Tailstock base width (mm)\\', \\'125\\'], [\\'Steady rest diameter (mm)\\\\nf\\', \\'120\\'], [\\'Dimensions (W x D x H) (mm)\\', \\'1820 x 530 x 1350\\'], [\\'Package dimensions (W x D x H) (mm)\\', \\'1920 x 840 x 1560\\'], [\\'Weight of machine (kg)\\', \\'520\\'], [\\'Voltage / power supply frequency (V / Hz)\\', \\'230/50.\\\\n400 / 50\\'], [\\'Motor power (W)\\', \\'1500/1800\\'], [\"Acoustic pressure level at operator\\'s workstation\\\\n(dB(A))\", \\'84\\']] TEXT DATA: Description (unit of measurement) T999/230V T999/400V TEXT DATA: Centres distance (mm) 1000 TEXT DATA: Spindle hole diameter (mm) 38 (idx = 5)\\n\\nTEXT DATA: Figure 12 - Pictograms TEXT DATA: Page 18 of 84 TEXT DATA: MACHINES AND TEXT DATA: ACCESSORIES TEXT DATA: 5 MACHINE SAFETY DEVICES TEXT DATA: 5.1 Electrical safety devices TEXT DATA: The electrical circuit of the lathe is equipped with a  rotary main switch  with a safety key (see chapter 9.1 of this manual). This prevents the danger of unwanted and/or accidental starts of the machine, since the switch can only be activated through a voluntary action suitable for the given purpose and if a suitable key is available. The machine is also equipped with an  emergency stop button  (mushroom type). In an emergency, if pressure is applied to the mushroom button, the dangerous functions stop. The electric control panel is powered by 24V DC voltage; the presence of a  transformer minimises the the danger of electrocution. The Lathe\\'s power supply connection must be equipped with a  grounding conductor according to regulations. TEXT DATA: fervi.com TEXT DATA: Electric Shock TEXT DATA: Improper connection of the Lathe and/or the grounding conductor can result in the risk of electric sho ck . (idx = 11)\\n\\nTEXT DATA: 1 2 TEXT DATA: 22 23 TEXT DATA: Figure 2 – Main parts of the gear head lathe (Art. T999/230V and T999/400V). TEXT DATA: 1 Brake 9 Protective device 17  Tailstock handwheel TEXT DATA: 2 Carriage handwheel 10  Halogen lamp 18  Support bars TEXT DATA: 3 Workbench 11  Turret 19  Lead screw TEXT DATA: 4 Speed switches 12  Coolant tube 20  Turning bar TEXT DATA: 5 Side cover 13  Longitudinal turret travel (mm) TEXT DATA: 21  Bar for lathe activation TEXT DATA: 6 Control panel 14  Micrometer 22  Tray (idx = 8)\\n\\nTEXT DATA: Figure 11 – Identification plate. TEXT DATA: Page 17 of 84 TEXT DATA: MACHINES AND ACCESSORIES TEXT DATA: 4.4 Pictograms and plates TEXT DATA: C AUTION AND WARNING PICTOGRAMS . The following pictogram has been applied to the side of the electrical panel: TABLE DATA: [[\\'PLATE IN ITALIAN\\', \\'\\', \\'\\', \\'\\', \\'\\', \\'\\', \\'\\', \\'\\', \\'\\'], [\\'\\', \\'\\', \\'\\', \\'\\', \\'\\', \\'\\', \\'\\', \\'\\', \\'\\'], [\\'\\', \\'ATTENZIONE\\\\nÈ VIETATO ESEGUIRE LAVORI SU\\\\nAPPARECCHIATURE ELETTRICHE SOTTO\\\\nTENSIONE\\', \\'\\', \\'\\', \\'\\', \\'\\', \\'\\', \\'\\', \\'\\'], [\\'\\', \\'\\', \\'\\', \\'\\', \\'\\', \\'m\\', \\'\\', \\'\\', \\'\\'], [\\'\\', \\'\\', \\'\\', \\'\\', \\'\\', \\'\\', \\'\\', \\'\\', \\'\\'], [\\'\\', \\'\\', \\'\\', \\'\\', \\'\\', \\'IT IS PROHIBITED TO WORK ON LIVE ELECTRICAL\\', \\'\\', \\'\\', \\'\\'], [\\'\\', \\'\\', \\'\\', \\'\\', \\'\\', \\'ANY EXCEPTIONS MUST BE APPROVED BY THE HEAD\\\\nONLY BEGIN WORKING WHEN SAFETY MEASURES\\\\nIn accordance with Legislative Decree 81/08 on accident\\\\no\\', \\'\\', \\'\\', \\'\\'], [\\'\\', \\'EVENTUALI DEROGHE DEVONO ESSERE\\\\n\\\\uf0b7\\\\nAUTORIZZATE DAL CAPO RESPONSABILE\\\\nIN CONDIZIONI DI PARTICOLARE PERICOLO DEVE\\\\n\\\\uf0b7\\\\nESSERE PRESENTE UN’ALTRA PERSONA OLTRE A CHI\\\\nESEGUE IL LAVORO\\\\nINIZIARE I LAVORI SOLO AD AVVENUTA\\\\nATTAZIONE DELLE MISURE DI SICUREZZA\\\\nIn ottemperanza al Dgs.81/08 relativo alla prevenzioni\\\\ninfortuni\\', \\'\\', \\'\\', \\'\\', \\'\\', \\'\\', \\'\\', \\'\\'], [\\'\\', \\'\\', \\'\\', \\'\\', \\'\\', \\'\\', \\'\\', \\'\\', \\'\\'], [\\'\\', \\'\\', \\'\\', \\'c\\\\n.\\\\ni\\\\nv\\\\nr\\\\ne\\', \\'\\', \\'\\', \\'\\', \\'\\', \\'\\'], [\\'\\', \\'\\', \\'NON\\\\nRIMUOVERE\\\\nI DISPOSITIVI DI\\\\nSICUREZZA\\', \\'\\', \\'\\', \\'\\', \\'\\', \\'\\', \\'\\'], [\\'\\', \\'\\', \\'\\', \\'\\', \\'\\', \\'\\', \\'DO NOT\\\\nREMOVE\\\\nTHE SAFETY DEVICES\\', \\'\\', \\'\\'], [\\'\\', \\'\\', \\'\\', \\'\\', \\'\\', \\'\\', \\'\\', \\'\\', \\'\\'], [\\'\\', \\'\\', \\'\\', \\'\\', \\'\\', \\'\\', \\'\\', \\'\\', \\'\\'], [\\'\\', \\'\\', \\'f\\', \\'\\', \\'\\', \\'\\', \\'\\', \\'\\', \\'\\'], [\\'\\', \\'\\', \\'\\', \\'\\', \\'\\', \\'\\', \\'\\', \\'\\', \\'\\']] TEXT DATA: \\uf0b7 Hazard / warning plate. TEXT DATA: Prohibitive warning for carrying out work on live equipment. \\uf0b7 Hazard plate. \\uf0b7 The removal of safety guards is forbidden. \\uf0b7 Electrical hazard symbol TEXT DATA: fervi.com TEXT DATA: PLATE IN ITALIAN PLATE IN ENGLISH (idx = 10)\\n\\nTEXT DATA: 2.4 Other provisions .9 TEXT DATA: 3 TECHNICAL SPECIFICATIONS .10 TEXT DATA: 4 DESCRIPTION OF THE MACHINE .11 TEXT DATA: 4.1 Intended use and field of application.11 TEXT DATA: 4.2 Description of the main parts.13 4.2.1 Supporting table . 14 4.2.2 Head and spindle . 14 4.2.3 Spindle speed adjustment levers. 14 4.2.4 Feed speed adjustment panel . 15 4.2.5 Tool holder carriage . 15 4.2.6 Tailstock . 15 4.2.7 Steady rest . 16 4.2.8 Electric control panel . 16 4.2.9 Pedal brake. 16 4.2.10 Rotation reverse lever . 17 TEXT DATA: 4.3 Identification plate .17 TEXT DATA: 4.4 Pictograms and plates.18 TEXT DATA: 5 MACHINE SAFETY DEVICES.19 TEXT DATA: 5.1 Electrical safety devices.19 TEXT DATA: 5.2 Mechanical Safety Devices .20 (idx = 1)\\n\\nTEXT DATA: L TEXT DATA: I TEXT DATA: Figure 22 – Lever and handwheel of the carriage. TEXT DATA: (I) Split casing lever :  See section 9.2.3. (J) Lever for selection of transverse or longitudinal feeds:  The lever selects the type of automatic feed desired. To operate the transverse feed, forward and backward, move the lever to the right (toward the tailstock), to operate the longitudinal feed, left and right, move the lever to the left (toward the spindle). (K) Handwheel for longitudinal displacement of the tool holder slide:  The handwheel allows the quick longitudinal displacement, to the right and left, of the tool holder slide. To move the slide to the left (towards the spindle), turn the handwheel clockwise and vice versa to move the slide to the right (towards the tailstock), rotate the handwheel anticlockwise. (L) Handwheel for longitudinal movement of the carriage:  The handwheel allows the quick longitudinal displacement, to the right and left, of the tool holder carriage. To move the carriage to the right (towards the tailstock), turn the handwheel clockwise and vice versa to move the carriage to the left (towards the spindle), rotate the handwheel anticlockwise. (M) Handwheel for transversal displacement of the tool holder slide:  The handwheel allows the transversal displacement, forward and backward, of the tool holder slide. To move the slide forward (towards the workpiece), turn the handwheel clockwise and vice versa to move the slide backward (towards the operator), rotate the handwheel anticlockwise. (N) Handwheel for longitudinal displacement of the tool holder slide:  The handwheel allows the quick longitudinal displacement, to the right and left, of the tool holder slide. To move the slide to the left (towards the spindle), turn the handwheel clockwise and vice versa to move the slide to the right (towards the tailstock), rotate the handwheel anticlockwise. (P) Tool locking lever:  The lever allows locking of the cutting tool, to the tool holder base (turret). TEXT DATA: Page 32 of 84 TEXT DATA: MACHINES AND TEXT DATA: ACCESSORIES TEXT DATA: (Q) Lever for activating and selecting the direction of rotation of the electric motor:  The lever selects activation and the direction of rotation of the electric motor and the other rotating parts (spindle). Move the lever down to rotate the spindle clockwise, move the lever up to turn the spindle anti-clockwise. The central location \"0\", puts the spindle in neutral. TEXT DATA: fervi.com TEXT DATA: Figure 23 - Close-up of the (idx = 18)\\n\\n'"
      ]
     },
     "execution_count": 22,
     "metadata": {},
     "output_type": "execute_result"
    }
   ],
   "source": [
    "final_context = ''\n",
    "for idx in best:\n",
    "    # remove unnecessary dots\n",
    "    final_string = re.sub(r'\\.{2,}', '.', chunks[idx])\n",
    "    final_context += f\"{final_string.strip()} (idx = {idx})\\n\\n\"\n",
    "\n",
    "final_context"
   ]
  },
  {
   "cell_type": "markdown",
   "id": "e016328b",
   "metadata": {},
   "source": [
    "### 10. Setting up LLM A that returns indexes of top-M chunks based on the query"
   ]
  },
  {
   "cell_type": "code",
   "execution_count": 23,
   "id": "6e89cfc6",
   "metadata": {},
   "outputs": [],
   "source": [
    "def prompt_rank_contexts(query, final_context, top_m = 5):\n",
    "    context_string = \"\"\n",
    "    for i, ctx in enumerate(final_context):\n",
    "        context_string += f\"Context {i+1}:\\n{ctx.strip()}\\n\\n\"\n",
    "\n",
    "    return f\"\"\"\n",
    "        You are a highly skilled AI assistant that ranks technical contexts from a machinery operations and maintenance manual.\n",
    "\n",
    "        Given a user question and several candidate context excerpts from the manual, rank the top-L most relevant ones for answering the question. Relevance means how well the context can be used to answer the question **accurately and directly**.\n",
    "\n",
    "        Each context ends with a tag in the format **(idx = N)**. Use this identifier to reference the context when deciding relevance.\n",
    "\n",
    "        User Question:\n",
    "        {query}\n",
    "\n",
    "        Candidate Contexts:\n",
    "        {context_string}\n",
    "\n",
    "        Return only the `idx` values of the top {top_m} most relevant contexts, in descending order of relevance (most relevant first). Format your response like this:\n",
    "        22, 8, 15, 4, 31\n",
    "        \"\"\"\n",
    "\n",
    "def llm_a(query, final_context): # mistral might not be the best but no option\n",
    "    prompt = prompt_rank_contexts(query, final_context)\n",
    "\n",
    "    try:\n",
    "        response = ollama.generate(\n",
    "            model = 'mistral', \n",
    "            prompt = prompt,\n",
    "            stream = False\n",
    "        )\n",
    "        output = response['response'].strip()\n",
    "\n",
    "        # parse the returned string for integer idx values\n",
    "        ranked_indexes = [int(idx.strip()) for idx in output.split(\",\") if idx.strip().isdigit()]\n",
    "        return ranked_indexes[:5]\n",
    "\n",
    "    except Exception as e:\n",
    "        print(\"Error using Ollama (Python client):\", str(e))\n",
    "        return []"
   ]
  },
  {
   "cell_type": "code",
   "execution_count": 24,
   "id": "d63dd13b",
   "metadata": {},
   "outputs": [
    {
     "name": "stdout",
     "output_type": "stream",
     "text": [
      "IDs of top-M chunks are: [21, 17, 20, 6, 5]\n"
     ]
    }
   ],
   "source": [
    "# get ids of top-M chunks\n",
    "top_ids = llm_a(query, final_context)\n",
    "print(f\"IDs of top-M chunks are: {top_ids}\")"
   ]
  },
  {
   "cell_type": "markdown",
   "id": "43e4c39e",
   "metadata": {},
   "source": [
    "### 11. Get final context"
   ]
  },
  {
   "cell_type": "code",
   "execution_count": 25,
   "id": "80c57b0a",
   "metadata": {},
   "outputs": [],
   "source": [
    "final_context = ''\n",
    "for idx in top_ids:\n",
    "    final_context += chunks[idx]"
   ]
  },
  {
   "cell_type": "code",
   "execution_count": 26,
   "id": "acecd055",
   "metadata": {},
   "outputs": [
    {
     "data": {
      "text/plain": [
       "'TEXT DATA: Button Machine TEXT DATA: 0 Multifunction milling machine TEXT DATA: 1 Universal milling machine TEXT DATA: 2 Process unloader TEXT DATA: 3 Lathe TEXT DATA: \\uf0f2 ENT TEXT DATA: - Press the buttons and to move to the next step. TEXT DATA: - As you are using the  l a t h e,  s e lect number 3, then the instrument will display TEXT DATA: only the X and Y dimensions necessary for turning operations TEXT DATA: Page 37 of 84TEXT DATA: fervi.com TEXT DATA: F TABLE DATA: [[\\'\\']] TEXT DATA: I TEXT DATA: H TEXT DATA: G TEXT DATA: Figure 19 - Feed adjustment knobs. TEXT DATA: The panel for automatic feed speed adjustment (see  Figure 19 ), is positioned at the left part of the machine, under the spindle rotation speed adjustment panel. The different speeds are selected via 4 knob switches which control the gear speed change (ref.  F ,  G ,  H ,  I  in  Figure 19 ). There is also a fifth knob for selecting the feed direction of the carriage (ref.  E  in  Figure 19 ). TEXT DATA: Threading To make a thread: Operate the knob (I), insert the bar for threading in 4 positions (see Figure 20 ); TABLE DATA: [[\\'E\\'], [\\'\\'], [\\'\\'], [\\'\\']]TEXT DATA: In this way, the desired resolution is set for the X axis, using the numbers on the panel according to the following scheme: TEXT DATA: Button 0 1 2 5 7 8 9 TEXT DATA: Resolution (µm) 10 1 2 5 0.1 0.2 0.5 TEXT DATA: \\uf0f2 ENT TEXT DATA: - After choosing the resolution press the button then to move to the next step. TEXT DATA: - To set the resolution  o f  t h e  Y   axes and (Z if used), proceed as described above TEXT DATA: for the X axis TEXT DATA: Page 36 of 84 TEXT DATA: MACHINES AND TEXT DATA: ACCESSORIESTEXT DATA: Tailstock base length (mm) 165 TEXT DATA: Tailstock base width (mm) 125 TEXT DATA: Steady rest diameter (mm) 120 TEXT DATA: Dimensions (W x D x H) (mm) 1820 x 530 x 1350 TEXT DATA: Package dimensions (W x D x H) (mm) 1920 x 840 x 1560 TEXT DATA: Weight of machine (kg) 520 TEXT DATA: Voltage / power supply frequency (V / Hz) 230/50. 400 / 50 TEXT DATA: Motor power (W) 1500/1800 TEXT DATA: Acoustic pressure level at operator\\'s workstation (dB(A)) 84 TEXT DATA: Page 10 of 84TEXT DATA: Check the presence and integrity of protective devices and the proper functioning of safety devices before starting operation. TEXT DATA: If any defect is detected, do not use the Gear head lathe! TEXT DATA: It is strictly forbidden to modify or remove guards, safety devices, labels and information plates on the machine. TEXT DATA: Page 9 of 84 TEXT DATA: MACHINES AND ACCESSORIES TEXT DATA: 3  TECHNICAL SPECIFICATIONS TABLE DATA: [[\\'Description (unit of measurement)\\', \\'T999/230V\\\\nT999/400V\\'], [\\'Centres distance (mm)\\', \\'1000\\'], [\\'Spindle hole diameter (mm)\\', \\'38\\'], [\\'Maximum swing over the bed (mm)\\', \\'320\\'], [\\'Maximum swing over the cross slide (mm)\\', \\'198\\'], [\\'Turning diameter over cavity (mm)\\', \\'\\'], [\\'Spindle diameter (3 + 3 self centring) (mm)\\', \\'\\'], [\\'Spindle connector\\', \\'\\'], [\\'No. of spindle speeds\\', \\'m\\'], [\\'Spindle speed (r/min)\\', \\'\\'], [\\'No. of metric threads\\', \\'\\'], [\\'Range of metric threads (mm)\\', \\'o\\'], [\\'No. of inch threads\\', \\'\\'], [\\'Range of inch threads (mm)\\', \\'\\'], [\\'Range of longitudinal\\\\nfeeds (mm)\\', \\'00.78- 1.044\\\\nc\\'], [\\'Range of transverse feeds (mm)\\', \\'0.022- 0.298\\'], [\\'Outer diameter of the feed screw (mm)\\\\n.\\', \\'22\\'], [\\'Guide length (mm)\\\\ni\\', \\'1390\\'], [\\'Cross carriage travel (mm)\\\\nv\\', \\'200\\'], [\\'Tailstock sleeve diameter (mm)\\', \\'32\\'], [\\'Maximum travel of the tailstock sleeve (mm)\\\\nr\\', \\'80\\'], [\\'Inner taper\\', \\'CM 5\\'], [\\'Tailstock base length (mm)\\\\ne\\', \\'165\\'], [\\'Tailstock base width (mm)\\', \\'125\\'], [\\'Steady rest diameter (mm)\\\\nf\\', \\'120\\'], [\\'Dimensions (W x D x H) (mm)\\', \\'1820 x 530 x 1350\\'], [\\'Package dimensions (W x D x H) (mm)\\', \\'1920 x 840 x 1560\\'], [\\'Weight of machine (kg)\\', \\'520\\'], [\\'Voltage / power supply frequency (V / Hz)\\', \\'230/50.\\\\n400 / 50\\'], [\\'Motor power (W)\\', \\'1500/1800\\'], [\"Acoustic pressure level at operator\\'s workstation\\\\n(dB(A))\", \\'84\\']] TEXT DATA: Description (unit of measurement) T999/230V T999/400V TEXT DATA: Centres distance (mm) 1000 TEXT DATA: Spindle hole diameter (mm) 38'"
      ]
     },
     "execution_count": 26,
     "metadata": {},
     "output_type": "execute_result"
    }
   ],
   "source": [
    "final_context"
   ]
  },
  {
   "cell_type": "markdown",
   "id": "9f856f1f",
   "metadata": {},
   "source": [
    "### 12. Setting up LLM B for response generation"
   ]
  },
  {
   "cell_type": "code",
   "execution_count": 27,
   "id": "e1b44c83",
   "metadata": {},
   "outputs": [],
   "source": [
    "def llm_b(prompt):\n",
    "    client = Groq(\n",
    "        api_key = os.getenv(\"GROQ_API_KEY\"),\n",
    "    )\n",
    "\n",
    "    chat_completion = client.chat.completions.create(\n",
    "        model = \"llama-3.3-70b-versatile\",\n",
    "        # model = \"llama3-70b-8192\",\n",
    "        # model = \"mistral-saba-24b\",\n",
    "        messages = [\n",
    "            {\n",
    "                \"role\": \"system\",\n",
    "                \"content\": \"You are an expert technical assistant specialized in interpreting operations and maintenance manuals for machinery.\"\n",
    "            },\n",
    "            {\n",
    "                \"role\": \"user\",\n",
    "                \"content\": prompt\n",
    "            }\n",
    "        ],\n",
    "        temperature = 0.5,\n",
    "        max_tokens = 5640,\n",
    "        top_p = 1,\n",
    "        stream = True,\n",
    "    )\n",
    "\n",
    "    for chunk in chat_completion:\n",
    "        content = chunk.choices[0].delta.content\n",
    "        if content:\n",
    "            print(content, end = '', flush = True)  # print to console without newline, flush immediately\n",
    "            time.sleep(0.01)  # optional tiny delay for typewriter effect\n",
    "    \n",
    "\n",
    "def prompt(query, context):\n",
    "    return f\"\"\"\n",
    "        You are an expert technical assistant specialized in interpreting operations and maintenance manuals for machinery.\n",
    "\n",
    "        Given the user question and the relevant extracted context from the manual:\n",
    "\n",
    "        - Provide a clear, precise, and factual answer to the question.\n",
    "        - Base your response strictly on the provided context; do not guess beyond it.\n",
    "        - If the context does not contain enough information, indicate that the answer is not available in the manual or that the context is not sufficient.\n",
    "        - Keep the answer professional, concise, and focused on practical instructions.\n",
    "        - Each section of the context begins with a tag: either 'TEXT DATA' or 'TABLE DATA'.\n",
    "        - 'TEXT DATA' represents plain, unstructured text. 'TABLE DATA' represents information extracted from a table and flattened into a list format.\n",
    "        - The 'TABLE DATA' is structured as a list of rows, where each row is a list containing the column values in order. The format is as follows: [[column 1 value, column 2 value, ...], [column 1 value, column 2 value, ...], ...]\n",
    "        \n",
    "        User Question:\n",
    "        {query}\n",
    "\n",
    "        Context from Manual:\n",
    "        {context}\n",
    "        \"\"\""
   ]
  },
  {
   "cell_type": "markdown",
   "id": "27d4b728",
   "metadata": {},
   "source": [
    "### 13. Inference"
   ]
  },
  {
   "cell_type": "code",
   "execution_count": 28,
   "id": "e20f5b02",
   "metadata": {},
   "outputs": [
    {
     "name": "stdout",
     "output_type": "stream",
     "text": [
      "The manual does not provide information on unplugging the power cord of the machine from the power outlet. The context provided does not contain any instructions or guidelines related to this specific topic. Therefore, the answer is not available in the manual."
     ]
    }
   ],
   "source": [
    "prompt = prompt(query, final_context) # go to section number 5 to change query\n",
    "llm_b(prompt)"
   ]
  }
 ],
 "metadata": {
  "kernelspec": {
   "display_name": "py310",
   "language": "python",
   "name": "python3"
  },
  "language_info": {
   "codemirror_mode": {
    "name": "ipython",
    "version": 3
   },
   "file_extension": ".py",
   "mimetype": "text/x-python",
   "name": "python",
   "nbconvert_exporter": "python",
   "pygments_lexer": "ipython3",
   "version": "3.10.15"
  }
 },
 "nbformat": 4,
 "nbformat_minor": 5
}
