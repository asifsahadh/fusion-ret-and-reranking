{
 "cells": [
  {
   "cell_type": "markdown",
   "id": "216ea2fe",
   "metadata": {},
   "source": [
    "## **Hybrid Architecture: Fusion Retrieval + Reranking based RAG** "
   ]
  },
  {
   "cell_type": "markdown",
   "id": "aca8aab1",
   "metadata": {},
   "source": [
    "_**What are your expectations for the Hybrid architecture with the provided manual?**_<br>\n",
    "The obvious answer would be that it will be better than both the approaches. Hybrid models in general tend to perform better than their individual constituent models. But this requires testing."
   ]
  },
  {
   "cell_type": "markdown",
   "id": "ab42cecd",
   "metadata": {},
   "source": [
    "**_How do you plan to test and compare these techniques?_**<br><br>\n",
    "<img src=\"./hybrid_workflow.png\" alt=\"Flowchart\" width=\"1000\" /><br><br>\n",
    "The addition here as compared to the Fusion Retrieval architecture is the addition of an LLM based reranking approach right before asking an LLM to generate the response. In this case, there will be 3 sets of chunks throughout the workflow. First will be the set that is returned from the initial BERT embeddings and BM25 representations. This will be denoted as top-K. The next set of chunks will be based on the fusion scores from the semantic based retried chunks and keyword based retrieved chunks. This will be denoted as top-L. And finally, this set of L chunks will be passed into the first LLM for reranking. The chunks returned here will be the top-M chunks which will be the final set of context for our second and final LLM for query answering.<br>\n",
    "1. The document data is extracted, specifically text and tabular data. \n",
    "2. Next, these data are stored in a way where the sequence is maintained, that way there will be more context for a certain text that may have a table before or after it. \n",
    "3. This set is chunked and converted to BERT based vector embeddings and also to BM25 based representations.\n",
    "4. Now the query is also converted to BERT based embeddings and BM25 based representations and the top-K chunks are retrieved for both. A union is taken between the retrieved chunks to avoid overlaps.\n",
    "5. Next, this final set of chunks are again made into 2 copies, one of BERT based embeddings and the other of BM25 based inverted indexes. The query is passed into both structures and the scores are retrieved for each chunk. This gives us a set of chunk IDs, BERT scores, BM25 scores and the final fusion score. \n",
    "6. Based on this fusion score, the top-L chunks are retrieved (L < K). \n",
    "7. These top-L chunks are passed into the first LLM for reranking, which returns the top-M chunks based on its knowledge and understanding (M < L).\n",
    "8. This final set of top-M chunks are passed into the second LLM, along with the query for the final response generation.\n",
    "\n",
    "**It must be noted that K > L > M. In this implementation, they are set as 30, 12 and 8 respectively.**"
   ]
  },
  {
   "cell_type": "markdown",
   "id": "d4915c29",
   "metadata": {},
   "source": [
    "_**Comparison Strategy**_<br>\n",
    "There are possibly two main ways in which we can compare this approach with the Fusion Retrieval and Reranking approach. One is by assessing the top-M retrieved chunks from the Hybrid with the top-L retrieved chunks from both the other approaches. The other is obviously by assessing the final response from the LLM for each approach. "
   ]
  },
  {
   "cell_type": "markdown",
   "id": "f7d3b52f",
   "metadata": {},
   "source": [
    "_**Note**: Considering images is important in order to create a robust RAG system. Due to technical/financial constraints, images are omitted for this implementation. However, in the absence of such constraints, what I would have done is have the LLM read the image and prompt it to generate a description. This description will be added into the resulting array while also maintaining the sequence. **One obvious question in that case will be whether or not the LLM knows about the content in the image, provided that it is very domain specific and unfamiliar to the LLM**. One way I thought of on mitigating this issue is by providing some set of surrounding context of the image to the LLM along with the image itself for it to draw better conclusions. These contexts can be the nearest 2 or 3 elements (text, table or another image) surrounding the image in hand. Let this value be J. So, if J is 3, we feed 3 elements before the image and 3 elements after the image as context for the LLM to generate proper a description of the image in hand. This might not be the most efficient solution, but there can be scenarios where this will work._"
   ]
  },
  {
   "cell_type": "markdown",
   "id": "a3bb5dc2",
   "metadata": {},
   "source": [
    "---"
   ]
  },
  {
   "cell_type": "markdown",
   "id": "278daf5a",
   "metadata": {},
   "source": [
    "#### Import libraries"
   ]
  },
  {
   "cell_type": "code",
   "execution_count": 6,
   "id": "406d5d4f",
   "metadata": {},
   "outputs": [],
   "source": [
    "import fitz # for text extraction\n",
    "import camelot # for table extraction\n",
    "from sentence_transformers import SentenceTransformer, util # for semantic vector embedding creation \n",
    "from rank_bm25 import BM25Okapi # for bm25 implementation\n",
    "import spacy # for stop word removal\n",
    "import re\n",
    "from pathlib import Path\n",
    "import numpy as np\n",
    "from groq import Groq\n",
    "import os\n",
    "import time\n",
    "import ollama\n",
    "import json"
   ]
  },
  {
   "cell_type": "markdown",
   "id": "cb3d0c0f",
   "metadata": {},
   "source": [
    "#### 1. Function to extract texts & tables from PDF\n",
    "The goal is to preserve the sequence, that way there will be more context for a certain text that may have a table before or after it."
   ]
  },
  {
   "cell_type": "code",
   "execution_count": 2,
   "id": "e2a3b83c",
   "metadata": {},
   "outputs": [],
   "source": [
    "def extract_text_and_tables(pdf_path):\n",
    "\n",
    "    pdf_file = Path(pdf_path)\n",
    "    if not pdf_file.is_file() or pdf_file.suffix.lower() != \".pdf\":\n",
    "        raise FileNotFoundError(\"Provided file path is not a valid PDF.\")\n",
    "\n",
    "    doc = fitz.open(str(pdf_file))\n",
    "    result = []\n",
    "\n",
    "    # text extraction\n",
    "    for page_num, page in enumerate(doc, start = 1):\n",
    "        page_blocks = []\n",
    "\n",
    "        blocks = page.get_text(\"dict\")[\"blocks\"]\n",
    "        for block in blocks:\n",
    "            if block[\"type\"] == 0: # type 0 is text\n",
    "                text_content = \" \".join(\n",
    "                    span[\"text\"] for line in block[\"lines\"] for span in line[\"spans\"]\n",
    "                ).strip()\n",
    "                if text_content:\n",
    "                    y = block[\"bbox\"][1]\n",
    "                    page_blocks.append({\n",
    "                        \"type\": \"TEXT DATA\",\n",
    "                        \"y\": y,\n",
    "                        \"content\": text_content\n",
    "                    })\n",
    "\n",
    "        # table extraction\n",
    "        try:\n",
    "            tables = camelot.read_pdf(str(pdf_file), pages = str(page_num), flavor = 'lattice') # lattice flavor to extract tables\n",
    "        except Exception as e:\n",
    "            print(f\"Failed to read tables on page {page_num}: {e}\")\n",
    "            tables = []\n",
    "\n",
    "        for table in tables:\n",
    "            table_data = table.data\n",
    "            bbox = table._bbox\n",
    "            y = float(bbox[1])\n",
    "            page_blocks.append({\n",
    "                \"type\": \"TABLE DATA\",\n",
    "                \"y\": y,\n",
    "                \"content\": table_data\n",
    "            })\n",
    "\n",
    "        page_blocks.sort(key = lambda b: b[\"y\"]) # sort contents on current page\n",
    "        result.extend(page_blocks) # append content to result list\n",
    "\n",
    "    return result"
   ]
  },
  {
   "cell_type": "code",
   "execution_count": 3,
   "id": "1c02934d",
   "metadata": {},
   "outputs": [
    {
     "data": {
      "text/plain": [
       "[{'type': 'TEXT DATA',\n",
       "  'y': 145.75482177734375,\n",
       "  'content': 'Follow the instructions contained herein, in addition to the general precautions to be observed while working. Even if the operator is already familiar with the use of manually operated lathes, it is necessary to: In particular:'},\n",
       " {'type': 'TEXT DATA', 'y': 173.48190307617188, 'content': 'fervi.com'},\n",
       " {'type': 'TEXT DATA',\n",
       "  'y': 188.8348388671875,\n",
       "  'content': '\\uf0b7 Acquire full knowledge of the machine. For safe operation, this manual must be read carefully in order to acquire the necessary knowledge of the machine and to understand: operation, safety devices and all necessary precautions. \\uf0b7 Wear appropriate clothing for the job. The operator must wear appropriate clothing to prevent accidents. \\uf0b7 Maintain the machine with care.'},\n",
       " {'type': 'TEXT DATA',\n",
       "  'y': 312.05987548828125,\n",
       "  'content': 'Risks associated with using the machine'},\n",
       " {'type': 'TEXT DATA',\n",
       "  'y': 342.43487548828125,\n",
       "  'content': 'The machine must only be used by personnel who have been specially trained by authorized personnel.'}]"
      ]
     },
     "execution_count": 3,
     "metadata": {},
     "output_type": "execute_result"
    }
   ],
   "source": [
    "# extract texts and tables from the maual\n",
    "pre_result = extract_text_and_tables(\"manual.pdf\")\n",
    "pre_result[100:105] # few elements from the extracted data"
   ]
  },
  {
   "cell_type": "code",
   "execution_count": 7,
   "id": "90638f1d",
   "metadata": {},
   "outputs": [],
   "source": [
    "# save manual as json\n",
    "with open(\"manual.json\", \"w\") as file:\n",
    "    json.dump(pre_result, file)"
   ]
  },
  {
   "cell_type": "code",
   "execution_count": 8,
   "id": "691b555d",
   "metadata": {},
   "outputs": [],
   "source": [
    "# load manual\n",
    "with open(\"manual.json\", \"r\") as file:\n",
    "    pre_result = json.load(file)"
   ]
  },
  {
   "cell_type": "code",
   "execution_count": 11,
   "id": "93d52590",
   "metadata": {},
   "outputs": [],
   "source": [
    "# removing 'fervi.com' background text\n",
    "result = []\n",
    "for res in pre_result:\n",
    "    if res['content'] != 'fervi.com':\n",
    "        result.append(res)"
   ]
  },
  {
   "cell_type": "code",
   "execution_count": 12,
   "id": "d1672c32",
   "metadata": {},
   "outputs": [
    {
     "data": {
      "text/plain": [
       "{'type': 'TABLE DATA',\n",
       " 'y': 54.94955827871188,\n",
       " 'content': [['Part No.', 'Description', 'i', 'Description'],\n",
       "  ['T999/F001', 'Body\\nv', '', 'Micrometer'],\n",
       "  ['T999/F002', 'Flange', '', 'Lock'],\n",
       "  ['T999/F003', '', 'T999/F026', 'Switch'],\n",
       "  ['T999/F004', 'r', 'T999/F029', 'Knob'],\n",
       "  ['T999/F005', '', 'T999/F030', 'Knob'],\n",
       "  ['T999/F007', 'e', 'T999/F031', 'Allen key'],\n",
       "  ['T999/F008', '', 'T999/F032', 'Allen key'],\n",
       "  ['T999/F009\\nf', '', 'T999/F033', 'Screw'],\n",
       "  ['T999/F010', '', 'T999/F034', 'Screw'],\n",
       "  ['T999/F011', '', 'T999/F035', 'Screw'],\n",
       "  ['T999/F012', '', 'T999/F036', 'Screw'],\n",
       "  ['T999/F013', 'Pin', 'T999/F037', 'Nut'],\n",
       "  ['T999/F014', 'Screw', 'T999/F038', 'Nut'],\n",
       "  ['T999/F015', 'Sleeve coupling', 'T999/F039', 'Key'],\n",
       "  ['T999/F016', 'Tie rod', 'T999/F040', 'Washer'],\n",
       "  ['T999/F019', 'Pin', 'T999/F041', 'Plug'],\n",
       "  ['T999/F020', 'Lever', 'T999/F041', 'Bearing'],\n",
       "  ['T999/F021', 'Nut', 'T999/F042', 'Oiler']]}"
      ]
     },
     "execution_count": 12,
     "metadata": {},
     "output_type": "execute_result"
    }
   ],
   "source": [
    "# sample table data\n",
    "result[1173]"
   ]
  },
  {
   "cell_type": "code",
   "execution_count": 13,
   "id": "1654f527",
   "metadata": {},
   "outputs": [],
   "source": [
    "# list formatting by adding labels for texts and tables\n",
    "final = []\n",
    "for r in result:\n",
    "    s = f\"{r['type']}: {r['content']}\"\n",
    "    final.append(s)"
   ]
  },
  {
   "cell_type": "code",
   "execution_count": 14,
   "id": "a3172bb4",
   "metadata": {},
   "outputs": [
    {
     "data": {
      "text/plain": [
       "\"TABLE DATA: [['Part No.', 'Description', 'i', 'Description'], ['T999/F001', 'Body\\\\nv', '', 'Micrometer'], ['T999/F002', 'Flange', '', 'Lock'], ['T999/F003', '', 'T999/F026', 'Switch'], ['T999/F004', 'r', 'T999/F029', 'Knob'], ['T999/F005', '', 'T999/F030', 'Knob'], ['T999/F007', 'e', 'T999/F031', 'Allen key'], ['T999/F008', '', 'T999/F032', 'Allen key'], ['T999/F009\\\\nf', '', 'T999/F033', 'Screw'], ['T999/F010', '', 'T999/F034', 'Screw'], ['T999/F011', '', 'T999/F035', 'Screw'], ['T999/F012', '', 'T999/F036', 'Screw'], ['T999/F013', 'Pin', 'T999/F037', 'Nut'], ['T999/F014', 'Screw', 'T999/F038', 'Nut'], ['T999/F015', 'Sleeve coupling', 'T999/F039', 'Key'], ['T999/F016', 'Tie rod', 'T999/F040', 'Washer'], ['T999/F019', 'Pin', 'T999/F041', 'Plug'], ['T999/F020', 'Lever', 'T999/F041', 'Bearing'], ['T999/F021', 'Nut', 'T999/F042', 'Oiler']]\""
      ]
     },
     "execution_count": 14,
     "metadata": {},
     "output_type": "execute_result"
    }
   ],
   "source": [
    "# table data sample after flattening\n",
    "final[1173]"
   ]
  },
  {
   "cell_type": "markdown",
   "id": "dcf9288b",
   "metadata": {},
   "source": [
    "It can be seen that the flattened version somewhat preserves the structure of the actual table by keeping each row inside a list. The LLM can hopefully understand this due to the presence of the label 'TABLE DATA' at the start."
   ]
  },
  {
   "cell_type": "markdown",
   "id": "56b7230f",
   "metadata": {},
   "source": [
    "### 2. Chunking"
   ]
  },
  {
   "cell_type": "code",
   "execution_count": 18,
   "id": "f2888a2b",
   "metadata": {},
   "outputs": [
    {
     "name": "stdout",
     "output_type": "stream",
     "text": [
      "Number of chunks: 128\n",
      "\n"
     ]
    },
    {
     "data": {
      "text/plain": [
       "'TEXT DATA: Spindle hole diameter (mm) 38 TEXT DATA: Maximum swing over the bed (mm) 320 TEXT DATA: Maximum swing over the cross slide (mm) 198 TEXT DATA: Turning diameter over cavity (mm) 470 TEXT DATA: Spindle diameter (3 + 3 self centring) (mm) 160 TEXT DATA: Spindle connector Camlock D1-4 TEXT DATA: No. of spindle speeds 8 TEXT DATA: Spindle speed (r/min) 70 - 2000 RPM TEXT DATA: No. of metric threads 32 TEXT DATA: Range of metric threads (mm) 0.44- 10'"
      ]
     },
     "execution_count": 18,
     "metadata": {},
     "output_type": "execute_result"
    }
   ],
   "source": [
    "chunks = [\" \".join(final[i:i + 10]) for i in range(0, len(final), 10)] # be careful here\n",
    "print(f\"Number of chunks: {len(chunks)}\\n\")\n",
    "\n",
    "chunks[15] # sample"
   ]
  },
  {
   "cell_type": "markdown",
   "id": "c9f6bbd0",
   "metadata": {},
   "source": [
    "### 3. Data cleaning for BM25"
   ]
  },
  {
   "cell_type": "code",
   "execution_count": 19,
   "id": "9f90dfe5",
   "metadata": {},
   "outputs": [
    {
     "data": {
      "text/plain": [
       "'TEXT DATA : Spindle hole diameter ( mm ) 38 TEXT DATA : Maximum swing bed ( mm ) 320 TEXT DATA : Maximum swing cross slide ( mm ) 198 TEXT DATA : Turning diameter cavity ( mm ) 470 TEXT DATA : Spindle diameter ( 3 + 3 self centring ) ( mm ) 160 TEXT DATA : Spindle connector Camlock D1 - 4 TEXT DATA : . spindle speeds 8 TEXT DATA : Spindle speed ( r / min ) 70 - 2000 RPM TEXT DATA : . metric threads 32 TEXT DATA : Range metric threads ( mm ) 0.44- 10'"
      ]
     },
     "execution_count": 19,
     "metadata": {},
     "output_type": "execute_result"
    }
   ],
   "source": [
    "nlp = spacy.load(\"en_core_web_sm\")\n",
    "\n",
    "chunks_4_bm25 = []\n",
    "for chunk in chunks:\n",
    "    doc = nlp(chunk)\n",
    "    filtered = [token.text for token in doc if not token.is_stop]\n",
    "    chunks_4_bm25.append(\" \".join(filtered))\n",
    "\n",
    "chunks_4_bm25[15] # sample"
   ]
  },
  {
   "cell_type": "markdown",
   "id": "7a7ab81f",
   "metadata": {},
   "source": [
    "### 4. Creating semantic vector embeddings and BM25 inverted index"
   ]
  },
  {
   "cell_type": "code",
   "execution_count": 20,
   "id": "b2c98f86",
   "metadata": {},
   "outputs": [],
   "source": [
    "# for bert\n",
    "model = SentenceTransformer('sentence-transformers/all-mpnet-base-v2')\n",
    "sem_embs = model.encode(chunks, convert_to_tensor = True)"
   ]
  },
  {
   "cell_type": "code",
   "execution_count": 21,
   "id": "9d255dce",
   "metadata": {},
   "outputs": [],
   "source": [
    "# for bm25\n",
    "tokenized_corpus = [doc.split() for doc in chunks_4_bm25]\n",
    "bm25 = BM25Okapi(tokenized_corpus)"
   ]
  },
  {
   "cell_type": "markdown",
   "id": "74f27932",
   "metadata": {},
   "source": [
    "### 5. Pipeline to return indices of top-K chunks that match with the query"
   ]
  },
  {
   "cell_type": "code",
   "execution_count": 77,
   "id": "28dc1909",
   "metadata": {},
   "outputs": [],
   "source": [
    "def bert_query_pipeline(query, top_k = 30):\n",
    "     \n",
    "    device = sem_embs.device\n",
    "    query_embedding = model.encode(query, convert_to_tensor = True)\n",
    "    cosine_scores = util.cos_sim(query_embedding, sem_embs)[0] # cosine similarity\n",
    "    top_indices = np.argsort(cosine_scores.cpu().numpy())[::-1][:top_k]\n",
    "\n",
    "    return top_indices"
   ]
  },
  {
   "cell_type": "code",
   "execution_count": 78,
   "id": "9ddcbf33",
   "metadata": {},
   "outputs": [],
   "source": [
    "def bm25_query_pipeline(query, top_k = 30):\n",
    "\n",
    "    tokenized_query = query.split()\n",
    "    bm25_scores = bm25.get_scores(tokenized_query) # tf-idf like scoring\n",
    "    top_indices = np.argsort(bm25_scores)[::-1][:top_k]\n",
    "\n",
    "    return top_indices"
   ]
  },
  {
   "cell_type": "code",
   "execution_count": 79,
   "id": "20c6fc51",
   "metadata": {},
   "outputs": [],
   "source": [
    "# query = \"Summarize the manual.\" # 1\n",
    "# query = \"What are some general safety rules when using machine equipment?\" # 2\n",
    "# query = \"What does the manual say about unplugging the power cord of the machine from the power outlet?\" # 3\n",
    "# query = \"What are the several manual controls on the tool holder carriage?\" # 4\n",
    "# query = \"Tell me about the lever for selection of longitudinal feeds.\" # 5\n",
    "# query = \"What does the document talk about regarding digital displays?\" # 6\n",
    "# query = \"What controls does the electric panel have?\" # 7\n",
    "# query = \"How to achieve balance when lifting the Lathe?\" # 8\n",
    "query = \"Tell me about using the machine for turning non-ferrous materials.\" # 9\n",
    "# query = \"What should a grounding conductor be used for?\" # 10"
   ]
  },
  {
   "cell_type": "code",
   "execution_count": 80,
   "id": "cfc8026e",
   "metadata": {},
   "outputs": [
    {
     "name": "stdout",
     "output_type": "stream",
     "text": [
      "Number of staged chunks for context: 46\n",
      "\n"
     ]
    }
   ],
   "source": [
    "# get common chunks from chunks retrived from both implementations\n",
    "\n",
    "bert_top_k_idx = bert_query_pipeline(query)\n",
    "bm25_top_k_idx = bm25_query_pipeline(query)\n",
    "final_idx = list(set(list(bert_top_k_idx) + list(bm25_top_k_idx))) # union operation\n",
    "\n",
    "staged_context = [chunks[idx] for idx in final_idx]\n",
    "staged_context_4_bm25 = [chunks_4_bm25[idx] for idx in final_idx]\n",
    "print(f\"Number of staged chunks for context: {len(staged_context)}\\n\")"
   ]
  },
  {
   "cell_type": "markdown",
   "id": "c32d2610",
   "metadata": {},
   "source": [
    "### 6. Embed staged context using BERT & get inverted indices of staged context using BM25"
   ]
  },
  {
   "cell_type": "code",
   "execution_count": 81,
   "id": "37adb500",
   "metadata": {},
   "outputs": [],
   "source": [
    "# for bert\n",
    "sem_embs_final = model.encode(staged_context, convert_to_tensor = True)\n",
    "\n",
    "# for bm25\n",
    "tokenized_corpus_final = [doc.split() for doc in staged_context_4_bm25]\n",
    "bm25_final = BM25Okapi(tokenized_corpus_final)"
   ]
  },
  {
   "cell_type": "markdown",
   "id": "7ffaa723",
   "metadata": {},
   "source": [
    "### 7. Function to get the final set of scores for the staged context chunks for both BERT & BM25"
   ]
  },
  {
   "cell_type": "code",
   "execution_count": 82,
   "id": "86aec529",
   "metadata": {},
   "outputs": [],
   "source": [
    "def bert_final_scores(query):\n",
    "     \n",
    "    device = sem_embs_final.device\n",
    "    query_embedding = model.encode(query, convert_to_tensor = True)\n",
    "    cosine_scores = util.cos_sim(query_embedding, sem_embs_final)[0]\n",
    "    indices = np.argsort(cosine_scores.cpu().numpy())[::-1]\n",
    "\n",
    "    return cosine_scores.cpu().numpy(), indices"
   ]
  },
  {
   "cell_type": "code",
   "execution_count": 83,
   "id": "8f729cc6",
   "metadata": {},
   "outputs": [
    {
     "data": {
      "text/plain": [
       "(array([0.39116088, 0.38352403, 0.29570445, 0.3804564 , 0.44452164,\n",
       "        0.39220077, 0.39644188, 0.35995543, 0.4849117 , 0.48331106,\n",
       "        0.4532263 , 0.32886553, 0.3223002 , 0.39964926, 0.5827457 ,\n",
       "        0.4720347 , 0.4069566 , 0.40395635, 0.40832442, 0.35016885,\n",
       "        0.45562816, 0.3177841 , 0.30462807, 0.4033295 , 0.34265903,\n",
       "        0.41078186, 0.38350898, 0.3603382 , 0.40216637, 0.28225404,\n",
       "        0.342164  , 0.35635427, 0.2311632 , 0.31217343, 0.18172249,\n",
       "        0.42552388, 0.398474  , 0.44532353, 0.3845288 , 0.41005343,\n",
       "        0.38993296, 0.43968284, 0.42096245, 0.38777182, 0.3788305 ,\n",
       "        0.43159762], dtype=float32),\n",
       " array([14,  8,  9, 15, 20, 10, 37,  4, 41, 45, 35, 42, 25, 39, 18, 16, 17,\n",
       "        23, 28, 13, 36,  6,  5,  0, 40, 43, 38,  1, 26,  3, 44, 27,  7, 31,\n",
       "        19, 24, 30, 11, 12, 21, 33, 22,  2, 29, 32, 34], dtype=int64))"
      ]
     },
     "execution_count": 83,
     "metadata": {},
     "output_type": "execute_result"
    }
   ],
   "source": [
    "bert_final_scores(query)"
   ]
  },
  {
   "cell_type": "code",
   "execution_count": 84,
   "id": "5160f238",
   "metadata": {},
   "outputs": [],
   "source": [
    "def bm25_query_pipeline(query):\n",
    "\n",
    "    tokenized_query = query.split()\n",
    "    bm25_scores = bm25_final.get_scores(tokenized_query)\n",
    "    indices = np.argsort(bm25_scores)[::-1]\n",
    "\n",
    "    return bm25_scores, indices"
   ]
  },
  {
   "cell_type": "code",
   "execution_count": 85,
   "id": "4b91e638",
   "metadata": {},
   "outputs": [
    {
     "data": {
      "text/plain": [
       "(array([1.22307922, 1.24360123, 1.3037595 , 0.        , 0.77988806,\n",
       "        0.        , 1.30734236, 1.33057134, 1.59755848, 1.49572833,\n",
       "        1.36654682, 1.48403631, 1.34745026, 0.63633981, 3.83236931,\n",
       "        1.17929248, 0.79028268, 0.42283521, 1.16768041, 1.18993682,\n",
       "        2.87768654, 3.39132246, 1.61653746, 1.55262162, 1.41615733,\n",
       "        1.39500273, 1.17229768, 1.39336364, 3.07085375, 2.65813466,\n",
       "        1.43206435, 1.33057134, 2.43938289, 1.46660481, 1.98953429,\n",
       "        1.18676126, 1.3325649 , 0.90553576, 0.67204665, 1.10049604,\n",
       "        1.22307922, 1.27341906, 0.6203612 , 0.9007311 , 2.36577387,\n",
       "        0.76578666]),\n",
       " array([14, 21, 28, 20, 29, 32, 44, 34, 22,  8, 23,  9, 11, 33, 30, 24, 25,\n",
       "        27, 10, 12, 36,  7, 31,  6,  2, 41,  1,  0, 40, 19, 35, 15, 26, 18,\n",
       "        39, 37, 43, 16,  4, 45, 38, 13, 42, 17,  5,  3], dtype=int64))"
      ]
     },
     "execution_count": 85,
     "metadata": {},
     "output_type": "execute_result"
    }
   ],
   "source": [
    "bm25_query_pipeline(query)"
   ]
  },
  {
   "cell_type": "markdown",
   "id": "70029e00",
   "metadata": {},
   "source": [
    "### 8. Applying fusion scoring\n",
    "**`α * xi + (1 - α) * yi`**<br><br>\n",
    "...where `xi` is score of the ith chunk from the bert model and `yi` is score of the ith chunk from bm25."
   ]
  },
  {
   "cell_type": "code",
   "execution_count": 86,
   "id": "64e9ef0b",
   "metadata": {},
   "outputs": [
    {
     "data": {
      "text/plain": [
       "12"
      ]
     },
     "execution_count": 86,
     "metadata": {},
     "output_type": "execute_result"
    }
   ],
   "source": [
    "# function to normalize the scores\n",
    "def normalize_scores(scores):\n",
    "    min_s = np.min(scores)\n",
    "    max_s = np.max(scores)\n",
    "    return (scores - min_s) / (max_s - min_s) if max_s > min_s else scores\n",
    "\n",
    "# function to fuse the scores\n",
    "def fused_scores(query, alpha = 0.2, top_l = 12):\n",
    "    bm25_scores, bm25_indices = bm25_query_pipeline(query)\n",
    "    bert_scores, bert_indices = bert_final_scores(query)\n",
    "    \n",
    "    # create arrays to hold scores aligned by document index\n",
    "    num_docs = len(bm25_scores)  # should be same as bert_scores length\n",
    "    bm25_aligned = np.zeros(num_docs)\n",
    "    bert_aligned = np.zeros(num_docs)\n",
    "    \n",
    "    # align bm25 scores (indices are original document indices)\n",
    "    for idx, score in zip(bm25_indices, bm25_scores):\n",
    "        bm25_aligned[idx] = score\n",
    "\n",
    "    # align BERT scores\n",
    "    for idx, score in zip(bert_indices, bert_scores):\n",
    "        bert_aligned[idx] = score\n",
    "\n",
    "    # normalize\n",
    "    bm25_norm = normalize_scores(bm25_aligned)\n",
    "    bert_norm = normalize_scores(bert_aligned)\n",
    "\n",
    "    # fuse\n",
    "    fused = alpha * bm25_norm + (1 - alpha) * bert_norm\n",
    "\n",
    "    # top-L indices by fused score\n",
    "    top_indices = np.argsort(fused)[::-1][:top_l]\n",
    "\n",
    "    return top_indices\n",
    "\n",
    "best = fused_scores(query)\n",
    "max_idx = max(best) # used for LLM later\n",
    "len(best)"
   ]
  },
  {
   "cell_type": "markdown",
   "id": "b5e44908",
   "metadata": {},
   "source": [
    "### 9. Get final context"
   ]
  },
  {
   "cell_type": "code",
   "execution_count": 87,
   "id": "8f0f09bf",
   "metadata": {},
   "outputs": [
    {
     "data": {
      "text/plain": [
       "'TEXT DATA: MACHINES AND TEXT DATA: ACCESSORIES TEXT DATA: 4 DESCRIPTION OF THE MACHINE TEXT DATA: The  Gear head lathe (Art. T999/230V e T999/400V)  is a machine tool, with a horizontal axis, for the machining of metallic materials by means of cold chip removal. The cutting motion is given by the motion of the workpiece, rotating on its own axis, and the feed motion of the tool. The machine is completely  manually operated , as it can only execute movements under the direct control of the operator. TEXT DATA: 4.1 Intended use and field of application TEXT DATA: The machine is designed and built to perform the following operations on all types of ferrous metals: TEXT DATA: \\uf0b7 Cylindrical turning; TEXT DATA: \\uf0b7 Taper turning; TEXT DATA: \\uf0b7 Facing; TEXT DATA: \\uf0b7 Profiling (idx = 18)\\n\\nTEXT DATA: \\uf0b7 Using the machine and, particularly, the tool improperly. TEXT DATA: \\uf0b7 Picking up moving tools or other moving parts. TEXT DATA: \\uf0b7 Taking measurements of the workpiece mounted on the spindle, without turning the motor off, unplugging it and waiting for the spindle to stop. TEXT DATA: \\uf0b7 Removing chips with your hands. TEXT DATA: \\uf0b7 Replacing the work tools or carrying out the speed change, without stopping the motor, disconnecting the plug and waiting for the machine to stop. TEXT DATA: \\uf0b7 Modifying and/or tampering with the safety devices of the lathe. TEXT DATA: \\uf0b7 Using the machine as a support and/or work surface. TEXT DATA: \\uf0b7 Climbing on the machine. TEXT DATA: \\uf0b7 Touching the machine with wet and/or damp hands. TEXT DATA: \\uf0b7 Using the machine when barefoot. (idx = 36)\\n\\nTEXT DATA: ACCESSORIES TEXT DATA: 8 ASSEMBLY AND COMMISSIONING TEXT DATA: 8.1 Identification of the installation site TEXT DATA: To install the machine, identify an area that is well lit, away from wet areas and has no sources of vibration nearby. The lathe must be located so that adequate space is available for the operator, so you can use it to its full potential, and safely adjust, maintain and clean the machine. In this regard, an area of at least two square metres in front of the machine must be kept free. TABLE DATA: [[\\'r\\\\ne\\\\nf\\', \\'\\', \\'\\', \\'\\', \\'\\'], [\\'\\', \\'\\', \\'\\', \\'\\', \\'\\'], [\\'\\', \\'\\', \\'\\', \\'\\', \\'\\']] TEXT DATA: Installing the Machine TEXT DATA: Do not install the Machine outdoors to avoid deformation, loss of function and damage to the electrical cont r o l  circuit. TEXT DATA: 8.2 Support base TEXT DATA: It is essential that the machine is positioned on a uniform, flat supporting surface that has sufficient strength to support it in any condition which may occur during normal use. TEXT DATA: Loss of Stability (idx = 41)\\n\\nTEXT DATA: 9 DESCRIPTION OF CONTROLS TEXT DATA: 9.1 Control buttons TEXT DATA: 9.1.1 Main switch TEXT DATA: The main switch with safety key is located on the left side of the electric panel, and it is useful to prevent unauthorised use of the machine. To power the machine (see  Figure 16 ), in fact, it is necessary to: \\uf0b7 insert the safety key into the lock to the left of the switch (marked R.L.); \\uf0b7 turn the key clockwise and simultaneously turn the main switch to \"I\", by turning it clockwise. TEXT DATA: Figure 16 - Main switch. TEXT DATA: Confirm the white power light has turned on, found on the electrical panel (marked POWER). TEXT DATA: 9.1.2 Electric and control panel buttons and lights TEXT DATA: Figure 17 – Electrical and control panel. TEXT DATA: The electrical panel has the following controls: \\uf0b7 RED MUSHROOM :  Emergency button (red mushroom). \\uf0b7 WHITE WARNING LIGHT :  Indicates the presence of voltage \\uf0b7 BLACK SELECTOR :  Coolant pump selector \\uf0b7 GREEN BUTTON  : Gears application button TEXT DATA: Page 28 of 84 (idx = 45)\\n\\nTEXT DATA: ANOTHER PERSON MUST BE PRESENT WHO IS NOT TEXT DATA: ESSERE PRESENTE UN’ALTRA PERSONA OLTRE A CHI TEXT DATA: PERFORMING THE WORK ONLY BEGIN WORKING WHEN SAFETY MEASURES TEXT DATA: ESEGUE IL LAVORO INIZIARE I LAVORI SOLO AD AVVENUTA ATTAZIONE DELLE MISURE DI SICUREZZA In ottemperanza al Dgs.81/08 relativo alla prevenzioni TEXT DATA: HAVE BEEN IMPLEMENTED In accordance with Legislative Decree 81/08 on accident TEXT DATA: prevention TEXT DATA: infortuni TEXT DATA: NON RIMUOVERE TEXT DATA: DO NOT REMOVE TEXT DATA: I DISPOSITIVI DI (idx = 30)\\n\\nTEXT DATA: No. of inch threads 20 TEXT DATA: Range of inch threads (mm) 2 ¼ - 40 TEXT DATA: Range of longitudinal feeds (mm) 00.78- 1.044 TEXT DATA: Range of transverse feeds (mm) 0.022- 0.298 TEXT DATA: Outer diameter of the feed screw (mm) 22 TEXT DATA: Guide length (mm) 1390 TEXT DATA: Cross carriage travel (mm) 200 TEXT DATA: Tailstock sleeve diameter (mm) 32 TEXT DATA: Maximum travel of the tailstock sleeve (mm) 80 TEXT DATA: Inner taper CM 5 (idx = 16)\\n\\nTABLE DATA: [[\\'THE FOLLOWING IS STRICTLY PROHIBITED!\\\\nm\\'], [\\'Supplying the machine with voltage from the mains that is different from that shown on\\\\n\\\\uf0b7\\\\nthe identification plate (230V, 50 Hz).\\\\nUsing the machine for services other than those for which it is intended;\\\\n\\\\uf0b7\\\\nUsing the machine without having read the operating instructions and without due care.\\\\n\\\\uf0b7\\\\nUsing the machine, and in particular\\\\nloading without\\\\nthe use of\\\\n\\\\uf0b7\\\\nappropriate personal protective equipment (PPE) according to the instructions given in\\\\nthis manual.\\\\no\\\\nUsing the machine and, particularly, the tool\\\\n\\\\uf0b7\\\\nPicking up moving tools or other moving parts.\\\\n\\\\uf0b7\\\\nc\\\\nTaking measurements of\\\\nthe workpiece mounted on the spindle, without\\\\nturning the\\\\n\\\\uf0b7\\\\nmotor off, unplugging it and waiting for the spindle to stop.\\\\n.\\\\nRemoving chips with your hands.\\\\n\\\\uf0b7\\\\ni\\\\nReplacing the work tools or carrying out the speed change, without stopping the motor,\\\\n\\\\uf0b7\\\\ndisconnecting the plug and waiting for the machine to stop.\\\\nModifying and/or tampering with the safety devices of the lathe.\\\\nv\\\\n\\\\uf0b7\\\\nUsing the machine as a support and/or work surface.\\\\n\\\\uf0b7\\\\nr\\\\nClimbing on the machine.\\\\n\\\\uf0b7\\\\nTouching the machine with wet and/or damp hands.\\\\n\\\\uf0b7\\\\nUsing the machine when barefoot.\\\\n\\\\uf0b7\\\\ne\\\\nExposing the machine to the elements (sun, rain, hail, etc.).\\\\n\\\\uf0b7\\\\nf\\\\nUsing jets of water\\\\n\\\\uf0b7\\\\nUsing the machine without fastening it securely.\\\\n\\\\uf0b7\\\\nCleaning and/or maintaining the machine without fastening it securely.\\\\n\\\\uf0b7\\\\nInstalling and using the machine on surfaces that are not sufficiently flat and smooth.\\\\n\\\\uf0b7\\\\nInstalling and using the machine on surfaces that are not hard and strong enough to\\\\n\\\\uf0b7\\\\nsupport its weight.\\\\nInstalling and using the machine outdoors.\\\\n\\\\uf0b7\\']] TEXT DATA: 6 FORBIDDEN USES AND HAZARDS TEXT DATA: The modes of use specified in this manual as incorrect,  should never be permitted , under any circumstances. TEXT DATA: Using the machine for turning non-ferrous materials, for unauthorised manoeuvres, its misuse and lack of maintenance can result in serious danger to the safety of the staff, especially the operator, as well as affecting the functionality and the intrinsic safety of the machine itself. TEXT DATA: The following actions described, which obviously can not cover the entire range of potential possibilities of \"misuse\" of the machine, are those which are \"reasonably\" more predictable and should be considered strictly prohibited. TEXT DATA: THE FOLLOWING IS STRICTLY PROHIBITED! TEXT DATA: \\uf0b7 Supplying the machine with voltage from the mains that is different from that shown on the identification plate (230V, 50 Hz). TEXT DATA: \\uf0b7 Using the machine for services other than those for which it is intended; TEXT DATA: \\uf0b7 Using the machine without having read the operating instructions and without due care. TEXT DATA: \\uf0b7 Using the machine, and in particular carrying out manual loading without the use of appropriate personal protective equipment (PPE) according to the instructions given in this manual. (idx = 35)\\n\\nTEXT DATA: 5 TEXT DATA: 19 TEXT DATA: 4 TEXT DATA: 20 TEXT DATA: 21 TEXT DATA: 3 TABLE DATA: [[\\'\\', \\'\\'], [\\'\\', \\'\\'], [\\'\\', \\'\\'], [\\'\\', \\'o\\\\nc\\'], [\\'\\', \\'\\'], [\\'\\', \\'\\']] TEXT DATA: 1 2 TEXT DATA: 22 23 TEXT DATA: Figure 2 – Main parts of the gear head lathe (Art. T999/230V and T999/400V). (idx = 22)\\n\\nTEXT DATA: spindle. 14. Always use the tool in an appropriate manner. Perform only the work for which the tool TEXT DATA: is made. Do not use the tool for inadequate work. 15. Only use suitable resistance tools in relation to the work that is to be done. This is to TEXT DATA: avoid risky and unnecessary overloading for the operator, which may be harmful for the life of the tools themselves. 16. Do not pick up moving tools or other moving parts. To stop the moving parts on the TEXT DATA: machine, always only use the stop command device. 17. Before performing any measurement of the workpiece mounted on the spindle, turn the TEXT DATA: motor off, unplug it and wait for the spindle to stop. 18. Do not remove the shavings with your hands, even at a standstill. To do this, use tongs TEXT DATA: or a palette knife. 19. When the work tools need to be replaced or the speed needs to be changed, stop the TEXT DATA: motor and wait for the spindle to stop. 20. Do not move away from the machine until the tools and other moving parts, have TEXT DATA: completely stopped. 21. After the work is completed, clean the tool and check its efficiency. 22. Replace worn and/or damaged parts, check that the repairs and protections work TEXT DATA: properly before operating. Eventually, if necessary, have it checked by Service staff. Use only original spare parts. 23.  Unplug the power cord of the machine from the power outlet when: TEXT DATA: \\uf0b7 the machine is not being operated; \\uf0b7 it is left unattended; \\uf0b7 performing maintenance or registration, because the machine does not work properly; \\uf0b7 the power cable is damaged; \\uf0b7 the tool is replaced; \\uf0b7 it is being moved or transported; \\uf0b7 during cleaning operations. 24. It is recommended that users of this publication, for maintenance and repair, have a (idx = 11)\\n\\nTEXT DATA: PROTECTIVE TEXT DATA: PROTECTIVE TEXT DATA: GLOVES TEXT DATA: EYES TEXT DATA: SCREEN TEXT DATA: CLOTHING TEXT DATA: SHOES TEXT DATA: Figure 14 – Personal Protective Equipment. TEXT DATA: Page 21 of 84 TEXT DATA: MACHINES AND ACCESSORIES (idx = 34)\\n\\nTEXT DATA: carriage. TEXT DATA: 4.2.6 Tailstock TEXT DATA: The tailstock (see figure 7) is constituted by a cast iron body that ensures rigidity and stability in any conditions of use. The tailstock body is equipped with a locking system on the lathe guides, with a lever. An adjustment screw, allows axial alignment of the tailstock to be achieved. Inside a steel sleeve has been fitted. Movement is applied via a handle equipped with a micrometer. TEXT DATA: Figure 7 – Tailstock. TEXT DATA: Page 15 of 84 TEXT DATA: MACHINES AND ACCESSORIES TEXT DATA: 4.2.7 Steady rest TEXT DATA: In the operations of drilling, boring and facing, the tailstock can not be used to secure the work piece. On the other hand, if the pieces are long and heavy, it is not enough to use only a self-centring spindle, but you must attach one end of the work piece using a tool called a  steady rest  (see figure 8) They are supplied with two rests: steady rest and follow rest TEXT DATA: Figure 8 – Rests. TEXT DATA: 4.2.8 Electric control panel (idx = 26)\\n\\nTEXT DATA: ACCESSORIES TEXT DATA: INDEX TEXT DATA: 1 GENERAL INFORMATION.5 TEXT DATA: 2 GENERAL SAFETY WARNINGS .7 TEXT DATA: 2.1 General safety rules for machine equipment.7 TEXT DATA: 2.2 Safety rules for electrical machine equipment .9 TEXT DATA: 2.3 Technical Assistance .9 TEXT DATA: 2.4 Other provisions .9 TEXT DATA: 3 TECHNICAL SPECIFICATIONS .10 TEXT DATA: 4 DESCRIPTION OF THE MACHINE .11 (idx = 2)\\n\\n'"
      ]
     },
     "execution_count": 87,
     "metadata": {},
     "output_type": "execute_result"
    }
   ],
   "source": [
    "final_context = ''\n",
    "for idx in best:\n",
    "    # remove unnecessary dots\n",
    "    final_string = re.sub(r'\\.{2,}', '.', chunks[idx])\n",
    "    final_context += f\"{final_string.strip()} (idx = {idx})\\n\\n\"\n",
    "\n",
    "final_context"
   ]
  },
  {
   "cell_type": "markdown",
   "id": "e016328b",
   "metadata": {},
   "source": [
    "### 10. Setting up LLM A that returns indexes of top-M chunks based on the query"
   ]
  },
  {
   "cell_type": "code",
   "execution_count": 88,
   "id": "6e89cfc6",
   "metadata": {},
   "outputs": [],
   "source": [
    "def prompt_rank_contexts(query, final_context, max_idx, top_m = 8):\n",
    "    # context_string = \"\"\n",
    "    # max_idx = len(final_context)\n",
    "    # for i, ctx in enumerate(final_context):\n",
    "    #     context_string += f\"Context {i+1}:\\n{ctx.strip()}\\n\\n\"\n",
    "\n",
    "    return f\"\"\"\n",
    "        You are a highly skilled AI assistant that ranks technical contexts from a machinery operations and maintenance manual.\n",
    "\n",
    "        Your task is to rank the top-{top_m} most relevant contexts for answering the user’s question, based solely on the provided content.\n",
    "\n",
    "        Each context ends with a tag in the format: **(idx = N)**, where N is an integer between 0 and {max_idx}. Do not guess or invent index values.\n",
    "\n",
    "        **Instructions**:\n",
    "        - Carefully read all the context snippets.\n",
    "        - Identify the most relevant contexts that directly support answering the question.\n",
    "        - Return exactly {top_m} `idx` values, in descending order of relevance (most relevant first).\n",
    "        - Only include integers in the range 0 to {max_idx}.\n",
    "        - Format your answer as a comma-separated list of integers with no extra text.\n",
    "\n",
    "        **Example**: 12, 4, 7, 1, 0, 9, 2, 22\n",
    "\n",
    "        User Question:\n",
    "        {query}\n",
    "\n",
    "        Candidate Contexts:\n",
    "        {final_context}\n",
    "    \"\"\"\n",
    "\n",
    "def llm_a(query, final_context): # mistral might not be the best but no option\n",
    "    prompt = prompt_rank_contexts(query, final_context, max_idx)\n",
    "\n",
    "    try:\n",
    "        response = ollama.generate(\n",
    "            model = 'mistral', \n",
    "            prompt = prompt,\n",
    "            stream = False\n",
    "        )\n",
    "        output = response['response'].strip()\n",
    "\n",
    "        # parse the returned string for integer idx values\n",
    "        ranked_indexes = [int(idx.strip()) for idx in output.split(\",\") if idx.strip().isdigit()]\n",
    "        return ranked_indexes[:8]\n",
    "\n",
    "    except Exception as e:\n",
    "        print(\"Error using Ollama (Python client):\", str(e))\n",
    "        return []"
   ]
  },
  {
   "cell_type": "code",
   "execution_count": 89,
   "id": "d63dd13b",
   "metadata": {},
   "outputs": [
    {
     "name": "stdout",
     "output_type": "stream",
     "text": [
      "IDs of top-M chunks are: [18, 35, 16, 4, 16, 26, 19, 11]\n"
     ]
    }
   ],
   "source": [
    "# get ids of top-M chunks\n",
    "top_ids = llm_a(query, final_context)\n",
    "print(f\"IDs of top-M chunks are: {top_ids}\")"
   ]
  },
  {
   "cell_type": "markdown",
   "id": "43e4c39e",
   "metadata": {},
   "source": [
    "### 11. Get final context"
   ]
  },
  {
   "cell_type": "code",
   "execution_count": 90,
   "id": "80c57b0a",
   "metadata": {},
   "outputs": [],
   "source": [
    "final_context = ''\n",
    "for idx in top_ids:\n",
    "    final_context += chunks[idx]"
   ]
  },
  {
   "cell_type": "code",
   "execution_count": 91,
   "id": "e5296c15",
   "metadata": {},
   "outputs": [
    {
     "data": {
      "text/plain": [
       "'TEXT DATA: MACHINES AND TEXT DATA: ACCESSORIES TEXT DATA: 4 DESCRIPTION OF THE MACHINE TEXT DATA: The  Gear head lathe (Art. T999/230V e T999/400V)  is a machine tool, with a horizontal axis, for the machining of metallic materials by means of cold chip removal. The cutting motion is given by the motion of the workpiece, rotating on its own axis, and the feed motion of the tool. The machine is completely  manually operated , as it can only execute movements under the direct control of the operator. TEXT DATA: 4.1 Intended use and field of application TEXT DATA: The machine is designed and built to perform the following operations on all types of ferrous metals: TEXT DATA: \\uf0b7 Cylindrical turning; TEXT DATA: \\uf0b7 Taper turning; TEXT DATA: \\uf0b7 Facing; TEXT DATA: \\uf0b7 ProfilingTABLE DATA: [[\\'THE FOLLOWING IS STRICTLY PROHIBITED!\\\\nm\\'], [\\'Supplying the machine with voltage from the mains that is different from that shown on\\\\n\\\\uf0b7\\\\nthe identification plate (230V, 50 Hz).\\\\nUsing the machine for services other than those for which it is intended;\\\\n\\\\uf0b7\\\\nUsing the machine without having read the operating instructions and without due care.\\\\n\\\\uf0b7\\\\nUsing the machine, and in particular\\\\nloading without\\\\nthe use of\\\\n\\\\uf0b7\\\\nappropriate personal protective equipment (PPE) according to the instructions given in\\\\nthis manual.\\\\no\\\\nUsing the machine and, particularly, the tool\\\\n\\\\uf0b7\\\\nPicking up moving tools or other moving parts.\\\\n\\\\uf0b7\\\\nc\\\\nTaking measurements of\\\\nthe workpiece mounted on the spindle, without\\\\nturning the\\\\n\\\\uf0b7\\\\nmotor off, unplugging it and waiting for the spindle to stop.\\\\n.\\\\nRemoving chips with your hands.\\\\n\\\\uf0b7\\\\ni\\\\nReplacing the work tools or carrying out the speed change, without stopping the motor,\\\\n\\\\uf0b7\\\\ndisconnecting the plug and waiting for the machine to stop.\\\\nModifying and/or tampering with the safety devices of the lathe.\\\\nv\\\\n\\\\uf0b7\\\\nUsing the machine as a support and/or work surface.\\\\n\\\\uf0b7\\\\nr\\\\nClimbing on the machine.\\\\n\\\\uf0b7\\\\nTouching the machine with wet and/or damp hands.\\\\n\\\\uf0b7\\\\nUsing the machine when barefoot.\\\\n\\\\uf0b7\\\\ne\\\\nExposing the machine to the elements (sun, rain, hail, etc.).\\\\n\\\\uf0b7\\\\nf\\\\nUsing jets of water\\\\n\\\\uf0b7\\\\nUsing the machine without fastening it securely.\\\\n\\\\uf0b7\\\\nCleaning and/or maintaining the machine without fastening it securely.\\\\n\\\\uf0b7\\\\nInstalling and using the machine on surfaces that are not sufficiently flat and smooth.\\\\n\\\\uf0b7\\\\nInstalling and using the machine on surfaces that are not hard and strong enough to\\\\n\\\\uf0b7\\\\nsupport its weight.\\\\nInstalling and using the machine outdoors.\\\\n\\\\uf0b7\\']] TEXT DATA: 6 FORBIDDEN USES AND HAZARDS TEXT DATA: The modes of use specified in this manual as incorrect,  should never be permitted , under any circumstances. TEXT DATA: Using the machine for turning non-ferrous materials, for unauthorised manoeuvres, its misuse and lack of maintenance can result in serious danger to the safety of the staff, especially the operator, as well as affecting the functionality and the intrinsic safety of the machine itself. TEXT DATA: The following actions described, which obviously can not cover the entire range of potential possibilities of \"misuse\" of the machine, are those which are \"reasonably\" more predictable and should be considered strictly prohibited. TEXT DATA: THE FOLLOWING IS STRICTLY PROHIBITED! TEXT DATA: \\uf0b7 Supplying the machine with voltage from the mains that is different from that shown on the identification plate (230V, 50 Hz). TEXT DATA: \\uf0b7 Using the machine for services other than those for which it is intended; TEXT DATA: \\uf0b7 Using the machine without having read the operating instructions and without due care. TEXT DATA: \\uf0b7 Using the machine, and in particular carrying out manual loading without the use of appropriate personal protective equipment (PPE) according to the instructions given in this manual.TEXT DATA: No. of inch threads 20 TEXT DATA: Range of inch threads (mm) 2 ¼ - 40 TEXT DATA: Range of longitudinal feeds (mm) 00.78- 1.044 TEXT DATA: Range of transverse feeds (mm) 0.022- 0.298 TEXT DATA: Outer diameter of the feed screw (mm) 22 TEXT DATA: Guide length (mm) 1390 TEXT DATA: Cross carriage travel (mm) 200 TEXT DATA: Tailstock sleeve diameter (mm) 32 TEXT DATA: Maximum travel of the tailstock sleeve (mm) 80 TEXT DATA: Inner taper CM 5TEXT DATA: 7.1 Lifting .24 TEXT DATA: 7.2 Transportation .24 TEXT DATA: 7.3 Warehouse storage .24 TEXT DATA: 8 ASSEMBLY AND COMMISSIONING .25 TEXT DATA: 8.1 Identification of the installation site .25 TEXT DATA: 8.2 Support base.25 TEXT DATA: 8.3 Levelling the machine .26 8.3.1 Preliminary phase . 26 8.3.2 Transverse levelling of the table . 26 TEXT DATA: Page 3 of 84 TEXT DATA: MACHINES AND ACCESSORIES TEXT DATA: 8.3.3 Levelling the lathe rails. 26TEXT DATA: No. of inch threads 20 TEXT DATA: Range of inch threads (mm) 2 ¼ - 40 TEXT DATA: Range of longitudinal feeds (mm) 00.78- 1.044 TEXT DATA: Range of transverse feeds (mm) 0.022- 0.298 TEXT DATA: Outer diameter of the feed screw (mm) 22 TEXT DATA: Guide length (mm) 1390 TEXT DATA: Cross carriage travel (mm) 200 TEXT DATA: Tailstock sleeve diameter (mm) 32 TEXT DATA: Maximum travel of the tailstock sleeve (mm) 80 TEXT DATA: Inner taper CM 5TEXT DATA: carriage. TEXT DATA: 4.2.6 Tailstock TEXT DATA: The tailstock (see figure 7) is constituted by a cast iron body that ensures rigidity and stability in any conditions of use. The tailstock body is equipped with a locking system on the lathe guides, with a lever. An adjustment screw, allows axial alignment of the tailstock to be achieved. Inside a steel sleeve has been fitted. Movement is applied via a handle equipped with a micrometer. TEXT DATA: Figure 7 – Tailstock. TEXT DATA: Page 15 of 84 TEXT DATA: MACHINES AND ACCESSORIES TEXT DATA: 4.2.7 Steady rest TEXT DATA: In the operations of drilling, boring and facing, the tailstock can not be used to secure the work piece. On the other hand, if the pieces are long and heavy, it is not enough to use only a self-centring spindle, but you must attach one end of the work piece using a tool called a  steady rest  (see figure 8) They are supplied with two rests: steady rest and follow rest TEXT DATA: Figure 8 – Rests. TEXT DATA: 4.2.8 Electric control panelTEXT DATA: \\uf0b7 Drilling; TEXT DATA: \\uf0b7 Boring; TEXT DATA: \\uf0b7 Threading; TEXT DATA: \\uf0b7 Cutting / Breaking (from bar). TEXT DATA: Intended use and materials TEXT DATA: The machine has been designed and manufactured for the use specified. Operating the machine other than as intended and non-observance of the technical parameters laid down by the Manufacturer may be dangerous for operators; therefore the former cannot accept any responsibil i ty  f o r  resulting damage. TEXT DATA: Page 11 of 84 TEXT DATA: MACHINES AND ACCESSORIES TEXT DATA: The lathe is equipped with a support base and must be installed and used on flat surfaces, with ergonomic features and adequate resistance. The Lathe can operate in closed work environments (production halls, warehouses, etc.), i.e. protected from the weather and where there is no danger of fire or explosion. TEXT DATA: The operating temperature range is -20 to +50°C.TEXT DATA: spindle. 14. Always use the tool in an appropriate manner. Perform only the work for which the tool TEXT DATA: is made. Do not use the tool for inadequate work. 15. Only use suitable resistance tools in relation to the work that is to be done. This is to TEXT DATA: avoid risky and unnecessary overloading for the operator, which may be harmful for the life of the tools themselves. 16. Do not pick up moving tools or other moving parts. To stop the moving parts on the TEXT DATA: machine, always only use the stop command device. 17. Before performing any measurement of the workpiece mounted on the spindle, turn the TEXT DATA: motor off, unplug it and wait for the spindle to stop. 18. Do not remove the shavings with your hands, even at a standstill. To do this, use tongs TEXT DATA: or a palette knife. 19. When the work tools need to be replaced or the speed needs to be changed, stop the TEXT DATA: motor and wait for the spindle to stop. 20. Do not move away from the machine until the tools and other moving parts, have TEXT DATA: completely stopped. 21. After the work is completed, clean the tool and check its efficiency. 22. Replace worn and/or damaged parts, check that the repairs and protections work TEXT DATA: properly before operating. Eventually, if necessary, have it checked by Service staff. Use only original spare parts. 23.  Unplug the power cord of the machine from the power outlet when: TEXT DATA: \\uf0b7 the machine is not being operated; \\uf0b7 it is left unattended; \\uf0b7 performing maintenance or registration, because the machine does not work properly; \\uf0b7 the power cable is damaged; \\uf0b7 the tool is replaced; \\uf0b7 it is being moved or transported; \\uf0b7 during cleaning operations. 24. It is recommended that users of this publication, for maintenance and repair, have a'"
      ]
     },
     "execution_count": 91,
     "metadata": {},
     "output_type": "execute_result"
    }
   ],
   "source": [
    "# remove unnecessary dots\n",
    "final_context_string = re.sub(r'\\.{2,}', '.', final_context)\n",
    "final_context_string"
   ]
  },
  {
   "cell_type": "markdown",
   "id": "9f856f1f",
   "metadata": {},
   "source": [
    "### 12. Setting up LLM B for response generation"
   ]
  },
  {
   "cell_type": "code",
   "execution_count": 92,
   "id": "e1b44c83",
   "metadata": {},
   "outputs": [],
   "source": [
    "def llm_b(prompt):\n",
    "    client = Groq(\n",
    "        api_key = os.getenv(\"GROQ_API_KEY\"),\n",
    "    )\n",
    "\n",
    "    chat_completion = client.chat.completions.create(\n",
    "        model = \"llama-3.3-70b-versatile\",\n",
    "        # model = \"llama3-70b-8192\",\n",
    "        # model = \"mistral-saba-24b\",\n",
    "        messages = [\n",
    "            {\n",
    "                \"role\": \"system\",\n",
    "                \"content\": \"You are an expert technical assistant specialized in interpreting operations and maintenance manuals for machinery.\"\n",
    "            },\n",
    "            {\n",
    "                \"role\": \"user\",\n",
    "                \"content\": prompt\n",
    "            }\n",
    "        ],\n",
    "        temperature = 0.5,\n",
    "        max_tokens = 5640,\n",
    "        top_p = 1,\n",
    "        stream = True,\n",
    "    )\n",
    "\n",
    "    for chunk in chat_completion:\n",
    "        content = chunk.choices[0].delta.content\n",
    "        if content:\n",
    "            print(content, end = '', flush = True)  # print to console without newline, flush immediately\n",
    "            time.sleep(0.01)  # optional tiny delay for typewriter effect\n",
    "    \n",
    "\n",
    "def prompt(query, context):\n",
    "    return f\"\"\"\n",
    "        You are an expert technical assistant specialized in interpreting operations and maintenance manuals for machinery.\n",
    "\n",
    "        Given the user question and the relevant extracted context from the manual:\n",
    "\n",
    "        - Provide a clear, precise, and factual answer to the question.\n",
    "        - Base your response strictly on the provided context; do not guess beyond it.\n",
    "        - If the context does not contain enough information, indicate that the answer is not available in the manual or that the context is not sufficient.\n",
    "        - Keep the answer professional, concise, and focused on practical instructions.\n",
    "        - Each section of the context begins with a tag: either 'TEXT DATA' or 'TABLE DATA'.\n",
    "        - 'TEXT DATA' represents plain, unstructured text. 'TABLE DATA' represents information extracted from a table and flattened into a list format.\n",
    "        - The 'TABLE DATA' is structured as a list of rows, where each row is a list containing the column values in order. The format is as follows: [[column 1 value, column 2 value, ...], [column 1 value, column 2 value, ...], ...]\n",
    "        - If available, provide references for the information.\n",
    "        \n",
    "        User Question:\n",
    "        {query}\n",
    "\n",
    "        Context from Manual:\n",
    "        {context}\n",
    "    \"\"\""
   ]
  },
  {
   "cell_type": "markdown",
   "id": "27d4b728",
   "metadata": {},
   "source": [
    "### 13. Inference"
   ]
  },
  {
   "cell_type": "code",
   "execution_count": 93,
   "id": "e20f5b02",
   "metadata": {},
   "outputs": [
    {
     "name": "stdout",
     "output_type": "stream",
     "text": [
      "QUERY: Tell me about using the machine for turning non-ferrous materials.\n",
      "\n",
      "RESPONSE:\n",
      "The machine is designed and built to perform operations on all types of ferrous metals, including cylindrical turning, taper turning, facing, and profiling (TEXT DATA: 4.1 Intended use and field of application). \n",
      "\n",
      "Using the machine for turning non-ferrous materials is strictly prohibited, as it can result in serious danger to the safety of the staff and affect the functionality and intrinsic safety of the machine itself (TEXT DATA: 6 FORBIDDEN USES AND HAZARDS, TEXT DATA: Using the machine for turning non-ferrous materials, for unauthorised manoeuvres, its misuse and lack of maintenance can result in serious danger to the safety of the staff, especially the operator, as well as affecting the functionality and the intrinsic safety of the machine itself.). \n",
      "\n",
      "Therefore, it is not recommended to use the machine for turning non-ferrous materials. If you need to perform such operations, consider using a different machine specifically designed for that purpose. Always follow the operating instructions and safety guidelines provided in the manual to ensure safe and proper use of the machine."
     ]
    }
   ],
   "source": [
    "prompt = prompt(query, final_context_string) # go to section number 5 to change query\n",
    "print(f\"QUERY: {query}\\n\")\n",
    "print('RESPONSE:')\n",
    "llm_b(prompt)"
   ]
  },
  {
   "cell_type": "markdown",
   "id": "0708cb10",
   "metadata": {},
   "source": [
    "### 12. Assessing the final context"
   ]
  },
  {
   "cell_type": "code",
   "execution_count": null,
   "id": "c70d439f",
   "metadata": {},
   "outputs": [],
   "source": [
    "print(final_context_string)"
   ]
  },
  {
   "cell_type": "markdown",
   "id": "823a09d5",
   "metadata": {},
   "source": [
    "---"
   ]
  },
  {
   "cell_type": "markdown",
   "id": "9fb4bf8b",
   "metadata": {},
   "source": [
    "## **Overall Conclusion** "
   ]
  },
  {
   "cell_type": "markdown",
   "id": "d89548c0",
   "metadata": {},
   "source": [
    "**Fusion Retrieval-based RAG** seems to perform better compared to the other two, specifically the one where more wight is given to the keyword matching aspect. I assume this is because the queries require usage of certain domain specific keywords which when used means keyword matching works best. Moreover, the reason the semantic model was not able to perform better, contrary to my initial assumption, could be due to the model behind it (BERT) being trained over general data.<br><br>\n",
    "**Reranking-based RAG** seems to perform worse but I highly assume this is due to 2 main reasons:\n",
    "1. The mistral model that was used is a very weak model (8B) and it may not effectively be able to rank the context chunks based on the query. The reason local mistral 7B was used was due technical/financial reasons.\n",
    "2. The incapability of LLMs in general to handle large context: When passing in K number of chunks into an LLM, along with the query and asking it to rank them is too much since all that context will take up a lot of space, and this space matters for the LLM. Even though some strong LLMs may handle more context, it is not efficient still. So, the only solution is to reduce the K chunks but then we lose a lot of contexts that may have been needed for getting the answer to the query.\n",
    "3. Based on both of these points, the solution can be to use a state-of-the-art LLM that can handle a good size of context.<br><br>\n",
    "\n",
    "**Hybrid RAG** performed worse compared to both. Even though a higher weight was given to the keyword scoring aspect of fusion retrieval, it did not perform well. I highly assume this is due to the LLM context issue.<br>\n",
    "\n",
    "_Possible solutions:_\n",
    "1. Incorporate images\n",
    "2. **Query expansion**\n",
    "3. Use stronger LLM\n",
    "4. Fine tune LLM on domain specific data<br><br>\n",
    "\n",
    "## _What did I learn?_\n",
    "\n",
    "Mainly, learning about the variations of RAG, while also implementing them was something new to me. Now based on the task, I learned the following:\n",
    "1.\tKeyword Matching can be more important that semantics in domain-specific tasks.\n",
    "2.\tSemantic embedding models can struggle with domain specific documents.\n",
    "3.\tModel strength matters when employing LLM based reranking due to large context size.\n",
    "4.\tHybrid model may not always be best (however, this requires testing by adopting the improvements).\n",
    "\n"
   ]
  }
 ],
 "metadata": {
  "kernelspec": {
   "display_name": "py310",
   "language": "python",
   "name": "python3"
  },
  "language_info": {
   "codemirror_mode": {
    "name": "ipython",
    "version": 3
   },
   "file_extension": ".py",
   "mimetype": "text/x-python",
   "name": "python",
   "nbconvert_exporter": "python",
   "pygments_lexer": "ipython3",
   "version": "3.10.15"
  }
 },
 "nbformat": 4,
 "nbformat_minor": 5
}
