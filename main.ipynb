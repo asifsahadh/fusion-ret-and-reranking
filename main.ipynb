{
 "cells": [
  {
   "cell_type": "markdown",
   "id": "3724519c",
   "metadata": {},
   "source": [
    "### **Testing of Fusion Retrieval and Reranking Methods** | Amygda Task No. 2"
   ]
  },
  {
   "cell_type": "markdown",
   "id": "f62da418",
   "metadata": {},
   "source": [
    "---"
   ]
  },
  {
   "cell_type": "code",
   "execution_count": null,
   "id": "97f24ffc",
   "metadata": {},
   "outputs": [],
   "source": []
  }
 ],
 "metadata": {
  "kernelspec": {
   "display_name": "Python (py310)",
   "language": "python",
   "name": "py310"
  },
  "language_info": {
   "name": "python",
   "version": "3.10.15"
  }
 },
 "nbformat": 4,
 "nbformat_minor": 5
}
