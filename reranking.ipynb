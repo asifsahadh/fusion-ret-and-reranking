{
 "cells": [
  {
   "cell_type": "markdown",
   "id": "e882c857",
   "metadata": {},
   "source": [
    "## **Reranking based RAG** "
   ]
  },
  {
   "cell_type": "markdown",
   "id": "08efe877",
   "metadata": {},
   "source": [
    ">**_Your expectations for Reranking with the provided manual._**<br><br>\n",
    "To be quite honest, I do not expect the responses to be far superior than the vanilla approach due to the main reason being that these LLMs still require context and in-depth domain knowledge to truly understand how to rank the final set of chunks or documents appropriately. However, depending on how good the LLM is (in terms of size and data that it was trained on), the results will vary."
   ]
  },
  {
   "cell_type": "markdown",
   "id": "5c8584f5",
   "metadata": {},
   "source": [
    ">**_How you planned to test and compare these techniques._**<br><br>\n",
    "><img src=\"./rr_workflow.jpeg\" alt=\"Flowchart\" width=\"700\" /><br><br>\n",
    "The approach is pretty straight forward here. The main area where the changes happen is at the last stage where we need prompt an LLM once more to retrieve the top-k indices from the final retrieved set of chunks.<br><br>\n",
    "Initially, the document data is extracted, specifically text and tabular data. Next, these data are stored in a way where the sequence is maintained, that way there will be more context for a certain text that may have a table before or after it. This set is chunked and converted BERT based vector embeddings. BERT was chosen because from what I know, they can represent these chunks in a very context aware fashion, thanks to the encoder representation from transformers. Now the query is also converted to BERT based embeddings and using cosine similarity, top-k chunks are retrieved.<br><br>\n",
    "Now these chunks, along with the query and chunk ID is passed into an LLM for further ranking. The LLM returns a list of most relevant chunks (5 was chosen). These indices are retrieved from the original set of chunks and this set of text, which acts as context, along with the query, is passed into a new LLM for information retrieval."
   ]
  },
  {
   "cell_type": "markdown",
   "id": "b32b26d5",
   "metadata": {},
   "source": [
    ">_**Comparison Strategy**_<br><br>\n",
    ">Now there are 2 main ways in which we can compare this model with the Fusion Retrieval model, by assessing the top retrieved chunks and also by assessing the final response from the LLM. This will be done at the end."
   ]
  },
  {
   "cell_type": "markdown",
   "id": "7a1d8769",
   "metadata": {},
   "source": [
    "---"
   ]
  },
  {
   "cell_type": "markdown",
   "id": "d0b23167",
   "metadata": {},
   "source": [
    "#### Import libraries"
   ]
  },
  {
   "cell_type": "code",
   "execution_count": 115,
   "id": "e1bdf0cd",
   "metadata": {},
   "outputs": [],
   "source": [
    "import fitz # for text extraction\n",
    "import camelot # for table extraction\n",
    "from pathlib import Path\n",
    "from sentence_transformers import SentenceTransformer, util # for semantic vector embedding creation \n",
    "import numpy as np\n",
    "from groq import Groq\n",
    "import os\n",
    "import time\n",
    "import torch\n",
    "import re\n",
    "import ollama"
   ]
  },
  {
   "cell_type": "markdown",
   "id": "cdcafcb5",
   "metadata": {},
   "source": [
    "#### Function to extract texts & tables from PDF"
   ]
  },
  {
   "cell_type": "code",
   "execution_count": null,
   "id": "ed97e026",
   "metadata": {},
   "outputs": [],
   "source": [
    "def extract_text_and_tables(pdf_path):\n",
    "\n",
    "    pdf_file = Path(pdf_path)\n",
    "    if not pdf_file.is_file() or pdf_file.suffix.lower() != \".pdf\":\n",
    "        raise FileNotFoundError(\"Provided file path is not a valid PDF.\")\n",
    "\n",
    "    doc = fitz.open(str(pdf_file))\n",
    "    result = []\n",
    "\n",
    "    for page_num, page in enumerate(doc, start=1):\n",
    "        page_blocks = []\n",
    "\n",
    "        blocks = page.get_text(\"dict\")[\"blocks\"]\n",
    "        for block in blocks:\n",
    "            if block[\"type\"] == 0:\n",
    "                text_content = \" \".join(\n",
    "                    span[\"text\"] for line in block[\"lines\"] for span in line[\"spans\"]\n",
    "                ).strip()\n",
    "                if text_content:\n",
    "                    y = block[\"bbox\"][1]\n",
    "                    page_blocks.append({\n",
    "                        \"type\": \"text data\",\n",
    "                        \"y\": y,\n",
    "                        \"content\": text_content\n",
    "                    })\n",
    "\n",
    "        try:\n",
    "            tables = camelot.read_pdf(str(pdf_file), pages=str(page_num), flavor='lattice')\n",
    "        except Exception as e:\n",
    "            print(f\"Failed to read tables on page {page_num}: {e}\")\n",
    "            tables = []\n",
    "\n",
    "        for table in tables:\n",
    "            table_data = table.data\n",
    "            bbox = table._bbox\n",
    "            y = float(bbox[1])\n",
    "            page_blocks.append({\n",
    "                \"type\": \"table data\",\n",
    "                \"y\": y,\n",
    "                \"content\": table_data\n",
    "            })\n",
    "\n",
    "        page_blocks.sort(key=lambda b: b[\"y\"])\n",
    "        result.extend(page_blocks)\n",
    "\n",
    "    return result\n",
    "\n",
    "result = extract_text_and_tables(\"manual.pdf\")"
   ]
  },
  {
   "cell_type": "code",
   "execution_count": 3,
   "id": "339473b2",
   "metadata": {},
   "outputs": [
    {
     "data": {
      "text/plain": [
       "[{'type': 'text',\n",
       "  'y': 145.75482177734375,\n",
       "  'content': 'Follow the instructions contained herein, in addition to the general precautions to be observed while working. Even if the operator is already familiar with the use of manually operated lathes, it is necessary to: In particular:'},\n",
       " {'type': 'text', 'y': 173.48190307617188, 'content': 'fervi.com'},\n",
       " {'type': 'text',\n",
       "  'y': 188.8348388671875,\n",
       "  'content': '\\uf0b7 Acquire full knowledge of the machine. For safe operation, this manual must be read carefully in order to acquire the necessary knowledge of the machine and to understand: operation, safety devices and all necessary precautions. \\uf0b7 Wear appropriate clothing for the job. The operator must wear appropriate clothing to prevent accidents. \\uf0b7 Maintain the machine with care.'},\n",
       " {'type': 'text',\n",
       "  'y': 312.05987548828125,\n",
       "  'content': 'Risks associated with using the machine'},\n",
       " {'type': 'text',\n",
       "  'y': 342.43487548828125,\n",
       "  'content': 'The machine must only be used by personnel who have been specially trained by authorized personnel.'}]"
      ]
     },
     "execution_count": 3,
     "metadata": {},
     "output_type": "execute_result"
    }
   ],
   "source": [
    "# few elements from the extracted data\n",
    "result[100:105]"
   ]
  },
  {
   "cell_type": "code",
   "execution_count": 4,
   "id": "152acd00",
   "metadata": {},
   "outputs": [
    {
     "data": {
      "text/plain": [
       "{'type': 'table',\n",
       " 'y': 91.1826731262468,\n",
       " 'content': [['Description (unit of measurement)', 'T999/230V\\nT999/400V'],\n",
       "  ['Centres distance (mm)', '1000'],\n",
       "  ['Spindle hole diameter (mm)', '38'],\n",
       "  ['Maximum swing over the bed (mm)', '320'],\n",
       "  ['Maximum swing over the cross slide (mm)', '198'],\n",
       "  ['Turning diameter over cavity (mm)', ''],\n",
       "  ['Spindle diameter (3 + 3 self centring) (mm)', ''],\n",
       "  ['Spindle connector', ''],\n",
       "  ['No. of spindle speeds', 'm'],\n",
       "  ['Spindle speed (r/min)', ''],\n",
       "  ['No. of metric threads', ''],\n",
       "  ['Range of metric threads (mm)', 'o'],\n",
       "  ['No. of inch threads', ''],\n",
       "  ['Range of inch threads (mm)', ''],\n",
       "  ['Range of longitudinal\\nfeeds (mm)', '00.78- 1.044\\nc'],\n",
       "  ['Range of transverse feeds (mm)', '0.022- 0.298'],\n",
       "  ['Outer diameter of the feed screw (mm)\\n.', '22'],\n",
       "  ['Guide length (mm)\\ni', '1390'],\n",
       "  ['Cross carriage travel (mm)\\nv', '200'],\n",
       "  ['Tailstock sleeve diameter (mm)', '32'],\n",
       "  ['Maximum travel of the tailstock sleeve (mm)\\nr', '80'],\n",
       "  ['Inner taper', 'CM 5'],\n",
       "  ['Tailstock base length (mm)\\ne', '165'],\n",
       "  ['Tailstock base width (mm)', '125'],\n",
       "  ['Steady rest diameter (mm)\\nf', '120'],\n",
       "  ['Dimensions (W x D x H) (mm)', '1820 x 530 x 1350'],\n",
       "  ['Package dimensions (W x D x H) (mm)', '1920 x 840 x 1560'],\n",
       "  ['Weight of machine (kg)', '520'],\n",
       "  ['Voltage / power supply frequency (V / Hz)', '230/50.\\n400 / 50'],\n",
       "  ['Motor power (W)', '1500/1800'],\n",
       "  [\"Acoustic pressure level at operator's workstation\\n(dB(A))\", '84']]}"
      ]
     },
     "execution_count": 4,
     "metadata": {},
     "output_type": "execute_result"
    }
   ],
   "source": [
    "# sample table data\n",
    "result[156]"
   ]
  },
  {
   "cell_type": "code",
   "execution_count": null,
   "id": "a7d1a0c2",
   "metadata": {},
   "outputs": [],
   "source": [
    "# list formatting by adding labels for text and table\n",
    "final = []\n",
    "for r in result:\n",
    "    s = f\"{r['type']}: {r['content']}\"\n",
    "    final.append(s)"
   ]
  },
  {
   "cell_type": "code",
   "execution_count": 6,
   "id": "fb8019de",
   "metadata": {},
   "outputs": [
    {
     "data": {
      "text/plain": [
       "'table - [[\\'Description (unit of measurement)\\', \\'T999/230V\\\\nT999/400V\\'], [\\'Centres distance (mm)\\', \\'1000\\'], [\\'Spindle hole diameter (mm)\\', \\'38\\'], [\\'Maximum swing over the bed (mm)\\', \\'320\\'], [\\'Maximum swing over the cross slide (mm)\\', \\'198\\'], [\\'Turning diameter over cavity (mm)\\', \\'\\'], [\\'Spindle diameter (3 + 3 self centring) (mm)\\', \\'\\'], [\\'Spindle connector\\', \\'\\'], [\\'No. of spindle speeds\\', \\'m\\'], [\\'Spindle speed (r/min)\\', \\'\\'], [\\'No. of metric threads\\', \\'\\'], [\\'Range of metric threads (mm)\\', \\'o\\'], [\\'No. of inch threads\\', \\'\\'], [\\'Range of inch threads (mm)\\', \\'\\'], [\\'Range of longitudinal\\\\nfeeds (mm)\\', \\'00.78- 1.044\\\\nc\\'], [\\'Range of transverse feeds (mm)\\', \\'0.022- 0.298\\'], [\\'Outer diameter of the feed screw (mm)\\\\n.\\', \\'22\\'], [\\'Guide length (mm)\\\\ni\\', \\'1390\\'], [\\'Cross carriage travel (mm)\\\\nv\\', \\'200\\'], [\\'Tailstock sleeve diameter (mm)\\', \\'32\\'], [\\'Maximum travel of the tailstock sleeve (mm)\\\\nr\\', \\'80\\'], [\\'Inner taper\\', \\'CM 5\\'], [\\'Tailstock base length (mm)\\\\ne\\', \\'165\\'], [\\'Tailstock base width (mm)\\', \\'125\\'], [\\'Steady rest diameter (mm)\\\\nf\\', \\'120\\'], [\\'Dimensions (W x D x H) (mm)\\', \\'1820 x 530 x 1350\\'], [\\'Package dimensions (W x D x H) (mm)\\', \\'1920 x 840 x 1560\\'], [\\'Weight of machine (kg)\\', \\'520\\'], [\\'Voltage / power supply frequency (V / Hz)\\', \\'230/50.\\\\n400 / 50\\'], [\\'Motor power (W)\\', \\'1500/1800\\'], [\"Acoustic pressure level at operator\\'s workstation\\\\n(dB(A))\", \\'84\\']]'"
      ]
     },
     "execution_count": 6,
     "metadata": {},
     "output_type": "execute_result"
    }
   ],
   "source": [
    "# table data sample after flattening\n",
    "final[156]"
   ]
  },
  {
   "cell_type": "markdown",
   "id": "e498b6d4",
   "metadata": {},
   "source": [
    "It can be seen that the flattened version somewhat preserves the structure of the actual table by keeping each row inside a list. The LLM can hopefully understand this due to the presence of the label."
   ]
  },
  {
   "cell_type": "markdown",
   "id": "d380b728",
   "metadata": {},
   "source": [
    "### Chunking"
   ]
  },
  {
   "cell_type": "code",
   "execution_count": 7,
   "id": "56cfbd30",
   "metadata": {},
   "outputs": [
    {
     "name": "stdout",
     "output_type": "stream",
     "text": [
      "Number of chunks: 46\n"
     ]
    }
   ],
   "source": [
    "chunked_final = [\"\".join(final[i:i+10]) for i in range(0, len(final), 30)]\n",
    "print(f\"Number of chunks: {len(chunked_final)}\")"
   ]
  },
  {
   "cell_type": "markdown",
   "id": "a309f304",
   "metadata": {},
   "source": [
    "### Creating BERT based vector embeddings"
   ]
  },
  {
   "cell_type": "code",
   "execution_count": 8,
   "id": "af0ade41",
   "metadata": {},
   "outputs": [],
   "source": [
    "model = SentenceTransformer('sentence-transformers/all-mpnet-base-v2')\n",
    "sem_embs = model.encode(chunked_final, convert_to_tensor = True)"
   ]
  },
  {
   "cell_type": "markdown",
   "id": "c53cde09",
   "metadata": {},
   "source": [
    "### Pipeline to return indeces of top-k chunks that match with the query"
   ]
  },
  {
   "cell_type": "code",
   "execution_count": 85,
   "id": "12b50c1e",
   "metadata": {},
   "outputs": [],
   "source": [
    "def bert_query_pipeline(query, top_k = 5):\n",
    "     \n",
    "    device = sem_embs.device\n",
    "    query_embedding = model.encode(query, convert_to_tensor = True)\n",
    "    cosine_scores = util.cos_sim(query_embedding, sem_embs)[0]\n",
    "    top_indices = np.argsort(cosine_scores.cpu().numpy())[::-1][:top_k]\n",
    "\n",
    "    return top_indices"
   ]
  },
  {
   "cell_type": "code",
   "execution_count": 86,
   "id": "f45b41d7",
   "metadata": {},
   "outputs": [],
   "source": [
    "# get all chunks from chunks retrived from both implementations\n",
    "query = 'What are some general safety rules when using machine equipment?'\n",
    "bert_top_10_idx = bert_query_pipeline(query)\n",
    "final_idx = list(set(list(bert_top_10_idx)))\n",
    "\n",
    "top_context_chunks = [chunked_final[idx] for idx in final_idx] \n",
    "\n",
    "# get top embeddings directly from precomputed tensor\n",
    "sem_embs_final = torch.stack([sem_embs[idx] for idx in final_idx])\n"
   ]
  },
  {
   "cell_type": "markdown",
   "id": "acb4a2e2",
   "metadata": {},
   "source": [
    "### To get the final set of chunks"
   ]
  },
  {
   "cell_type": "code",
   "execution_count": 87,
   "id": "3495ef86",
   "metadata": {},
   "outputs": [],
   "source": [
    "def bert_final_idx(query):\n",
    "     \n",
    "    device = sem_embs.device\n",
    "    query_embedding = model.encode(query, convert_to_tensor = True)\n",
    "    cosine_scores = util.cos_sim(query_embedding, sem_embs_final)[0]\n",
    "    indices = np.argsort(cosine_scores.cpu().numpy())[::-1]\n",
    "\n",
    "    return indices"
   ]
  },
  {
   "cell_type": "code",
   "execution_count": 88,
   "id": "389429e9",
   "metadata": {},
   "outputs": [],
   "source": [
    "best = bert_final_idx(query)"
   ]
  },
  {
   "cell_type": "markdown",
   "id": "aeeb07f3",
   "metadata": {},
   "source": [
    "### Get final context list"
   ]
  },
  {
   "cell_type": "code",
   "execution_count": 92,
   "id": "78bddbbd",
   "metadata": {},
   "outputs": [],
   "source": [
    "context_string = \"\"\n",
    "for idx in best:\n",
    "    context_string += f\"{chunked_final[idx].strip()} (idx = {idx})\\n\\n\""
   ]
  },
  {
   "cell_type": "code",
   "execution_count": 100,
   "id": "ae640592",
   "metadata": {},
   "outputs": [
    {
     "data": {
      "text/plain": [
       "\"text - OPERATION AND MAINTENANCE MANUALtext - fervi.comtext - Bench Lathe Art. T999/230V – T999/230V3Atext - Art. T999/400V - T999/400V3Atext - TRANSLATION OF THE ORIGINAL INSTRUCTIONStext - MACHINES AND ACCESSORIEStext - PREFACEtext - Please ensure you have read this manual before operationtext - fervi.comtext - TRANSLATION OF THE ORIGINAL INSTRUCTIONS It is compulsory to read this instruction manual before starting operation. The guarantee of smooth operation and full performance of the machine is highly dependent on the application of all the instructions contained in this manual. (idx = 0)\\n\\ntext - 2.4 Other provisions .9text - 3 TECHNICAL SPECIFICATIONS .10text - 4 DESCRIPTION OF THE MACHINE .11text - 4.1 Intended use and field of application.11text - 4.2 Description of the main parts.13 4.2.1 Supporting table . 14 4.2.2 Head and spindle . 14 4.2.3 Spindle speed adjustment levers. 14 4.2.4 Feed speed adjustment panel . 15 4.2.5 Tool holder carriage . 15 4.2.6 Tailstock . 15 4.2.7 Steady rest . 16 4.2.8 Electric control panel . 16 4.2.9 Pedal brake. 16 4.2.10 Rotation reverse lever . 17text - 4.3 Identification plate .17text - 4.4 Pictograms and plates.18text - 5 MACHINE SAFETY DEVICES.19text - 5.1 Electrical safety devices.19text - 5.2 Mechanical Safety Devices .20 (idx = 1)\\n\\ntext - avoid risky and unnecessary overloading for the operator, which may be harmful for the life of the tools themselves. 16. Do not pick up moving tools or other moving parts. To stop the moving parts on thetext - machine, always only use the stop command device. 17. Before performing any measurement of the workpiece mounted on the spindle, turn thetext - motor off, unplug it and wait for the spindle to stop. 18. Do not remove the shavings with your hands, even at a standstill. To do this, use tongstext - or a palette knife. 19. When the work tools need to be replaced or the speed needs to be changed, stop thetext - motor and wait for the spindle to stop. 20. Do not move away from the machine until the tools and other moving parts, havetext - completely stopped. 21. After the work is completed, clean the tool and check its efficiency. 22. Replace worn and/or damaged parts, check that the repairs and protections worktext - properly before operating. Eventually, if necessary, have it checked by Service staff. Use only original spare parts. 23.  Unplug the power cord of the machine from the power outlet when:text - \\uf0b7 the machine is not being operated; \\uf0b7 it is left unattended; \\uf0b7 performing maintenance or registration, because the machine does not work properly; \\uf0b7 the power cable is damaged; \\uf0b7 the tool is replaced; \\uf0b7 it is being moved or transported; \\uf0b7 during cleaning operations. 24. It is recommended that users of this publication, for maintenance and repair, have atext - basic knowledge of the mechanical principles and procedures inherent in repair technique. 25.  The company safety officer is required to make sure that machine operatorstext - have read and understood this manual in its entirety. 26.  Management is responsible for safety and verification of the company's risk (idx = 4)\\n\\ntext - 10 OPERATION.46text - 10.1 Automatic Feed Tool Carriage .49text - 11 MAINTENANCE .51text - 11.1 Lubrication.52text - 11.2 Periodic checks .54text - 11.3 Adjusting the Machine .54 11.3.1 Adjusting the tension of the motor belts . 54 11.3.2 Tailstock alignment . 55 11.3.3 Spindle alignment . 55 11.3.4 Adjusting the slack of the gears. 56text - 12 REPLACEMENT PARTS.57text - 12.1 ACCESSORIES SUPPLIED.80text - 13 DISPOSAL OF PARTS AND MATERIALS .81text - 14 TROUBLESHOOTING .82 (idx = 2)\\n\\ntext - The following boxes are designed to attract the attention of the reader / user for the  proper and  safe  use of the machine:text - Pay Attentiontext - This highlights behavioural rules to prevent damage to the machine and/or the occurrence of dangerous  sit u at ions.text - Residual Riskstext - This highlights the presence of dangers that cause residual risks to which the operator must pay attentio n  i n  order to avoid injury or damage to property.text - Page 6 of 84text - MACHINES ANDtext - ACCESSORIEStext - 2 GENERAL SAFETY WARNINGStext - 2.1 General safety rules for machine equipment (idx = 3)\\n\\n\""
      ]
     },
     "execution_count": 100,
     "metadata": {},
     "output_type": "execute_result"
    }
   ],
   "source": [
    "final_context_string = re.sub(r'\\.{2,}', '.', context_string)\n",
    "final_context_string"
   ]
  },
  {
   "cell_type": "markdown",
   "id": "dc03a1ae",
   "metadata": {},
   "source": [
    "### LLM setup part 1"
   ]
  },
  {
   "cell_type": "code",
   "execution_count": null,
   "id": "83e6f52c",
   "metadata": {},
   "outputs": [],
   "source": [
    "def prompt_rank_contexts(query, final_context):\n",
    "    context_string = \"\"\n",
    "    for i, ctx in enumerate(final_context):\n",
    "        context_string += f\"Context {i+1}:\\n{ctx.strip()}\\n\\n\"\n",
    "\n",
    "    return f\"\"\"\n",
    "        You are a highly skilled AI assistant that ranks technical contexts from a machinery operations and maintenance manual.\n",
    "\n",
    "        Given a user question and several candidate context excerpts from the manual, rank the top 5 most relevant ones for answering the question. Relevance means how well the context can be used to answer the question **accurately and directly**.\n",
    "\n",
    "        Each context ends with a tag in the format **(idx = N)**. Use this identifier to reference the context when deciding relevance.\n",
    "\n",
    "        User Question:\n",
    "        {query}\n",
    "\n",
    "        Candidate Contexts:\n",
    "        {context_string}\n",
    "\n",
    "        Return only the `idx` values of the top 5 most relevant contexts, in descending order of relevance (most relevant first). Format your response like this:\n",
    "        22, 8, 15, 4, 31\n",
    "        \"\"\"\n",
    "\n",
    "def llama_context_ranker(query, final_context):\n",
    "    prompt = prompt_rank_contexts(query, final_context)\n",
    "\n",
    "    try:\n",
    "        response = ollama.generate(\n",
    "            model='mistral',  # or 'mistral:instruct' if that's what you're using\n",
    "            prompt=prompt,\n",
    "            stream=False\n",
    "        )\n",
    "        output = response['response'].strip()\n",
    "\n",
    "        # Parse the returned string for integer idx values\n",
    "        ranked_indices = [int(idx.strip()) for idx in output.split(\",\") if idx.strip().isdigit()]\n",
    "        return ranked_indices[:5]\n",
    "\n",
    "    except Exception as e:\n",
    "        print(\"Error using Ollama (Python client):\", str(e))\n",
    "        return []"
   ]
  },
  {
   "cell_type": "code",
   "execution_count": 110,
   "id": "dca46f89",
   "metadata": {},
   "outputs": [],
   "source": [
    "optimal_idx = llama_context_ranker(query, final_context_string)"
   ]
  },
  {
   "cell_type": "code",
   "execution_count": 111,
   "id": "bccf393f",
   "metadata": {},
   "outputs": [
    {
     "data": {
      "text/plain": [
       "[5, 27, 25, 20, 24]"
      ]
     },
     "execution_count": 111,
     "metadata": {},
     "output_type": "execute_result"
    }
   ],
   "source": [
    "optimal_idx"
   ]
  },
  {
   "cell_type": "code",
   "execution_count": 112,
   "id": "76be8c75",
   "metadata": {},
   "outputs": [],
   "source": [
    "optimal_context = ''\n",
    "for idx in optimal_idx:\n",
    "    optimal_context += chunked_final[idx]"
   ]
  },
  {
   "cell_type": "markdown",
   "id": "6b86bc4c",
   "metadata": {},
   "source": [
    "### LLM setup part 2"
   ]
  },
  {
   "cell_type": "code",
   "execution_count": 113,
   "id": "1d5b69d3",
   "metadata": {},
   "outputs": [],
   "source": [
    "def llama_b(prompt):\n",
    "    client = Groq(\n",
    "        api_key = os.getenv(\"GROQ_API_KEY\"),\n",
    "    )\n",
    "\n",
    "    chat_completion = client.chat.completions.create(\n",
    "        model = \"llama-3.3-70b-versatile\",\n",
    "        # model = \"llama3-70b-8192\",\n",
    "        # model = \"mistral-saba-24b\",\n",
    "        messages = [\n",
    "            {\n",
    "                \"role\": \"system\",\n",
    "                \"content\": \"You are an expert technical assistant specialized in interpreting operations and maintenance manuals for machinery.\"\n",
    "            },\n",
    "            {\n",
    "                \"role\": \"user\",\n",
    "                \"content\": prompt\n",
    "            }\n",
    "        ],\n",
    "        temperature = 0.5,\n",
    "        max_tokens = 5640,\n",
    "        top_p = 1,\n",
    "        stream = True,\n",
    "    )\n",
    "\n",
    "    for chunk in chat_completion:\n",
    "        content = chunk.choices[0].delta.content\n",
    "        if content:\n",
    "            print(content, end='', flush=True)  # print to console without newline, flush immediately\n",
    "            time.sleep(0.01)  # optional tiny delay for typewriter effect\n",
    "    \n",
    "\n",
    "def prompt(query, context):\n",
    "    return f\"\"\"\n",
    "        You are an expert technical assistant specialized in interpreting operations and maintenance manuals for machinery.\n",
    "\n",
    "        Given the user question and the relevant extracted context from the manual:\n",
    "\n",
    "        - Provide a clear, precise, and factual answer to the question.\n",
    "        - Base your response strictly on the provided context; do not guess beyond it.\n",
    "        - If the context does not contain enough information, indicate that the answer is not available in the manual or that the context is not sufficient.\n",
    "        - Keep the answer professional, concise, and focused on practical instructions.\n",
    "\n",
    "        User Question:\n",
    "        {query}\n",
    "\n",
    "        Context from Manual:\n",
    "        {context}\n",
    "        \"\"\""
   ]
  },
  {
   "cell_type": "markdown",
   "id": "58263356",
   "metadata": {},
   "source": [
    "### Inference"
   ]
  },
  {
   "cell_type": "code",
   "execution_count": 114,
   "id": "6beb1679",
   "metadata": {},
   "outputs": [
    {
     "name": "stdout",
     "output_type": "stream",
     "text": [
      "Based on the provided context from the manual, here are some general safety rules when using machine equipment:\n",
      "\n",
      "1. **Check the presence and integrity of protective devices and the proper functioning of safety devices before starting operation**. If any defect is detected, do not use the machine.\n",
      "2. **Do not modify or remove guards, safety devices, labels, and information plates on the machine**.\n",
      "3. **Ensure the machine is correctly attached to prevent unwanted movement or loss of stability** before using it.\n",
      "4. **Wear appropriate personal protective equipment (PPE)** such as gloves, goggles, overalls or aprons, and safety shoes.\n",
      "5. **Check that the machine is stopped before starting work in the vicinity of the spindle**.\n",
      "6. **Do not extend the continued use of the machine for more than 10 minutes to avoid overheating the machine and the equipment**.\n",
      "7. **Ensure the working environment is sufficiently well lit** (at least 200 lux) to ensure maximum operational safety.\n",
      "8. **Operate the machine in enclosed working environments (production departments, warehouses, etc.) that are protected from the weather and where there is no danger of fire or explosion**, with an operating temperature within the range of -10 / +50°C.\n",
      "\n",
      "These safety rules are based on the provided context and are intended to ensure safe operation of the machine. If you have any further questions or concerns, please consult the manual or contact a qualified professional."
     ]
    }
   ],
   "source": [
    "prompt = prompt(query, optimal_context)\n",
    "llama_b(prompt)"
   ]
  }
 ],
 "metadata": {
  "kernelspec": {
   "display_name": "Python (py310)",
   "language": "python",
   "name": "py310"
  },
  "language_info": {
   "codemirror_mode": {
    "name": "ipython",
    "version": 3
   },
   "file_extension": ".py",
   "mimetype": "text/x-python",
   "name": "python",
   "nbconvert_exporter": "python",
   "pygments_lexer": "ipython3",
   "version": "3.10.15"
  }
 },
 "nbformat": 4,
 "nbformat_minor": 5
}
