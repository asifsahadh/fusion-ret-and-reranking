{
 "cells": [
  {
   "cell_type": "markdown",
   "id": "e882c857",
   "metadata": {},
   "source": [
    "## **Reranking based RAG** "
   ]
  },
  {
   "cell_type": "markdown",
   "id": "08efe877",
   "metadata": {},
   "source": [
    "_**What are your expectations for Fusion Retrieval with the provided manual?**_<br>\n",
    "I do not expect the responses to be far superior than the vanilla approach due to the main reason being that these LLMs still require context and in-depth domain knowledge to truly understand how to rank the final set of chunks or documents appropriately. However, depending on how good the LLM is (in terms of size and amount of data that it was trained on), the results will vary."
   ]
  },
  {
   "cell_type": "markdown",
   "id": "5c8584f5",
   "metadata": {},
   "source": [
    "**_How do you plan to test and compare these techniques?_**<br><br>\n",
    "<img src=\"./reranking_workflow.png\" alt=\"Flowchart\" width=\"900\" /><br><br>\n",
    "The approach is pretty straight forward here and the main area where the changes take place compared to vanilla RAG is at the last stage where an LLM is prompted to retrieve the top-L indexes from the final retrieved set of chunks. Teh workflow is as follows:<br>\n",
    "1. The document data is extracted, specifically text and tabular data. \n",
    "2. These data are stored in a way where the sequence is maintained, that way there will be more context for a certain text that may have a table before or after it. \n",
    "3. This set is chunked and converted to BERT based vector embeddings. BERT was chosen because from what I know, they can represent these chunks in a very context aware fashion, thanks to the utilization os the encoder of a transformers. \n",
    "4. Now the query is also converted to BERT based embeddings and using cosine similarity, the top-K chunks are retrieved.\n",
    "5. Now these chunks, along with the query and chunk IDs is passed into an LLM for further ranking. \n",
    "6. The LLM returns a list of IDs of the top-L relevant chunks (L < K). \n",
    "7. The chunks are retrieved from the original set of chunks using these L indexes.\n",
    "8. This set of chunks, which acts as context, along with the query, is passed into a new LLM for a refined information retrieval.\n",
    "\n",
    "**It must be noted that K > L. In this implementation, they are set as 10 and 8 respectively.**"
   ]
  },
  {
   "cell_type": "markdown",
   "id": "b32b26d5",
   "metadata": {},
   "source": [
    "_**Comparison Strategy**_<br>\n",
    "There are possibly two main ways in which we can compare this approach with the Reranking apprach. One is by assessing the top-L retrieved chunks and the other is obviously by assessing the final response from the LLM. "
   ]
  },
  {
   "cell_type": "markdown",
   "id": "6b976e13",
   "metadata": {},
   "source": [
    "_**Note**: Considering images is important in order to create a robust RAG system. Due to technical/financial constraints, images are omitted for this implementation. However, in the absence of such constraints, what I would have done is have the LLM read the image and prompt it to generate a description. This description will be added into the resulting array while also maintaining the sequence. **One obvious question in that case will be whether or not the LLM knows about the content in the image, provided that it is very domain specific and unfamiliar to the LLM**. One way I thought of on mitigating this issue is by providing some set of surrounding context of the image to the LLM along with the image itself for it to draw better conclusions. These contexts can be the nearest 2 or 3 elements (text, table or another image) surrounding the image in hand. Let this value be J. So, if J is 3, we feed 3 elements before the image and 3 elements after the image as context for the LLM to generate proper a description of the image in hand. This might not be the most efficient solution, but there can be scenarios where this will work._"
   ]
  },
  {
   "cell_type": "markdown",
   "id": "7a1d8769",
   "metadata": {},
   "source": [
    "---"
   ]
  },
  {
   "cell_type": "markdown",
   "id": "d0b23167",
   "metadata": {},
   "source": [
    "#### Import libraries"
   ]
  },
  {
   "cell_type": "code",
   "execution_count": 1,
   "id": "e1bdf0cd",
   "metadata": {},
   "outputs": [],
   "source": [
    "import fitz # for text extraction\n",
    "import camelot # for table extraction\n",
    "from pathlib import Path\n",
    "from sentence_transformers import SentenceTransformer, util # for semantic vector embedding creation \n",
    "import numpy as np\n",
    "from groq import Groq\n",
    "import os\n",
    "import time\n",
    "import torch\n",
    "import re\n",
    "import ollama\n",
    "import json"
   ]
  },
  {
   "cell_type": "markdown",
   "id": "cdcafcb5",
   "metadata": {},
   "source": [
    "#### 1. Function to extract texts & tables from PDF\n",
    "The goal is to preserve the sequence, that way there will be more context for a certain text that may have a table before or after it."
   ]
  },
  {
   "cell_type": "code",
   "execution_count": null,
   "id": "ed97e026",
   "metadata": {},
   "outputs": [],
   "source": [
    "def extract_text_and_tables(pdf_path):\n",
    "\n",
    "    pdf_file = Path(pdf_path)\n",
    "    if not pdf_file.is_file() or pdf_file.suffix.lower() != \".pdf\":\n",
    "        raise FileNotFoundError(\"Provided file path is not a valid PDF.\")\n",
    "\n",
    "    doc = fitz.open(str(pdf_file))\n",
    "    result = []\n",
    "\n",
    "    # text extraction\n",
    "    for page_num, page in enumerate(doc, start = 1):\n",
    "        page_blocks = []\n",
    "\n",
    "        blocks = page.get_text(\"dict\")[\"blocks\"]\n",
    "        for block in blocks:\n",
    "            if block[\"type\"] == 0: # type 0 is text\n",
    "                text_content = \" \".join(\n",
    "                    span[\"text\"] for line in block[\"lines\"] for span in line[\"spans\"]\n",
    "                ).strip()\n",
    "                if text_content:\n",
    "                    y = block[\"bbox\"][1]\n",
    "                    page_blocks.append({\n",
    "                        \"type\": \"TEXT DATA\",\n",
    "                        \"y\": y,\n",
    "                        \"content\": text_content\n",
    "                    })\n",
    "\n",
    "        # table extraction\n",
    "        try:\n",
    "            tables = camelot.read_pdf(str(pdf_file), pages = str(page_num), flavor = 'lattice') # lattice flavor to extract tables\n",
    "        except Exception as e:\n",
    "            print(f\"Failed to read tables on page {page_num}: {e}\")\n",
    "            tables = []\n",
    "\n",
    "        for table in tables:\n",
    "            table_data = table.data\n",
    "            bbox = table._bbox\n",
    "            y = float(bbox[1])\n",
    "            page_blocks.append({\n",
    "                \"type\": \"TABLE DATA\",\n",
    "                \"y\": y,\n",
    "                \"content\": table_data\n",
    "            })\n",
    "\n",
    "        page_blocks.sort(key = lambda b: b[\"y\"]) # sort contents on current page\n",
    "        result.extend(page_blocks) # append content to result list\n",
    "\n",
    "    return result"
   ]
  },
  {
   "cell_type": "code",
   "execution_count": null,
   "id": "339473b2",
   "metadata": {},
   "outputs": [],
   "source": [
    "# extract texts and tables from the maual\n",
    "pre_result = extract_text_and_tables(\"manual.pdf\")\n",
    "pre_result[100:105] # few elements from the extracted data"
   ]
  },
  {
   "cell_type": "code",
   "execution_count": 2,
   "id": "e8cedaf3",
   "metadata": {},
   "outputs": [],
   "source": [
    "# load manual\n",
    "with open(\"manual.json\", \"r\") as file:\n",
    "    pre_result = json.load(file)"
   ]
  },
  {
   "cell_type": "code",
   "execution_count": 3,
   "id": "152acd00",
   "metadata": {},
   "outputs": [],
   "source": [
    "# removing 'fervi.com' background text\n",
    "result = []\n",
    "for res in pre_result:\n",
    "    if res['content'] != 'fervi.com':\n",
    "        result.append(res)"
   ]
  },
  {
   "cell_type": "code",
   "execution_count": 4,
   "id": "5075d163",
   "metadata": {},
   "outputs": [
    {
     "data": {
      "text/plain": [
       "{'type': 'TABLE DATA',\n",
       " 'y': 54.94955827871188,\n",
       " 'content': [['Part No.', 'Description', 'i', 'Description'],\n",
       "  ['T999/F001', 'Body\\nv', '', 'Micrometer'],\n",
       "  ['T999/F002', 'Flange', '', 'Lock'],\n",
       "  ['T999/F003', '', 'T999/F026', 'Switch'],\n",
       "  ['T999/F004', 'r', 'T999/F029', 'Knob'],\n",
       "  ['T999/F005', '', 'T999/F030', 'Knob'],\n",
       "  ['T999/F007', 'e', 'T999/F031', 'Allen key'],\n",
       "  ['T999/F008', '', 'T999/F032', 'Allen key'],\n",
       "  ['T999/F009\\nf', '', 'T999/F033', 'Screw'],\n",
       "  ['T999/F010', '', 'T999/F034', 'Screw'],\n",
       "  ['T999/F011', '', 'T999/F035', 'Screw'],\n",
       "  ['T999/F012', '', 'T999/F036', 'Screw'],\n",
       "  ['T999/F013', 'Pin', 'T999/F037', 'Nut'],\n",
       "  ['T999/F014', 'Screw', 'T999/F038', 'Nut'],\n",
       "  ['T999/F015', 'Sleeve coupling', 'T999/F039', 'Key'],\n",
       "  ['T999/F016', 'Tie rod', 'T999/F040', 'Washer'],\n",
       "  ['T999/F019', 'Pin', 'T999/F041', 'Plug'],\n",
       "  ['T999/F020', 'Lever', 'T999/F041', 'Bearing'],\n",
       "  ['T999/F021', 'Nut', 'T999/F042', 'Oiler']]}"
      ]
     },
     "execution_count": 4,
     "metadata": {},
     "output_type": "execute_result"
    }
   ],
   "source": [
    "# sample table data\n",
    "result[1173]"
   ]
  },
  {
   "cell_type": "code",
   "execution_count": 5,
   "id": "a7d1a0c2",
   "metadata": {},
   "outputs": [],
   "source": [
    "# list formatting by adding labels for text and table\n",
    "final = []\n",
    "for r in result:\n",
    "    s = f\"{r['type']}: {r['content']}\"\n",
    "    final.append(s)"
   ]
  },
  {
   "cell_type": "code",
   "execution_count": 6,
   "id": "fb8019de",
   "metadata": {},
   "outputs": [
    {
     "data": {
      "text/plain": [
       "\"TABLE DATA: [['Part No.', 'Description', 'i', 'Description'], ['T999/F001', 'Body\\\\nv', '', 'Micrometer'], ['T999/F002', 'Flange', '', 'Lock'], ['T999/F003', '', 'T999/F026', 'Switch'], ['T999/F004', 'r', 'T999/F029', 'Knob'], ['T999/F005', '', 'T999/F030', 'Knob'], ['T999/F007', 'e', 'T999/F031', 'Allen key'], ['T999/F008', '', 'T999/F032', 'Allen key'], ['T999/F009\\\\nf', '', 'T999/F033', 'Screw'], ['T999/F010', '', 'T999/F034', 'Screw'], ['T999/F011', '', 'T999/F035', 'Screw'], ['T999/F012', '', 'T999/F036', 'Screw'], ['T999/F013', 'Pin', 'T999/F037', 'Nut'], ['T999/F014', 'Screw', 'T999/F038', 'Nut'], ['T999/F015', 'Sleeve coupling', 'T999/F039', 'Key'], ['T999/F016', 'Tie rod', 'T999/F040', 'Washer'], ['T999/F019', 'Pin', 'T999/F041', 'Plug'], ['T999/F020', 'Lever', 'T999/F041', 'Bearing'], ['T999/F021', 'Nut', 'T999/F042', 'Oiler']]\""
      ]
     },
     "execution_count": 6,
     "metadata": {},
     "output_type": "execute_result"
    }
   ],
   "source": [
    "# table data sample after flattening\n",
    "final[1173]"
   ]
  },
  {
   "cell_type": "markdown",
   "id": "e498b6d4",
   "metadata": {},
   "source": [
    "It can be seen that the flattened version somewhat preserves the structure of the actual table by keeping each row inside a list. The LLM can hopefully understand this due to the presence of the label 'TABLE DATA' at the start."
   ]
  },
  {
   "cell_type": "markdown",
   "id": "d380b728",
   "metadata": {},
   "source": [
    "### 2. Chunking"
   ]
  },
  {
   "cell_type": "code",
   "execution_count": 7,
   "id": "56cfbd30",
   "metadata": {},
   "outputs": [
    {
     "name": "stdout",
     "output_type": "stream",
     "text": [
      "Number of chunks: 128\n",
      "\n"
     ]
    },
    {
     "data": {
      "text/plain": [
       "'TEXT DATA: Spindle hole diameter (mm) 38 TEXT DATA: Maximum swing over the bed (mm) 320 TEXT DATA: Maximum swing over the cross slide (mm) 198 TEXT DATA: Turning diameter over cavity (mm) 470 TEXT DATA: Spindle diameter (3 + 3 self centring) (mm) 160 TEXT DATA: Spindle connector Camlock D1-4 TEXT DATA: No. of spindle speeds 8 TEXT DATA: Spindle speed (r/min) 70 - 2000 RPM TEXT DATA: No. of metric threads 32 TEXT DATA: Range of metric threads (mm) 0.44- 10'"
      ]
     },
     "execution_count": 7,
     "metadata": {},
     "output_type": "execute_result"
    }
   ],
   "source": [
    "chunks = [\" \".join(final[i:i + 10]) for i in range(0, len(final), 10)] # be careful here\n",
    "print(f\"Number of chunks: {len(chunks)}\\n\")\n",
    "\n",
    "chunks[15] # sample"
   ]
  },
  {
   "cell_type": "markdown",
   "id": "a309f304",
   "metadata": {},
   "source": [
    "### 3. Creating BERT based vector embeddings"
   ]
  },
  {
   "cell_type": "code",
   "execution_count": 8,
   "id": "af0ade41",
   "metadata": {},
   "outputs": [],
   "source": [
    "model = SentenceTransformer('sentence-transformers/all-mpnet-base-v2')\n",
    "sem_embs = model.encode(chunks, convert_to_tensor = True)"
   ]
  },
  {
   "cell_type": "markdown",
   "id": "c53cde09",
   "metadata": {},
   "source": [
    "### 4. Pipeline to return indeces of top-K chunks that match with the query"
   ]
  },
  {
   "cell_type": "code",
   "execution_count": 25,
   "id": "12b50c1e",
   "metadata": {},
   "outputs": [],
   "source": [
    "def bert_query_pipeline(query, top_k = 10):\n",
    "     \n",
    "    device = sem_embs.device\n",
    "    query_embedding = model.encode(query, convert_to_tensor = True)\n",
    "    cosine_scores = util.cos_sim(query_embedding, sem_embs)[0] # cosine similarity\n",
    "    top_indexes = np.argsort(cosine_scores.cpu().numpy())[::-1][:top_k]\n",
    "\n",
    "    return top_indexes"
   ]
  },
  {
   "cell_type": "code",
   "execution_count": 26,
   "id": "63541914",
   "metadata": {},
   "outputs": [],
   "source": [
    "# query = \"Summarize the manual.\" # 1\n",
    "# query = \"What are some general safety rules when using machine equipment?\" # 2\n",
    "# query = \"What does the manual say about unplugging the power cord of the machine from the power outlet?\"\" # 3\n",
    "# query = \"What are the several manual controls on the tool holder carriage?\" # 4\n",
    "query = \"Tell me about the lever for selection of longitudinal feeds.\" # 5\n",
    "# query = \"What does the document talk about regarding digital displays?\" # 6\n",
    "# query = \"What controls does the electric panel have?\" # 7\n",
    "# query = \"How to achieve balance when lifting the Lathe?\" # 8\n",
    "# query = \"Tell me about using the machine for turning non-ferrous materials.\" # 9\n",
    "# query = \"What should a grounding conductor be used for?\" # 10"
   ]
  },
  {
   "cell_type": "code",
   "execution_count": 27,
   "id": "f45b41d7",
   "metadata": {},
   "outputs": [],
   "source": [
    "# get chunks\n",
    "bert_top_k_idx = bert_query_pipeline(query)\n",
    "final_idx = list(set(list(bert_top_k_idx)))\n",
    "\n",
    "# get top embeddings directly from embeddings tensor\n",
    "sem_embs_final = torch.stack([sem_embs[idx] for idx in final_idx])"
   ]
  },
  {
   "cell_type": "markdown",
   "id": "acb4a2e2",
   "metadata": {},
   "source": [
    "### 5. Function to get the final set of chunks"
   ]
  },
  {
   "cell_type": "code",
   "execution_count": 28,
   "id": "3495ef86",
   "metadata": {},
   "outputs": [],
   "source": [
    "def bert_final_idx(query):\n",
    "     \n",
    "    device = sem_embs.device\n",
    "    query_embedding = model.encode(query, convert_to_tensor = True)\n",
    "    cosine_scores = util.cos_sim(query_embedding, sem_embs_final)[0]\n",
    "    indexes = np.argsort(cosine_scores.cpu().numpy())[::-1]\n",
    "\n",
    "    return indexes"
   ]
  },
  {
   "cell_type": "code",
   "execution_count": 29,
   "id": "389429e9",
   "metadata": {},
   "outputs": [
    {
     "data": {
      "text/plain": [
       "10"
      ]
     },
     "execution_count": 29,
     "metadata": {},
     "output_type": "execute_result"
    }
   ],
   "source": [
    "best = bert_final_idx(query)\n",
    "max_idx = max(best) # used for LLM later\n",
    "len(best)"
   ]
  },
  {
   "cell_type": "markdown",
   "id": "aeeb07f3",
   "metadata": {},
   "source": [
    "### 6. Get final context"
   ]
  },
  {
   "cell_type": "code",
   "execution_count": 30,
   "id": "78bddbbd",
   "metadata": {},
   "outputs": [],
   "source": [
    "context_string = \"\"\n",
    "for idx in best:\n",
    "    context_string += f\"{chunks[idx].strip()} (IDX = {idx}).\""
   ]
  },
  {
   "cell_type": "code",
   "execution_count": 31,
   "id": "2962e475",
   "metadata": {},
   "outputs": [],
   "source": [
    "# remove unnecessary dots\n",
    "context_string_4_mistral = re.sub(r'\\.{2,}', '.', context_string)"
   ]
  },
  {
   "cell_type": "code",
   "execution_count": 32,
   "id": "97daabfb",
   "metadata": {},
   "outputs": [
    {
     "data": {
      "text/plain": [
       "\"TEXT DATA: The workers responsible for the use of this machine must have all the necessary information and instruction and should be given adequate training in relation to safety regarding: a) Conditions of use for the equipment; b) Foreseeable abnormal situations, pursuant to Article 73 of Legislative Decree 81/08. TEXT DATA: We guarantee the Machine complies with the specifications and technical instructions TEXT DATA: described in the Manual on the date of issuance and listed herein; On the other hand, TEXT DATA: the machine may also be subject to important technical changes in the future, without TEXT DATA: the manual being updated. TEXT DATA: Therefore, contact FERVI for information about modifications that may have been TEXT DATA: implemented. TEXT DATA: REV. 1 May 2013 TEXT DATA: Page 2 of 84 TEXT DATA: MACHINES AND (IDX = 1).TEXT DATA: 4.1 Intended use and field of application.11 TEXT DATA: 4.2 Description of the main parts.13 4.2.1 Supporting table . 14 4.2.2 Head and spindle . 14 4.2.3 Spindle speed adjustment levers. 14 4.2.4 Feed speed adjustment panel . 15 4.2.5 Tool holder carriage . 15 4.2.6 Tailstock . 15 4.2.7 Steady rest . 16 4.2.8 Electric control panel . 16 4.2.9 Pedal brake. 16 4.2.10 Rotation reverse lever . 17 TEXT DATA: 4.3 Identification plate .17 TEXT DATA: 4.4 Pictograms and plates.18 TEXT DATA: 5 MACHINE SAFETY DEVICES.19 TEXT DATA: 5.1 Electrical safety devices.19 TEXT DATA: 5.2 Mechanical Safety Devices .20 TEXT DATA: 5.3 Personal Protective Equipment (PPE) .21 TEXT DATA: 6 FORBIDDEN USES AND HAZARDS .22 TEXT DATA: 7 LIFTING, TRANSPORTATION AND STORAGE IN WAREHOUSE .24 (IDX = 3).TEXT DATA: 7.1 Lifting .24 TEXT DATA: 7.2 Transportation .24 TEXT DATA: 7.3 Warehouse storage .24 TEXT DATA: 8 ASSEMBLY AND COMMISSIONING .25 TEXT DATA: 8.1 Identification of the installation site .25 TEXT DATA: 8.2 Support base.25 TEXT DATA: 8.3 Levelling the machine .26 8.3.1 Preliminary phase . 26 8.3.2 Transverse levelling of the table . 26 TEXT DATA: Page 3 of 84 TEXT DATA: MACHINES AND ACCESSORIES TEXT DATA: 8.3.3 Levelling the lathe rails. 26 (IDX = 4).TEXT DATA: ACCESSORIES TEXT DATA: INDEX TEXT DATA: 1 GENERAL INFORMATION.5 TEXT DATA: 2 GENERAL SAFETY WARNINGS .7 TEXT DATA: 2.1 General safety rules for machine equipment.7 TEXT DATA: 2.2 Safety rules for electrical machine equipment .9 TEXT DATA: 2.3 Technical Assistance .9 TEXT DATA: 2.4 Other provisions .9 TEXT DATA: 3 TECHNICAL SPECIFICATIONS .10 TEXT DATA: 4 DESCRIPTION OF THE MACHINE .11 (IDX = 2).TEXT DATA: OPERATION AND MAINTENANCE MANUAL TEXT DATA: Bench Lathe Art. T999/230V – T999/230V3A TEXT DATA: Art. T999/400V - T999/400V3A TEXT DATA: TRANSLATION OF THE ORIGINAL INSTRUCTIONS TEXT DATA: MACHINES AND ACCESSORIES TEXT DATA: PREFACE TEXT DATA: Please ensure you have read this manual before operation TEXT DATA: TRANSLATION OF THE ORIGINAL INSTRUCTIONS It is compulsory to read this instruction manual before starting operation. The guarantee of smooth operation and full performance of the machine is highly dependent on the application of all the instructions contained in this manual. TABLE DATA: [['We guarantee the Machine complies with the specifications and technical\\\\ninstructions\\\\ndescribed in the Manual on the date of\\\\nissuance and listed herein; On the other hand,\\\\nthe machine may also be subject to important technical changes in the future, without\\\\nthe manual being updated.\\\\nr\\\\nTherefore,\\\\ninformation about modifications\\\\nthat may\\\\nhave\\\\nbeen\\\\nimplemented.\\\\ne\\\\nf']] TEXT DATA: Operator qualifications (IDX = 0).TEXT DATA: MACHINES AND TEXT DATA: ACCESSORIES TEXT DATA: 2 GENERAL SAFETY WARNINGS TEXT DATA: 2.1 General safety rules for machine equipment TEXT DATA: Follow the instructions contained herein, in addition to the general precautions to be observed while working. Even if the operator is already familiar with the use of manually operated lathes, it is necessary to: In particular: TEXT DATA: \\uf0b7 Acquire full knowledge of the machine. For safe operation, this manual must be read carefully in order to acquire the necessary knowledge of the machine and to understand: operation, safety devices and all necessary precautions. \\uf0b7 Wear appropriate clothing for the job. The operator must wear appropriate clothing to prevent accidents. \\uf0b7 Maintain the machine with care. TEXT DATA: Risks associated with using the machine TEXT DATA: The machine must only be used by personnel who have been specially trained by authorized personnel. TEXT DATA: Risks associated with using the Machine TEXT DATA: DO NOT underestimate the risks associated with using the machine and concentrate on the work in pro gr ess. (IDX = 9).TEXT DATA: 8.4 Operations before starting the machine.26 8.4.1 Lubrication and greasing. 26 8.4.2 Connection to the power supply network. 26 8.4.3 Open circuit test . 27 TEXT DATA: 9 DESCRIPTION OF CONTROLS .28 TEXT DATA: 9.1 Control buttons .28 9.1.1 Main switch . 28 9.1.2 Electric and control panel buttons and lights. 28 9.1.3 Emergency button. 29 TEXT DATA: 9.2 Levers and control wheels .29 9.2.1 Spindle speed adjustment knobs. 29 9.2.2 Automatic feed speed adjustment knobs. 30 9.2.3 Adjustment knob / lever of the split casing. 31 9.2.4 Levers and handwheels of the carriage and tool holder slides . 32 9.2.5 Lever and handwheel of the tailstock. 33 TEXT DATA: 9.3 Mechanical brake pedal of the spindle .34 TEXT DATA: 9.4 Digital display .34 9.4.1 Using the display . 35 TEXT DATA: 10 OPERATION.46 TEXT DATA: 10.1 Automatic Feed Tool Carriage .49 TEXT DATA: 11 MAINTENANCE .51 TEXT DATA: 11.1 Lubrication.52 (IDX = 5).TEXT DATA: 11.2 Periodic checks .54 TEXT DATA: 11.3 Adjusting the Machine .54 11.3.1 Adjusting the tension of the motor belts . 54 11.3.2 Tailstock alignment . 55 11.3.3 Spindle alignment . 55 11.3.4 Adjusting the slack of the gears. 56 TEXT DATA: 12 REPLACEMENT PARTS.57 TEXT DATA: 12.1 ACCESSORIES SUPPLIED.80 TEXT DATA: 13 DISPOSAL OF PARTS AND MATERIALS .81 TEXT DATA: 14 TROUBLESHOOTING .82 TEXT DATA: 15 ELECTRIC CIRCUIT .83 TEXT DATA: 15.1 Art. T999/400V.83 TEXT DATA: 15.2 Art. T999/230V.84 TEXT DATA: Page 4 of 84 (IDX = 6).TEXT DATA: MACHINES AND TEXT DATA: ACCESSORIES TEXT DATA: 1 GENERAL INFORMATION TEXT DATA: This manual is considered an integral part of the machine it was attached to at the time of purchase. The manufacturer holds all ownership to material and intellectual property of this manual; any disclosure or copying, even partial, of this publication without prior written consent is forbidden. TEXT DATA: This manual is designed to provide the knowledge required for the use and maintenance of the  Gear head lathe (Art. T999/230V – T999/230V3A – T999/400V T999/400V3A) and to provide the operator assigned to the device with a sense of responsibility and knowledge of its possibilities and limitations. TEXT DATA: Operators must be properly trained and prepared, so make sure that this manual is read and consulted by the staff responsible for commissioning, operation and maintenance of the machine. This is to make all operations as safe and effective as possible for those who carry out these tasks. Therefore, it is imperative to strictly comply with the requirements in this manual, a necessary condition for safe and satisfactory operation of the Lathe. TEXT DATA: Before starting operation, installation and use of the machine, authorized staff must therefore: \\uf0b7 read this technical document carefully; \\uf0b7 know which protections and safety devices are available on the Lathe, their location and how they work. TEXT DATA: The buyer is responsible for ensuring that users are properly trained, that they are aware of all the information and instructions in this document and that they are aware of the potential risks of operating the Lathe. TEXT DATA: The manufacturer will not be held responsible for any damage to people and/or property caused by non-compliance with any instructions in this manual. TEXT DATA: Operators will be held fully responsible for any changes they have made to the machine; the manufacturer will not be held responsible for any damage to persons and/or property resulting from maintenance performed by unqualified personnel and in a manner that differs from the operating procedures shown below. (IDX = 7).TEXT DATA: Page 5 of 84 TEXT DATA: MACHINES AND ACCESSORIES TEXT DATA: The  Gear head lathe  has been designed and built with mechanical guards and safety devices designed to protect the operator/user from possible injury. It is strictly forbidden to modify or remove guards, safety devices and caution labels. If you do so temporarily (for example, for the purposes of cleaning or repair), make sure that no one can use the machine. TEXT DATA: Graphic representation of safety, operational and risk warnings TEXT DATA: The following boxes are designed to attract the attention of the reader / user for the  proper and  safe  use of the machine: TEXT DATA: Pay Attention TEXT DATA: This highlights behavioural rules to prevent damage to the machine and/or the occurrence of dangerous  sit u at ions. TEXT DATA: Residual Risks TEXT DATA: This highlights the presence of dangers that cause residual risks to which the operator must pay attentio n  i n  order to avoid injury or damage to property. TEXT DATA: Page 6 of 84 (IDX = 8).\""
      ]
     },
     "execution_count": 32,
     "metadata": {},
     "output_type": "execute_result"
    }
   ],
   "source": [
    "context_string_4_mistral"
   ]
  },
  {
   "cell_type": "markdown",
   "id": "dc03a1ae",
   "metadata": {},
   "source": [
    "### 7. Setting up LLM A that returns indexes of top-L chunks based on the query"
   ]
  },
  {
   "cell_type": "code",
   "execution_count": 33,
   "id": "83e6f52c",
   "metadata": {},
   "outputs": [],
   "source": [
    "def prompt_rank_contexts(query, context_string, max_idx, top_l = 8):\n",
    "    # for i, ctx in enumerate(final_context):\n",
    "    #     context_string += f\"Context {i+1}:\\n{ctx.strip()}\\n\\n\"\n",
    "    # context_string = \"\"\n",
    "\n",
    "    return f\"\"\"\n",
    "        You are a highly skilled AI assistant that ranks technical contexts from a machinery operations and maintenance manual.\n",
    "\n",
    "        Your task is to rank the top-{top_l} most relevant contexts for answering the user’s question, based solely on the provided content.\n",
    "\n",
    "        Each context ends with a tag in the format: **(IDX = N)**, where N is an integer between 0 and {max_idx}. Do not guess or invent index values.\n",
    "\n",
    "        **Instructions**:\n",
    "        - Carefully read all the context snippets.\n",
    "        - Identify the most relevant contexts that directly support answering the question.\n",
    "        - Return exactly {top_l} `idx` values, in descending order of relevance (most relevant first).\n",
    "        - Only include integers in the range 0 to {max_idx}.\n",
    "        - Format your answer as a comma-separated list of integers with no extra text.\n",
    "\n",
    "        **Example**: 12, 4, 7, 1, 0, 8, 22, 10\n",
    "\n",
    "        User Question:\n",
    "        {query}\n",
    "\n",
    "        Candidate Contexts:\n",
    "        {context_string}\n",
    "    \"\"\"\n",
    "\n",
    "def llm_a(query, final_context): # mistral might not be the best but no option\n",
    "    prompt = prompt_rank_contexts(query, final_context, max_idx)\n",
    "\n",
    "    try:\n",
    "        response = ollama.generate(\n",
    "            model = 'mistral', \n",
    "            prompt = prompt,\n",
    "            stream = False\n",
    "        )\n",
    "        output = response['response'].strip()\n",
    "\n",
    "        # parse the returned string for integer idx values\n",
    "        ranked_indexes = [int(idx.strip()) for idx in output.split(\",\") if idx.strip().isdigit()]\n",
    "        return ranked_indexes[:8] # L-value\n",
    "\n",
    "    except Exception as e:\n",
    "        print(\"Error using Ollama (Python client):\", str(e))\n",
    "        return []"
   ]
  },
  {
   "cell_type": "code",
   "execution_count": 34,
   "id": "dca46f89",
   "metadata": {},
   "outputs": [
    {
     "name": "stdout",
     "output_type": "stream",
     "text": [
      "IDs of top-L chunks are: [7, 2, 1, 0, 5, 3, 4, 9]\n"
     ]
    }
   ],
   "source": [
    "# get ids of top-L chunks\n",
    "top_ids = llm_a(query, context_string_4_mistral)\n",
    "print(f\"IDs of top-L chunks are: {top_ids}\")"
   ]
  },
  {
   "cell_type": "markdown",
   "id": "e7b77d02",
   "metadata": {},
   "source": [
    "### 8. Get final context"
   ]
  },
  {
   "cell_type": "code",
   "execution_count": 35,
   "id": "76be8c75",
   "metadata": {},
   "outputs": [],
   "source": [
    "final_context = ''\n",
    "for idx in top_ids:\n",
    "    final_context += chunks[idx]"
   ]
  },
  {
   "cell_type": "code",
   "execution_count": 36,
   "id": "06c3a426",
   "metadata": {},
   "outputs": [],
   "source": [
    "# remove unnecessary dots\n",
    "final_context_string = re.sub(r'\\.{2,}', '.', final_context)"
   ]
  },
  {
   "cell_type": "code",
   "execution_count": 37,
   "id": "eacd2c30",
   "metadata": {},
   "outputs": [
    {
     "data": {
      "text/plain": [
       "\"TEXT DATA: MACHINES AND TEXT DATA: ACCESSORIES TEXT DATA: 1 GENERAL INFORMATION TEXT DATA: This manual is considered an integral part of the machine it was attached to at the time of purchase. The manufacturer holds all ownership to material and intellectual property of this manual; any disclosure or copying, even partial, of this publication without prior written consent is forbidden. TEXT DATA: This manual is designed to provide the knowledge required for the use and maintenance of the  Gear head lathe (Art. T999/230V – T999/230V3A – T999/400V T999/400V3A) and to provide the operator assigned to the device with a sense of responsibility and knowledge of its possibilities and limitations. TEXT DATA: Operators must be properly trained and prepared, so make sure that this manual is read and consulted by the staff responsible for commissioning, operation and maintenance of the machine. This is to make all operations as safe and effective as possible for those who carry out these tasks. Therefore, it is imperative to strictly comply with the requirements in this manual, a necessary condition for safe and satisfactory operation of the Lathe. TEXT DATA: Before starting operation, installation and use of the machine, authorized staff must therefore: \\uf0b7 read this technical document carefully; \\uf0b7 know which protections and safety devices are available on the Lathe, their location and how they work. TEXT DATA: The buyer is responsible for ensuring that users are properly trained, that they are aware of all the information and instructions in this document and that they are aware of the potential risks of operating the Lathe. TEXT DATA: The manufacturer will not be held responsible for any damage to people and/or property caused by non-compliance with any instructions in this manual. TEXT DATA: Operators will be held fully responsible for any changes they have made to the machine; the manufacturer will not be held responsible for any damage to persons and/or property resulting from maintenance performed by unqualified personnel and in a manner that differs from the operating procedures shown below.TEXT DATA: ACCESSORIES TEXT DATA: INDEX TEXT DATA: 1 GENERAL INFORMATION.5 TEXT DATA: 2 GENERAL SAFETY WARNINGS .7 TEXT DATA: 2.1 General safety rules for machine equipment.7 TEXT DATA: 2.2 Safety rules for electrical machine equipment .9 TEXT DATA: 2.3 Technical Assistance .9 TEXT DATA: 2.4 Other provisions .9 TEXT DATA: 3 TECHNICAL SPECIFICATIONS .10 TEXT DATA: 4 DESCRIPTION OF THE MACHINE .11TEXT DATA: The workers responsible for the use of this machine must have all the necessary information and instruction and should be given adequate training in relation to safety regarding: a) Conditions of use for the equipment; b) Foreseeable abnormal situations, pursuant to Article 73 of Legislative Decree 81/08. TEXT DATA: We guarantee the Machine complies with the specifications and technical instructions TEXT DATA: described in the Manual on the date of issuance and listed herein; On the other hand, TEXT DATA: the machine may also be subject to important technical changes in the future, without TEXT DATA: the manual being updated. TEXT DATA: Therefore, contact FERVI for information about modifications that may have been TEXT DATA: implemented. TEXT DATA: REV. 1 May 2013 TEXT DATA: Page 2 of 84 TEXT DATA: MACHINES ANDTEXT DATA: OPERATION AND MAINTENANCE MANUAL TEXT DATA: Bench Lathe Art. T999/230V – T999/230V3A TEXT DATA: Art. T999/400V - T999/400V3A TEXT DATA: TRANSLATION OF THE ORIGINAL INSTRUCTIONS TEXT DATA: MACHINES AND ACCESSORIES TEXT DATA: PREFACE TEXT DATA: Please ensure you have read this manual before operation TEXT DATA: TRANSLATION OF THE ORIGINAL INSTRUCTIONS It is compulsory to read this instruction manual before starting operation. The guarantee of smooth operation and full performance of the machine is highly dependent on the application of all the instructions contained in this manual. TABLE DATA: [['We guarantee the Machine complies with the specifications and technical\\\\ninstructions\\\\ndescribed in the Manual on the date of\\\\nissuance and listed herein; On the other hand,\\\\nthe machine may also be subject to important technical changes in the future, without\\\\nthe manual being updated.\\\\nr\\\\nTherefore,\\\\ninformation about modifications\\\\nthat may\\\\nhave\\\\nbeen\\\\nimplemented.\\\\ne\\\\nf']] TEXT DATA: Operator qualificationsTEXT DATA: 8.4 Operations before starting the machine.26 8.4.1 Lubrication and greasing. 26 8.4.2 Connection to the power supply network. 26 8.4.3 Open circuit test . 27 TEXT DATA: 9 DESCRIPTION OF CONTROLS .28 TEXT DATA: 9.1 Control buttons .28 9.1.1 Main switch . 28 9.1.2 Electric and control panel buttons and lights. 28 9.1.3 Emergency button. 29 TEXT DATA: 9.2 Levers and control wheels .29 9.2.1 Spindle speed adjustment knobs. 29 9.2.2 Automatic feed speed adjustment knobs. 30 9.2.3 Adjustment knob / lever of the split casing. 31 9.2.4 Levers and handwheels of the carriage and tool holder slides . 32 9.2.5 Lever and handwheel of the tailstock. 33 TEXT DATA: 9.3 Mechanical brake pedal of the spindle .34 TEXT DATA: 9.4 Digital display .34 9.4.1 Using the display . 35 TEXT DATA: 10 OPERATION.46 TEXT DATA: 10.1 Automatic Feed Tool Carriage .49 TEXT DATA: 11 MAINTENANCE .51 TEXT DATA: 11.1 Lubrication.52TEXT DATA: 4.1 Intended use and field of application.11 TEXT DATA: 4.2 Description of the main parts.13 4.2.1 Supporting table . 14 4.2.2 Head and spindle . 14 4.2.3 Spindle speed adjustment levers. 14 4.2.4 Feed speed adjustment panel . 15 4.2.5 Tool holder carriage . 15 4.2.6 Tailstock . 15 4.2.7 Steady rest . 16 4.2.8 Electric control panel . 16 4.2.9 Pedal brake. 16 4.2.10 Rotation reverse lever . 17 TEXT DATA: 4.3 Identification plate .17 TEXT DATA: 4.4 Pictograms and plates.18 TEXT DATA: 5 MACHINE SAFETY DEVICES.19 TEXT DATA: 5.1 Electrical safety devices.19 TEXT DATA: 5.2 Mechanical Safety Devices .20 TEXT DATA: 5.3 Personal Protective Equipment (PPE) .21 TEXT DATA: 6 FORBIDDEN USES AND HAZARDS .22 TEXT DATA: 7 LIFTING, TRANSPORTATION AND STORAGE IN WAREHOUSE .24TEXT DATA: 7.1 Lifting .24 TEXT DATA: 7.2 Transportation .24 TEXT DATA: 7.3 Warehouse storage .24 TEXT DATA: 8 ASSEMBLY AND COMMISSIONING .25 TEXT DATA: 8.1 Identification of the installation site .25 TEXT DATA: 8.2 Support base.25 TEXT DATA: 8.3 Levelling the machine .26 8.3.1 Preliminary phase . 26 8.3.2 Transverse levelling of the table . 26 TEXT DATA: Page 3 of 84 TEXT DATA: MACHINES AND ACCESSORIES TEXT DATA: 8.3.3 Levelling the lathe rails. 26TEXT DATA: MACHINES AND TEXT DATA: ACCESSORIES TEXT DATA: 2 GENERAL SAFETY WARNINGS TEXT DATA: 2.1 General safety rules for machine equipment TEXT DATA: Follow the instructions contained herein, in addition to the general precautions to be observed while working. Even if the operator is already familiar with the use of manually operated lathes, it is necessary to: In particular: TEXT DATA: \\uf0b7 Acquire full knowledge of the machine. For safe operation, this manual must be read carefully in order to acquire the necessary knowledge of the machine and to understand: operation, safety devices and all necessary precautions. \\uf0b7 Wear appropriate clothing for the job. The operator must wear appropriate clothing to prevent accidents. \\uf0b7 Maintain the machine with care. TEXT DATA: Risks associated with using the machine TEXT DATA: The machine must only be used by personnel who have been specially trained by authorized personnel. TEXT DATA: Risks associated with using the Machine TEXT DATA: DO NOT underestimate the risks associated with using the machine and concentrate on the work in pro gr ess.\""
      ]
     },
     "execution_count": 37,
     "metadata": {},
     "output_type": "execute_result"
    }
   ],
   "source": [
    "final_context_string"
   ]
  },
  {
   "cell_type": "markdown",
   "id": "6b86bc4c",
   "metadata": {},
   "source": [
    "\n",
    "### 9. Setting up LLM B for response generation"
   ]
  },
  {
   "cell_type": "code",
   "execution_count": 38,
   "id": "1d5b69d3",
   "metadata": {},
   "outputs": [],
   "source": [
    "def llm_b(prompt):\n",
    "    client = Groq(\n",
    "        api_key = os.getenv(\"GROQ_API_KEY\"),\n",
    "    )\n",
    "\n",
    "    chat_completion = client.chat.completions.create(\n",
    "        model = \"llama-3.3-70b-versatile\",\n",
    "        # model = \"llama3-70b-8192\",\n",
    "        # model = \"mistral-saba-24b\",\n",
    "        messages = [\n",
    "            {\n",
    "                \"role\": \"system\",\n",
    "                \"content\": \"You are an expert technical assistant specialized in interpreting operations and maintenance manuals for machinery.\"\n",
    "            },\n",
    "            {\n",
    "                \"role\": \"user\",\n",
    "                \"content\": prompt\n",
    "            }\n",
    "        ],\n",
    "        temperature = 0.5,\n",
    "        max_tokens = 5640,\n",
    "        top_p = 1,\n",
    "        stream = True,\n",
    "    )\n",
    "\n",
    "    for chunk in chat_completion:\n",
    "        content = chunk.choices[0].delta.content\n",
    "        if content:\n",
    "            print(content, end = '', flush = True)  # print to console without newline, flush immediately\n",
    "            time.sleep(0.01)  # optional tiny delay for typewriter effect\n",
    "    \n",
    "\n",
    "def prompt(query, context):\n",
    "    return f\"\"\"\n",
    "        You are an expert technical assistant specialized in interpreting operations and maintenance manuals for machinery.\n",
    "\n",
    "        Given the user question and the relevant extracted context from the manual:\n",
    "\n",
    "        - Provide a clear, precise, and factual answer to the question.\n",
    "        - Base your response strictly on the provided context; do not guess beyond it.\n",
    "        - If the context does not contain enough information, indicate that the answer is not available in the manual or that the context is not sufficient.\n",
    "        - Keep the answer professional, concise, and focused on practical instructions.\n",
    "        - Each section of the context begins with a tag: either 'TEXT DATA' or 'TABLE DATA'.\n",
    "        - 'TEXT DATA' represents plain, unstructured text. 'TABLE DATA' represents information extracted from a table and flattened into a list format.\n",
    "        - The 'TABLE DATA' is structured as a list of rows, where each row is a list containing the column values in order. The format is as follows: [[column 1 value, column 2 value, ...], [column 1 value, column 2 value, ...], ...]\n",
    "        - If available, provide references for the information.\n",
    "        \n",
    "        User Question:\n",
    "        {query}\n",
    "\n",
    "        Context from Manual:\n",
    "        {context}\n",
    "    \"\"\""
   ]
  },
  {
   "cell_type": "markdown",
   "id": "58263356",
   "metadata": {},
   "source": [
    "### 10. Inference"
   ]
  },
  {
   "cell_type": "code",
   "execution_count": 39,
   "id": "6beb1679",
   "metadata": {},
   "outputs": [
    {
     "name": "stdout",
     "output_type": "stream",
     "text": [
      "QUERY: Tell me about the lever for selection of longitudinal feeds.\n",
      "\n",
      "RESPONSE:\n",
      "The provided context from the manual does not contain specific information about the lever for selection of longitudinal feeds. The context primarily focuses on general safety warnings, machine description, operation, and maintenance, but it does not provide detailed information about the specific lever in question.\n",
      "\n",
      "For accurate information about the lever for selection of longitudinal feeds, it is recommended to consult the manual further, specifically sections that describe the machine's controls and operational components, such as section 9 \"DESCRIPTION OF CONTROLS\" or other relevant parts of the manual that might detail the machine's operational levers and their functions.\n",
      "\n",
      "Reference: Since the specific information about the lever for selection of longitudinal feeds is not available in the provided context, it is suggested to look into sections 9.2 \"Levers and control wheels\" or other parts of the manual that might discuss the machine's control mechanisms."
     ]
    }
   ],
   "source": [
    "prompt = prompt(query, final_context) # go to section number 4 to change query\n",
    "print(f\"QUERY: {query}\\n\")\n",
    "print('RESPONSE:')\n",
    "llm_b(prompt)"
   ]
  },
  {
   "cell_type": "markdown",
   "id": "c2448cfd",
   "metadata": {},
   "source": [
    "### General points when testing\n",
    "1. Mistral 7B cannot handle too much context, therefore top-K is set to a low value. Optimal seems to be 10 here. This also depends on the context size, which is set to 10.\n",
    "2. A better model like GPT will probably do better.\n",
    "3. Based on the current settings, Fusion Retrieval seems to do better compared to Reranking."
   ]
  }
 ],
 "metadata": {
  "kernelspec": {
   "display_name": "Python (py310)",
   "language": "python",
   "name": "py310"
  },
  "language_info": {
   "codemirror_mode": {
    "name": "ipython",
    "version": 3
   },
   "file_extension": ".py",
   "mimetype": "text/x-python",
   "name": "python",
   "nbconvert_exporter": "python",
   "pygments_lexer": "ipython3",
   "version": "3.10.15"
  }
 },
 "nbformat": 4,
 "nbformat_minor": 5
}
