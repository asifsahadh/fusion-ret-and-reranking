{
 "cells": [
  {
   "cell_type": "markdown",
   "id": "e882c857",
   "metadata": {},
   "source": [
    "## **Reranking based RAG** "
   ]
  },
  {
   "cell_type": "markdown",
   "id": "08efe877",
   "metadata": {},
   "source": [
    "_**What are your expectations for Fusion Retrieval with the provided manual?**_<br>\n",
    "I do not expect the responses to be far superior than the vanilla approach due to the main reason being that these LLMs still require context and in-depth domain knowledge to truly understand how to rank the final set of chunks or documents appropriately. However, depending on how good the LLM is (in terms of size and amount of data that it was trained on), the results will vary."
   ]
  },
  {
   "cell_type": "markdown",
   "id": "5c8584f5",
   "metadata": {},
   "source": [
    "**_How do you plan to test and compare these techniques?_**<br><br>\n",
    "<img src=\"./reranking_workflow.png\" alt=\"Flowchart\" width=\"700\" /><br><br>\n",
    "The approach is pretty straight forward here and the main area where the changes take place compared to vanilla RAG is at the last stage where an LLM is prompted to retrieve the top-L indexes from the final retrieved set of chunks. Teh workflow is as follows:<br>\n",
    "1. The document data is extracted, specifically text and tabular data. \n",
    "2. These data are stored in a way where the sequence is maintained, that way there will be more context for a certain text that may have a table before or after it. \n",
    "3. This set is chunked and converted to BERT based vector embeddings. BERT was chosen because from what I know, they can represent these chunks in a very context aware fashion, thanks to the utilization os the encoder of a transformers. \n",
    "4. Now the query is also converted to BERT based embeddings and using cosine similarity, the top-K chunks are retrieved.\n",
    "5. Now these chunks, along with the query and chunk IDs is passed into an LLM for further ranking. \n",
    "6. The LLM returns a list of IDs of the top-L relevant chunks (L < K). \n",
    "7. The chunks are retrieved from the original set of chunks using these L indexes.\n",
    "8. This set of chunks, which acts as context, along with the query, is passed into a new LLM for a refined information retrieval."
   ]
  },
  {
   "cell_type": "markdown",
   "id": "b32b26d5",
   "metadata": {},
   "source": [
    "_**Comparison Strategy**_<br>\n",
    "There are possibly two main ways in which we can compare this approach with the Reranking apprach. One is by assessing the top-L retrieved chunks and the other is obviously by assessing the final response from the LLM. "
   ]
  },
  {
   "cell_type": "markdown",
   "id": "7a1d8769",
   "metadata": {},
   "source": [
    "---"
   ]
  },
  {
   "cell_type": "markdown",
   "id": "d0b23167",
   "metadata": {},
   "source": [
    "#### Import libraries"
   ]
  },
  {
   "cell_type": "code",
   "execution_count": null,
   "id": "e1bdf0cd",
   "metadata": {},
   "outputs": [],
   "source": [
    "import fitz # for text extraction\n",
    "import camelot # for table extraction\n",
    "from pathlib import Path\n",
    "from sentence_transformers import SentenceTransformer, util # for semantic vector embedding creation \n",
    "import numpy as np\n",
    "from groq import Groq\n",
    "import os\n",
    "import time\n",
    "import torch\n",
    "import re\n",
    "import ollama"
   ]
  },
  {
   "cell_type": "markdown",
   "id": "cdcafcb5",
   "metadata": {},
   "source": [
    "#### 1. Function to extract texts & tables from PDF\n",
    "The goal is to preserve the sequence, that way there will be more context for a certain text that may have a table before or after it."
   ]
  },
  {
   "cell_type": "code",
   "execution_count": 2,
   "id": "ed97e026",
   "metadata": {},
   "outputs": [],
   "source": [
    "def extract_text_and_tables(pdf_path):\n",
    "\n",
    "    pdf_file = Path(pdf_path)\n",
    "    if not pdf_file.is_file() or pdf_file.suffix.lower() != \".pdf\":\n",
    "        raise FileNotFoundError(\"Provided file path is not a valid PDF.\")\n",
    "\n",
    "    doc = fitz.open(str(pdf_file))\n",
    "    result = []\n",
    "\n",
    "    # text extraction\n",
    "    for page_num, page in enumerate(doc, start = 1):\n",
    "        page_blocks = []\n",
    "\n",
    "        blocks = page.get_text(\"dict\")[\"blocks\"]\n",
    "        for block in blocks:\n",
    "            if block[\"type\"] == 0: # type 0 is text\n",
    "                text_content = \" \".join(\n",
    "                    span[\"text\"] for line in block[\"lines\"] for span in line[\"spans\"]\n",
    "                ).strip()\n",
    "                if text_content:\n",
    "                    y = block[\"bbox\"][1]\n",
    "                    page_blocks.append({\n",
    "                        \"type\": \"TEXT DATA\",\n",
    "                        \"y\": y,\n",
    "                        \"content\": text_content\n",
    "                    })\n",
    "\n",
    "        # table extraction\n",
    "        try:\n",
    "            tables = camelot.read_pdf(str(pdf_file), pages = str(page_num), flavor = 'lattice') # lattice flavor to extract tables\n",
    "        except Exception as e:\n",
    "            print(f\"Failed to read tables on page {page_num}: {e}\")\n",
    "            tables = []\n",
    "\n",
    "        for table in tables:\n",
    "            table_data = table.data\n",
    "            bbox = table._bbox\n",
    "            y = float(bbox[1])\n",
    "            page_blocks.append({\n",
    "                \"type\": \"TABLE DATA\",\n",
    "                \"y\": y,\n",
    "                \"content\": table_data\n",
    "            })\n",
    "\n",
    "        page_blocks.sort(key=lambda b: b[\"y\"]) # sort contents on current page\n",
    "        result.extend(page_blocks) # append content to result list\n",
    "\n",
    "    return result"
   ]
  },
  {
   "cell_type": "code",
   "execution_count": 3,
   "id": "339473b2",
   "metadata": {},
   "outputs": [
    {
     "data": {
      "text/plain": [
       "[{'type': 'TEXT DATA',\n",
       "  'y': 145.75482177734375,\n",
       "  'content': 'Follow the instructions contained herein, in addition to the general precautions to be observed while working. Even if the operator is already familiar with the use of manually operated lathes, it is necessary to: In particular:'},\n",
       " {'type': 'TEXT DATA', 'y': 173.48190307617188, 'content': 'fervi.com'},\n",
       " {'type': 'TEXT DATA',\n",
       "  'y': 188.8348388671875,\n",
       "  'content': '\\uf0b7 Acquire full knowledge of the machine. For safe operation, this manual must be read carefully in order to acquire the necessary knowledge of the machine and to understand: operation, safety devices and all necessary precautions. \\uf0b7 Wear appropriate clothing for the job. The operator must wear appropriate clothing to prevent accidents. \\uf0b7 Maintain the machine with care.'},\n",
       " {'type': 'TEXT DATA',\n",
       "  'y': 312.05987548828125,\n",
       "  'content': 'Risks associated with using the machine'},\n",
       " {'type': 'TEXT DATA',\n",
       "  'y': 342.43487548828125,\n",
       "  'content': 'The machine must only be used by personnel who have been specially trained by authorized personnel.'}]"
      ]
     },
     "execution_count": 3,
     "metadata": {},
     "output_type": "execute_result"
    }
   ],
   "source": [
    "# extract texts and tables from the maual\n",
    "result = extract_text_and_tables(\"manual.pdf\")\n",
    "result[100:105] # few elements from the extracted data"
   ]
  },
  {
   "cell_type": "code",
   "execution_count": 4,
   "id": "152acd00",
   "metadata": {},
   "outputs": [
    {
     "data": {
      "text/plain": [
       "{'type': 'TABLE DATA',\n",
       " 'y': 91.1826731262468,\n",
       " 'content': [['Description (unit of measurement)', 'T999/230V\\nT999/400V'],\n",
       "  ['Centres distance (mm)', '1000'],\n",
       "  ['Spindle hole diameter (mm)', '38'],\n",
       "  ['Maximum swing over the bed (mm)', '320'],\n",
       "  ['Maximum swing over the cross slide (mm)', '198'],\n",
       "  ['Turning diameter over cavity (mm)', ''],\n",
       "  ['Spindle diameter (3 + 3 self centring) (mm)', ''],\n",
       "  ['Spindle connector', ''],\n",
       "  ['No. of spindle speeds', 'm'],\n",
       "  ['Spindle speed (r/min)', ''],\n",
       "  ['No. of metric threads', ''],\n",
       "  ['Range of metric threads (mm)', 'o'],\n",
       "  ['No. of inch threads', ''],\n",
       "  ['Range of inch threads (mm)', ''],\n",
       "  ['Range of longitudinal\\nfeeds (mm)', '00.78- 1.044\\nc'],\n",
       "  ['Range of transverse feeds (mm)', '0.022- 0.298'],\n",
       "  ['Outer diameter of the feed screw (mm)\\n.', '22'],\n",
       "  ['Guide length (mm)\\ni', '1390'],\n",
       "  ['Cross carriage travel (mm)\\nv', '200'],\n",
       "  ['Tailstock sleeve diameter (mm)', '32'],\n",
       "  ['Maximum travel of the tailstock sleeve (mm)\\nr', '80'],\n",
       "  ['Inner taper', 'CM 5'],\n",
       "  ['Tailstock base length (mm)\\ne', '165'],\n",
       "  ['Tailstock base width (mm)', '125'],\n",
       "  ['Steady rest diameter (mm)\\nf', '120'],\n",
       "  ['Dimensions (W x D x H) (mm)', '1820 x 530 x 1350'],\n",
       "  ['Package dimensions (W x D x H) (mm)', '1920 x 840 x 1560'],\n",
       "  ['Weight of machine (kg)', '520'],\n",
       "  ['Voltage / power supply frequency (V / Hz)', '230/50.\\n400 / 50'],\n",
       "  ['Motor power (W)', '1500/1800'],\n",
       "  [\"Acoustic pressure level at operator's workstation\\n(dB(A))\", '84']]}"
      ]
     },
     "execution_count": 4,
     "metadata": {},
     "output_type": "execute_result"
    }
   ],
   "source": [
    "# sample table data\n",
    "result[156]"
   ]
  },
  {
   "cell_type": "code",
   "execution_count": 5,
   "id": "a7d1a0c2",
   "metadata": {},
   "outputs": [],
   "source": [
    "# list formatting by adding labels for text and table\n",
    "final = []\n",
    "for r in result:\n",
    "    s = f\"{r['type']}: {r['content']}\"\n",
    "    final.append(s)"
   ]
  },
  {
   "cell_type": "code",
   "execution_count": 6,
   "id": "fb8019de",
   "metadata": {},
   "outputs": [
    {
     "data": {
      "text/plain": [
       "'TABLE DATA: [[\\'Description (unit of measurement)\\', \\'T999/230V\\\\nT999/400V\\'], [\\'Centres distance (mm)\\', \\'1000\\'], [\\'Spindle hole diameter (mm)\\', \\'38\\'], [\\'Maximum swing over the bed (mm)\\', \\'320\\'], [\\'Maximum swing over the cross slide (mm)\\', \\'198\\'], [\\'Turning diameter over cavity (mm)\\', \\'\\'], [\\'Spindle diameter (3 + 3 self centring) (mm)\\', \\'\\'], [\\'Spindle connector\\', \\'\\'], [\\'No. of spindle speeds\\', \\'m\\'], [\\'Spindle speed (r/min)\\', \\'\\'], [\\'No. of metric threads\\', \\'\\'], [\\'Range of metric threads (mm)\\', \\'o\\'], [\\'No. of inch threads\\', \\'\\'], [\\'Range of inch threads (mm)\\', \\'\\'], [\\'Range of longitudinal\\\\nfeeds (mm)\\', \\'00.78- 1.044\\\\nc\\'], [\\'Range of transverse feeds (mm)\\', \\'0.022- 0.298\\'], [\\'Outer diameter of the feed screw (mm)\\\\n.\\', \\'22\\'], [\\'Guide length (mm)\\\\ni\\', \\'1390\\'], [\\'Cross carriage travel (mm)\\\\nv\\', \\'200\\'], [\\'Tailstock sleeve diameter (mm)\\', \\'32\\'], [\\'Maximum travel of the tailstock sleeve (mm)\\\\nr\\', \\'80\\'], [\\'Inner taper\\', \\'CM 5\\'], [\\'Tailstock base length (mm)\\\\ne\\', \\'165\\'], [\\'Tailstock base width (mm)\\', \\'125\\'], [\\'Steady rest diameter (mm)\\\\nf\\', \\'120\\'], [\\'Dimensions (W x D x H) (mm)\\', \\'1820 x 530 x 1350\\'], [\\'Package dimensions (W x D x H) (mm)\\', \\'1920 x 840 x 1560\\'], [\\'Weight of machine (kg)\\', \\'520\\'], [\\'Voltage / power supply frequency (V / Hz)\\', \\'230/50.\\\\n400 / 50\\'], [\\'Motor power (W)\\', \\'1500/1800\\'], [\"Acoustic pressure level at operator\\'s workstation\\\\n(dB(A))\", \\'84\\']]'"
      ]
     },
     "execution_count": 6,
     "metadata": {},
     "output_type": "execute_result"
    }
   ],
   "source": [
    "# table data sample after flattening\n",
    "final[156]"
   ]
  },
  {
   "cell_type": "markdown",
   "id": "e498b6d4",
   "metadata": {},
   "source": [
    "It can be seen that the flattened version somewhat preserves the structure of the actual table by keeping each row inside a list. The LLM can hopefully understand this due to the presence of the label 'TABLE DATA' at the start."
   ]
  },
  {
   "cell_type": "markdown",
   "id": "d380b728",
   "metadata": {},
   "source": [
    "### 2. Chunking"
   ]
  },
  {
   "cell_type": "code",
   "execution_count": 7,
   "id": "56cfbd30",
   "metadata": {},
   "outputs": [
    {
     "name": "stdout",
     "output_type": "stream",
     "text": [
      "Number of chunks: 46\n",
      "\n"
     ]
    },
    {
     "data": {
      "text/plain": [
       "'TEXT DATA: 8.3 Levelling the machine TEXT DATA: For this operation, it is recommended to use a precision spirit level (0.001 mm). TEXT DATA: 8.3.1 Preliminary phase TEXT DATA: The preliminary phase serves to eliminate the presence of torsions in the lathe table. Proceed to reset the head by adjusting the relative screws and then locking the tailstock with the relative adjustment screws moving the reference mark to zero. TEXT DATA: fervi.com TEXT DATA: 8.3.2 Transverse levelling of the table TEXT DATA: Position the spirit level in a transverse direction on the lathe guides under the spindle and check the bubble. Position the spirit level in a transverse direction on the table guides under the tailstock and check the bubble. Repeat these operations frequently and, if necessary, make small corrections by screwing and/or unscrewing the adjustable feet below the pallet. TEXT DATA: 8.3.3 Levelling the lathe rails TEXT DATA: Place the level on the sides of the carriage and move it slowly along its entire length while checking that the bubble does not change. If the bubble moves, adjust the adjustable feet until it reaches a uniform level throughout the entire course of the carriage. Periodically check these measurements (at least every six months). TEXT DATA: Levelling the machine perfectly is one of the first and most essential steps to carry out before using the machine.'"
      ]
     },
     "execution_count": 7,
     "metadata": {},
     "output_type": "execute_result"
    }
   ],
   "source": [
    "chunks = [\" \".join(final[i:i+10]) for i in range(0, len(final), 30)]\n",
    "print(f\"Number of chunks: {len(chunks)}\\n\")\n",
    "\n",
    "chunks[15] # sample"
   ]
  },
  {
   "cell_type": "markdown",
   "id": "a309f304",
   "metadata": {},
   "source": [
    "### 3. Creating BERT based vector embeddings"
   ]
  },
  {
   "cell_type": "code",
   "execution_count": 8,
   "id": "af0ade41",
   "metadata": {},
   "outputs": [],
   "source": [
    "model = SentenceTransformer('sentence-transformers/all-mpnet-base-v2')\n",
    "sem_embs = model.encode(chunks, convert_to_tensor = True)"
   ]
  },
  {
   "cell_type": "markdown",
   "id": "c53cde09",
   "metadata": {},
   "source": [
    "### 4. Pipeline to return indeces of top-K chunks that match with the query"
   ]
  },
  {
   "cell_type": "code",
   "execution_count": 9,
   "id": "12b50c1e",
   "metadata": {},
   "outputs": [],
   "source": [
    "def bert_query_pipeline(query, top_k = 5):\n",
    "     \n",
    "    device = sem_embs.device\n",
    "    query_embedding = model.encode(query, convert_to_tensor = True)\n",
    "    cosine_scores = util.cos_sim(query_embedding, sem_embs)[0]\n",
    "    top_indexes = np.argsort(cosine_scores.cpu().numpy())[::-1][:top_k]\n",
    "\n",
    "    return top_indexes"
   ]
  },
  {
   "cell_type": "code",
   "execution_count": null,
   "id": "63541914",
   "metadata": {},
   "outputs": [],
   "source": [
    "# query = 'What are some general safety rules when using machine equipment?'\n",
    "query = 'What does the manual say about unplugging the power cord of the machine from the power outlet?'"
   ]
  },
  {
   "cell_type": "code",
   "execution_count": null,
   "id": "f45b41d7",
   "metadata": {},
   "outputs": [],
   "source": [
    "# get all chunks from chunks retrived from both implementations\n",
    "\n",
    "bert_top_10_idx = bert_query_pipeline(query)\n",
    "final_idx = list(set(list(bert_top_10_idx)))\n",
    "\n",
    "top_context_chunks = [chunks[idx] for idx in final_idx] \n",
    "\n",
    "# get top embeddings directly from precomputed tensor\n",
    "sem_embs_final = torch.stack([sem_embs[idx] for idx in final_idx])"
   ]
  },
  {
   "cell_type": "markdown",
   "id": "acb4a2e2",
   "metadata": {},
   "source": [
    "### 5. Function to get the final set of chunks"
   ]
  },
  {
   "cell_type": "code",
   "execution_count": 11,
   "id": "3495ef86",
   "metadata": {},
   "outputs": [],
   "source": [
    "def bert_final_idx(query):\n",
    "     \n",
    "    device = sem_embs.device\n",
    "    query_embedding = model.encode(query, convert_to_tensor = True)\n",
    "    cosine_scores = util.cos_sim(query_embedding, sem_embs_final)[0]\n",
    "    indexes = np.argsort(cosine_scores.cpu().numpy())[::-1]\n",
    "\n",
    "    return indexes"
   ]
  },
  {
   "cell_type": "code",
   "execution_count": 12,
   "id": "389429e9",
   "metadata": {},
   "outputs": [],
   "source": [
    "best = bert_final_idx(query)"
   ]
  },
  {
   "cell_type": "markdown",
   "id": "aeeb07f3",
   "metadata": {},
   "source": [
    "### 6. Get final context"
   ]
  },
  {
   "cell_type": "code",
   "execution_count": 13,
   "id": "78bddbbd",
   "metadata": {},
   "outputs": [],
   "source": [
    "context_string = \"\"\n",
    "for idx in best:\n",
    "    context_string += f\"{chunks[idx].strip()} (idx = {idx})\\n\\n\""
   ]
  },
  {
   "cell_type": "code",
   "execution_count": 14,
   "id": "ae640592",
   "metadata": {},
   "outputs": [
    {
     "data": {
      "text/plain": [
       "\"TEXT DATA: 10 OPERATION.46 TEXT DATA: 10.1 Automatic Feed Tool Carriage .49 TEXT DATA: 11 MAINTENANCE .51 TEXT DATA: 11.1 Lubrication.52 TEXT DATA: 11.2 Periodic checks .54 TEXT DATA: 11.3 Adjusting the Machine .54 11.3.1 Adjusting the tension of the motor belts . 54 11.3.2 Tailstock alignment . 55 11.3.3 Spindle alignment . 55 11.3.4 Adjusting the slack of the gears. 56 TEXT DATA: 12 REPLACEMENT PARTS.57 TEXT DATA: 12.1 ACCESSORIES SUPPLIED.80 TEXT DATA: 13 DISPOSAL OF PARTS AND MATERIALS .81 TEXT DATA: 14 TROUBLESHOOTING .82 (idx = 2)\\n\\nTEXT DATA: 2.4 Other provisions .9 TEXT DATA: 3 TECHNICAL SPECIFICATIONS .10 TEXT DATA: 4 DESCRIPTION OF THE MACHINE .11 TEXT DATA: 4.1 Intended use and field of application.11 TEXT DATA: 4.2 Description of the main parts.13 4.2.1 Supporting table . 14 4.2.2 Head and spindle . 14 4.2.3 Spindle speed adjustment levers. 14 4.2.4 Feed speed adjustment panel . 15 4.2.5 Tool holder carriage . 15 4.2.6 Tailstock . 15 4.2.7 Steady rest . 16 4.2.8 Electric control panel . 16 4.2.9 Pedal brake. 16 4.2.10 Rotation reverse lever . 17 TEXT DATA: 4.3 Identification plate .17 TEXT DATA: 4.4 Pictograms and plates.18 TEXT DATA: 5 MACHINE SAFETY DEVICES.19 TEXT DATA: 5.1 Electrical safety devices.19 TEXT DATA: 5.2 Mechanical Safety Devices .20 (idx = 1)\\n\\nTEXT DATA: avoid risky and unnecessary overloading for the operator, which may be harmful for the life of the tools themselves. 16. Do not pick up moving tools or other moving parts. To stop the moving parts on the TEXT DATA: machine, always only use the stop command device. 17. Before performing any measurement of the workpiece mounted on the spindle, turn the TEXT DATA: motor off, unplug it and wait for the spindle to stop. 18. Do not remove the shavings with your hands, even at a standstill. To do this, use tongs TEXT DATA: or a palette knife. 19. When the work tools need to be replaced or the speed needs to be changed, stop the TEXT DATA: motor and wait for the spindle to stop. 20. Do not move away from the machine until the tools and other moving parts, have TEXT DATA: completely stopped. 21. After the work is completed, clean the tool and check its efficiency. 22. Replace worn and/or damaged parts, check that the repairs and protections work TEXT DATA: properly before operating. Eventually, if necessary, have it checked by Service staff. Use only original spare parts. 23.  Unplug the power cord of the machine from the power outlet when: TEXT DATA: \\uf0b7 the machine is not being operated; \\uf0b7 it is left unattended; \\uf0b7 performing maintenance or registration, because the machine does not work properly; \\uf0b7 the power cable is damaged; \\uf0b7 the tool is replaced; \\uf0b7 it is being moved or transported; \\uf0b7 during cleaning operations. 24. It is recommended that users of this publication, for maintenance and repair, have a TEXT DATA: basic knowledge of the mechanical principles and procedures inherent in repair technique. 25.  The company safety officer is required to make sure that machine operators TEXT DATA: have read and understood this manual in its entirety. 26.  Management is responsible for safety and verification of the company's risk (idx = 4)\\n\\nTEXT DATA: The following boxes are designed to attract the attention of the reader / user for the  proper and  safe  use of the machine: TEXT DATA: Pay Attention TEXT DATA: This highlights behavioural rules to prevent damage to the machine and/or the occurrence of dangerous  sit u at ions. TEXT DATA: Residual Risks TEXT DATA: This highlights the presence of dangers that cause residual risks to which the operator must pay attentio n  i n  order to avoid injury or damage to property. TEXT DATA: Page 6 of 84 TEXT DATA: MACHINES AND TEXT DATA: ACCESSORIES TEXT DATA: 2 GENERAL SAFETY WARNINGS TEXT DATA: 2.1 General safety rules for machine equipment (idx = 3)\\n\\nTEXT DATA: OPERATION AND MAINTENANCE MANUAL TEXT DATA: fervi.com TEXT DATA: Bench Lathe Art. T999/230V – T999/230V3A TEXT DATA: Art. T999/400V - T999/400V3A TEXT DATA: TRANSLATION OF THE ORIGINAL INSTRUCTIONS TEXT DATA: MACHINES AND ACCESSORIES TEXT DATA: PREFACE TEXT DATA: Please ensure you have read this manual before operation TEXT DATA: fervi.com TEXT DATA: TRANSLATION OF THE ORIGINAL INSTRUCTIONS It is compulsory to read this instruction manual before starting operation. The guarantee of smooth operation and full performance of the machine is highly dependent on the application of all the instructions contained in this manual. (idx = 0)\\n\\n\""
      ]
     },
     "execution_count": 14,
     "metadata": {},
     "output_type": "execute_result"
    }
   ],
   "source": [
    "# remove unnecessary dots\n",
    "final_context_string = re.sub(r'\\.{2,}', '.', context_string)\n",
    "final_context_string"
   ]
  },
  {
   "cell_type": "markdown",
   "id": "dc03a1ae",
   "metadata": {},
   "source": [
    "### 7. Setting up LLM A that returns indexes of top-L chunks based on the query"
   ]
  },
  {
   "cell_type": "code",
   "execution_count": 15,
   "id": "83e6f52c",
   "metadata": {},
   "outputs": [],
   "source": [
    "def prompt_rank_contexts(query, final_context, top_l = 5):\n",
    "    context_string = \"\"\n",
    "    for i, ctx in enumerate(final_context):\n",
    "        context_string += f\"Context {i+1}:\\n{ctx.strip()}\\n\\n\"\n",
    "\n",
    "    return f\"\"\"\n",
    "        You are a highly skilled AI assistant that ranks technical contexts from a machinery operations and maintenance manual.\n",
    "\n",
    "        Given a user question and several candidate context excerpts from the manual, rank the top-L most relevant ones for answering the question. Relevance means how well the context can be used to answer the question **accurately and directly**.\n",
    "\n",
    "        Each context ends with a tag in the format **(idx = N)**. Use this identifier to reference the context when deciding relevance.\n",
    "\n",
    "        User Question:\n",
    "        {query}\n",
    "\n",
    "        Candidate Contexts:\n",
    "        {context_string}\n",
    "\n",
    "        Return only the `idx` values of the top {top_l} most relevant contexts, in descending order of relevance (most relevant first). Format your response like this:\n",
    "        22, 8, 15, 4, 31\n",
    "        \"\"\"\n",
    "\n",
    "def llm_a(query, final_context): # mistral might not be the best but no option\n",
    "    prompt = prompt_rank_contexts(query, final_context)\n",
    "\n",
    "    try:\n",
    "        response = ollama.generate(\n",
    "            model = 'mistral', \n",
    "            prompt = prompt,\n",
    "            stream = False\n",
    "        )\n",
    "        output = response['response'].strip()\n",
    "\n",
    "        # parse the returned string for integer idx values\n",
    "        ranked_indexes = [int(idx.strip()) for idx in output.split(\",\") if idx.strip().isdigit()]\n",
    "        return ranked_indexes[:5]\n",
    "\n",
    "    except Exception as e:\n",
    "        print(\"Error using Ollama (Python client):\", str(e))\n",
    "        return []"
   ]
  },
  {
   "cell_type": "code",
   "execution_count": 16,
   "id": "dca46f89",
   "metadata": {},
   "outputs": [
    {
     "name": "stdout",
     "output_type": "stream",
     "text": [
      "IDs of top-L chunks are: [22, 8, 15, 4, 31]\n"
     ]
    }
   ],
   "source": [
    "# get ids of top-L chunks\n",
    "top_ids = llm_a(query, final_context_string)\n",
    "print(f\"IDs of top-L chunks are: {top_ids}\")"
   ]
  },
  {
   "cell_type": "markdown",
   "id": "e7b77d02",
   "metadata": {},
   "source": [
    "### 8. Get final context"
   ]
  },
  {
   "cell_type": "code",
   "execution_count": 17,
   "id": "76be8c75",
   "metadata": {},
   "outputs": [],
   "source": [
    "final_context = ''\n",
    "for idx in top_ids:\n",
    "    final_context += chunks[idx]"
   ]
  },
  {
   "cell_type": "code",
   "execution_count": 18,
   "id": "eacd2c30",
   "metadata": {},
   "outputs": [
    {
     "data": {
      "text/plain": [
       "\"TEXT DATA: \\uf0ea TEXT DATA: 0. 0 0 0 X TEXT DATA: Page 38 of 84 TEXT DATA: MACHINES AND TEXT DATA: ACCESSORIES TEXT DATA: 4- D EFAULT DATA The default data allows continuous monitoring of the machining in operation. If, for example, it has a piece as shown in  Figure 29 /a) and you want to get the piece in  Figure 29 /b) you can set all the heights in order to precisely control the actual machining. To set the data, proceed as follows: TEXT DATA: fervi.com TEXT DATA: Figure 29 – Example of machining. - Move the tool to the height A in the Z direction (longitudinal). TEXT DATA: - Press the button TEXT DATA: to set height 5.TEXT DATA: 1 2 TEXT DATA: 22 23 TEXT DATA: Figure 2 – Main parts of the gear head lathe (Art. T999/230V and T999/400V). TEXT DATA: 1 Brake 9 Protective device 17  Tailstock handwheel TEXT DATA: 2 Carriage handwheel 10  Halogen lamp 18  Support bars TEXT DATA: 3 Workbench 11  Turret 19  Lead screw TEXT DATA: 4 Speed switches 12  Coolant tube 20  Turning bar TEXT DATA: 5 Side cover 13  Longitudinal turret travel (mm) TEXT DATA: 21  Bar for lathe activation TEXT DATA: 6 Control panel 14  Micrometer 22  TrayTEXT DATA: 8.3 Levelling the machine TEXT DATA: For this operation, it is recommended to use a precision spirit level (0.001 mm). TEXT DATA: 8.3.1 Preliminary phase TEXT DATA: The preliminary phase serves to eliminate the presence of torsions in the lathe table. Proceed to reset the head by adjusting the relative screws and then locking the tailstock with the relative adjustment screws moving the reference mark to zero. TEXT DATA: fervi.com TEXT DATA: 8.3.2 Transverse levelling of the table TEXT DATA: Position the spirit level in a transverse direction on the lathe guides under the spindle and check the bubble. Position the spirit level in a transverse direction on the table guides under the tailstock and check the bubble. Repeat these operations frequently and, if necessary, make small corrections by screwing and/or unscrewing the adjustable feet below the pallet. TEXT DATA: 8.3.3 Levelling the lathe rails TEXT DATA: Place the level on the sides of the carriage and move it slowly along its entire length while checking that the bubble does not change. If the bubble moves, adjust the adjustable feet until it reaches a uniform level throughout the entire course of the carriage. Periodically check these measurements (at least every six months). TEXT DATA: Levelling the machine perfectly is one of the first and most essential steps to carry out before using the machine.TEXT DATA: avoid risky and unnecessary overloading for the operator, which may be harmful for the life of the tools themselves. 16. Do not pick up moving tools or other moving parts. To stop the moving parts on the TEXT DATA: machine, always only use the stop command device. 17. Before performing any measurement of the workpiece mounted on the spindle, turn the TEXT DATA: motor off, unplug it and wait for the spindle to stop. 18. Do not remove the shavings with your hands, even at a standstill. To do this, use tongs TEXT DATA: or a palette knife. 19. When the work tools need to be replaced or the speed needs to be changed, stop the TEXT DATA: motor and wait for the spindle to stop. 20. Do not move away from the machine until the tools and other moving parts, have TEXT DATA: completely stopped. 21. After the work is completed, clean the tool and check its efficiency. 22. Replace worn and/or damaged parts, check that the repairs and protections work TEXT DATA: properly before operating. Eventually, if necessary, have it checked by Service staff. Use only original spare parts. 23.  Unplug the power cord of the machine from the power outlet when: TEXT DATA: \\uf0b7 the machine is not being operated; \\uf0b7 it is left unattended; \\uf0b7 performing maintenance or registration, because the machine does not work properly; \\uf0b7 the power cable is damaged; \\uf0b7 the tool is replaced; \\uf0b7 it is being moved or transported; \\uf0b7 during cleaning operations. 24. It is recommended that users of this publication, for maintenance and repair, have a TEXT DATA: basic knowledge of the mechanical principles and procedures inherent in repair technique. 25.  The company safety officer is required to make sure that machine operators TEXT DATA: have read and understood this manual in its entirety. 26.  Management is responsible for safety and verification of the company's riskTEXT DATA: 11.3Adjusting the Machine TEXT DATA: 11.3.1 Adjusting the tension of the motor belts TEXT DATA: Make sure the motor belt tension is at an appropriate level. In this regard, make a simple check by pressing down firmly on the individual belts (approximately in the middle), which should move by a maximum of 5 mm. If the belts are loose or too tight, loosen the belt adjustment system bolts until the correct tension is achieved. TABLE DATA: [['Types of oil recommended'], ['Mobil Vectra No. 2'], ['Shell – Tonna – T68/TX68'], ['Chevron – Vistac – 68X'], ['Esso – Febis – K68\\\\nm']] TABLE DATA: [['Ref\\\\n.', 'Parts of the machine', 'Lubricatio\\\\nn point', 'Type\\\\nof\\\\nlubricant', 'Frequency', 'Replacemen\\\\nt frequency'], ['10', 'Carriage rails', '4', 'Oil 20', 'Daily', '/'], ['11', 'Gears for threading', '1', 'Oil 20', 'Level\\\\nindicator', '6 months']] TEXT DATA: Figure 40 – Drive belts. Proper belt tension reduces wear and increases the production of the machine. TEXT DATA: Page 54 of 84 TEXT DATA: MACHINES AND TEXT DATA: ACCESSORIES TEXT DATA: 11.3.2 Tailstock alignment\""
      ]
     },
     "execution_count": 18,
     "metadata": {},
     "output_type": "execute_result"
    }
   ],
   "source": [
    "final_context"
   ]
  },
  {
   "cell_type": "markdown",
   "id": "6b86bc4c",
   "metadata": {},
   "source": [
    "\n",
    "### 9. Setting up LLM B for response generation"
   ]
  },
  {
   "cell_type": "code",
   "execution_count": 1,
   "id": "1d5b69d3",
   "metadata": {},
   "outputs": [],
   "source": [
    "def llm_b(prompt):\n",
    "    client = Groq(\n",
    "        api_key = os.getenv(\"GROQ_API_KEY\"),\n",
    "    )\n",
    "\n",
    "    chat_completion = client.chat.completions.create(\n",
    "        model = \"llama-3.3-70b-versatile\",\n",
    "        # model = \"llama3-70b-8192\",\n",
    "        # model = \"mistral-saba-24b\",\n",
    "        messages = [\n",
    "            {\n",
    "                \"role\": \"system\",\n",
    "                \"content\": \"You are an expert technical assistant specialized in interpreting operations and maintenance manuals for machinery.\"\n",
    "            },\n",
    "            {\n",
    "                \"role\": \"user\",\n",
    "                \"content\": prompt\n",
    "            }\n",
    "        ],\n",
    "        temperature = 0.5,\n",
    "        max_tokens = 5640,\n",
    "        top_p = 1,\n",
    "        stream = True,\n",
    "    )\n",
    "\n",
    "    for chunk in chat_completion:\n",
    "        content = chunk.choices[0].delta.content\n",
    "        if content:\n",
    "            print(content, end = '', flush = True)  # print to console without newline, flush immediately\n",
    "            time.sleep(0.01)  # optional tiny delay for typewriter effect\n",
    "    \n",
    "\n",
    "def prompt(query, context):\n",
    "    return f\"\"\"\n",
    "        You are an expert technical assistant specialized in interpreting operations and maintenance manuals for machinery.\n",
    "\n",
    "        Given the user question and the relevant extracted context from the manual:\n",
    "\n",
    "        - Provide a clear, precise, and factual answer to the question.\n",
    "        - Base your response strictly on the provided context; do not guess beyond it.\n",
    "        - If the context does not contain enough information, indicate that the answer is not available in the manual or that the context is not sufficient.\n",
    "        - Keep the answer professional, concise, and focused on practical instructions.\n",
    "        - Each section of the context begins with a tag: either 'TEXT DATA' or 'TABLE DATA'.\n",
    "        - 'TEXT DATA' represents plain, unstructured text. 'TABLE DATA' represents information extracted from a table and flattened into a list format.\n",
    "        - The 'TABLE DATA' is structured as a list of rows, where each row is a list containing the column values in order. The format is as follows: [[column 1 value, column 2 value, ...], [column 1 value, column 2 value, ...], ...]\n",
    "        \n",
    "        User Question:\n",
    "        {query}\n",
    "\n",
    "        Context from Manual:\n",
    "        {context}\n",
    "        \"\"\""
   ]
  },
  {
   "cell_type": "markdown",
   "id": "58263356",
   "metadata": {},
   "source": [
    "### 10. Inference"
   ]
  },
  {
   "cell_type": "code",
   "execution_count": 20,
   "id": "6beb1679",
   "metadata": {},
   "outputs": [
    {
     "name": "stdout",
     "output_type": "stream",
     "text": [
      "According to the manual, the power cord of the machine should be unplugged from the power outlet in the following situations:\n",
      "\n",
      "1. When the machine is not being operated.\n",
      "2. When the machine is left unattended.\n",
      "3. During maintenance or registration, if the machine does not work properly.\n",
      "4. If the power cable is damaged.\n",
      "5. When the tool is replaced.\n",
      "6. When the machine is being moved or transported.\n",
      "7. During cleaning operations.\n",
      "\n",
      "This information is found in point 23 of the manual."
     ]
    }
   ],
   "source": [
    "prompt = prompt(query, final_context) # go to section number 4 to change query\n",
    "llm_b(prompt)"
   ]
  }
 ],
 "metadata": {
  "kernelspec": {
   "display_name": "Python (py310)",
   "language": "python",
   "name": "py310"
  },
  "language_info": {
   "codemirror_mode": {
    "name": "ipython",
    "version": 3
   },
   "file_extension": ".py",
   "mimetype": "text/x-python",
   "name": "python",
   "nbconvert_exporter": "python",
   "pygments_lexer": "ipython3",
   "version": "3.10.15"
  }
 },
 "nbformat": 4,
 "nbformat_minor": 5
}
