{
 "cells": [
  {
   "cell_type": "markdown",
   "id": "e882c857",
   "metadata": {},
   "source": [
    "### **Reranking based RAG** \n",
    "1. Initial idea was to include images, but very expensive."
   ]
  },
  {
   "cell_type": "markdown",
   "id": "d1215941",
   "metadata": {},
   "source": []
  }
 ],
 "metadata": {
  "language_info": {
   "name": "python"
  }
 },
 "nbformat": 4,
 "nbformat_minor": 5
}
